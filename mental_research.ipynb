{
 "cells": [
  {
   "cell_type": "markdown",
   "id": "abstract-ecuador",
   "metadata": {},
   "source": [
    "### Задачи\n",
    "\n",
    "Доделать QE\n",
    "\n",
    "Построить графики\n",
    "\n",
    "Оформить про уровни депресси\n",
    "\n",
    "Шкалы по TIPI\n",
    "\n",
    "Шкала по VCL\n",
    "\n",
    "Сравнение результатов\n",
    "\n",
    "Зависимость скорости ответа от порядкового номера вопроса"
   ]
  },
  {
   "cell_type": "code",
   "execution_count": 1,
   "id": "expected-gambling",
   "metadata": {},
   "outputs": [],
   "source": [
    "import pandas as pd\n",
    "import seaborn as sns\n",
    "import numpy as np\n",
    "import matplotlib.pyplot as plt"
   ]
  },
  {
   "cell_type": "code",
   "execution_count": 196,
   "id": "hybrid-richards",
   "metadata": {},
   "outputs": [],
   "source": [
    "file1=pd.read_csv('data.csv', sep='\\t')"
   ]
  },
  {
   "cell_type": "markdown",
   "id": "velvet-slope",
   "metadata": {},
   "source": [
    "#### Описание данных\n",
    "\n",
    "**1. Набор ответов на тест Q** (42 вопроса в рандомном порядке, где предлагается оценить, как часто он испытывал предложенные ощущения на протяжении последних 2-х недель)\n",
    "\n",
    "***Q_i_A*** - ответ на i вопрос от 1 до 4, где 1 - никогда, 4 - очень часто или постоянно\n",
    "\n",
    "***Q_i_E*** - количество милисекунд, потраченных на ответ\n",
    "\n",
    "***Q_i_I*** - порядковый номер вопроса для данного участника\n",
    "\n",
    "***introelapse*** The time spent on the introduction/landing page (in seconds) \n",
    "\n",
    "***testelapse***\t\tThe time spent on all the DASS questions (should be equivalent to the time elapsed on all the indiviudal questions combined)\n",
    "\n",
    "***surveyelapse***\tThe time spent answering the rest of the demographic and survey questions\n",
    "\n",
    "**2. Набор ответов на тест TIPI** (10 утверждений, предлагается оценить, насколько учатник согласен с каждым из них, по шкале от 1 - абсолютно не согласен, 7 - абсолютно согласен)\n",
    "\n",
    "**3. Ответы на тест VCL** (предложено 16 слов, предлагается отметить, какие из них участник точно знает)\n",
    "\n",
    "**4. Персональные данные**\n",
    "\n",
    "***education***\t\t\t 1=Less than high school, 2=High school, 3=University degree, 4=Graduate degree\n",
    "\n",
    "***urban (в детстве)***\t\t\t\t 1=Rural (country side), 2=Suburban, 3=Urban (town, city)\n",
    "\n",
    "***gender***\t\t\t\t1=Male, 2=Female, 3=Other\n",
    "\n",
    "***engnat***\t\t\t\t1=Yes, 2=No\n",
    "\n",
    "***age***\t\t\t\t\t\n",
    "\n",
    "***hand***\t\t\t\t1=Right, 2=Left, 3=Both\n",
    "\n",
    "***religion***\t\t\t1=Agnostic, 2=Atheist, 3=Buddhist, 4=Christian (Catholic), 5=Christian (Mormon), 6=Christian (Protestant), 7=Christian (Other), 8=Hindu, 9=Jewish, 10=Muslim, 11=Sikh, 12=Other\n",
    "\n",
    "\n",
    "***race***\t\t\t\t10=Asian, 20=Arab, 30=Black, 40=Indigenous Australian, 50=Native American, 60=White, 70=Other\n",
    "\n",
    "***voted***\t\t\t\t1=Yes, 2=No\n",
    "\n",
    "***married***\t\t\t\t1=Never married, 2=Currently married, 3=Previously married\n",
    "\n",
    "***familysize***\t(количество детей у матери)\t\t\n",
    "\n",
    "***major***\t\t\t\t\n",
    "\n",
    "**5. Технические данные**\n",
    "\n",
    "***country***\t\t\t\t\n",
    "\n",
    "***screensize***\t\t\t1=device with small screen (phone, etc), 2=device with big screen (laptop, desktop, etc)\n",
    "\n",
    "***uniquenetworklocation***\t\t1=only one survey from user's specific network in dataset, 2=multiple surveys submitted from the network of this user  (2 does not necessarily imply duplicate records for an individual, as it could be different students at a single school or different memebers of the same household; and even if 1 there still could be duplicate records from a single individual e.g. if they took it once on their wifi and once on their phone)\n",
    "\n",
    "***source***\t\t\t1=from the front page of the site hosting the survey, 2=from google, 0=other or unknown"
   ]
  },
  {
   "cell_type": "markdown",
   "id": "54a5e458",
   "metadata": {},
   "source": [
    "Проверим наличие пропущенных данных (датасет слишком большой чтобы использовать info())"
   ]
  },
  {
   "cell_type": "code",
   "execution_count": 37,
   "id": "genetic-connecticut",
   "metadata": {},
   "outputs": [
    {
     "data": {
      "text/plain": [
       "(39775, 171)"
      ]
     },
     "execution_count": 37,
     "metadata": {},
     "output_type": "execute_result"
    }
   ],
   "source": [
    "file1.shape"
   ]
  },
  {
   "cell_type": "code",
   "execution_count": 4,
   "id": "integral-wagon",
   "metadata": {},
   "outputs": [
    {
     "data": {
      "text/plain": [
       "100"
      ]
     },
     "execution_count": 4,
     "metadata": {},
     "output_type": "execute_result"
    }
   ],
   "source": [
    "pd.options.display.max_info_columns"
   ]
  },
  {
   "cell_type": "code",
   "execution_count": 5,
   "id": "2c61ff62",
   "metadata": {},
   "outputs": [
    {
     "name": "stdout",
     "output_type": "stream",
     "text": [
      "country 5.02828409805154e-05\n",
      "major 0.2866876178504085\n"
     ]
    }
   ],
   "source": [
    "for col in file1.columns:\n",
    "    a=np.mean(file1[col].isnull())\n",
    "    if a!=0:\n",
    "        print(col, a)"
   ]
  },
  {
   "cell_type": "code",
   "execution_count": 8,
   "id": "liquid-backing",
   "metadata": {},
   "outputs": [
    {
     "name": "stdout",
     "output_type": "stream",
     "text": [
      "<class 'pandas.core.frame.DataFrame'>\n",
      "RangeIndex: 39775 entries, 0 to 39774\n",
      "Data columns (total 2 columns):\n",
      " #   Column   Non-Null Count  Dtype \n",
      "---  ------   --------------  ----- \n",
      " 0   major    28372 non-null  object\n",
      " 1   country  39773 non-null  object\n",
      "dtypes: object(2)\n",
      "memory usage: 621.6+ KB\n"
     ]
    }
   ],
   "source": [
    "file1[['major', 'country']].info()"
   ]
  },
  {
   "cell_type": "code",
   "execution_count": 197,
   "id": "348860bb",
   "metadata": {},
   "outputs": [],
   "source": [
    "file1['major']=file1['major'].fillna('no')\n",
    "file1['country']=file1['country'].fillna('no')"
   ]
  },
  {
   "cell_type": "markdown",
   "id": "edc9d5cc",
   "metadata": {},
   "source": [
    "Проверим выбросы"
   ]
  },
  {
   "cell_type": "code",
   "execution_count": 4,
   "id": "f1f00d33",
   "metadata": {},
   "outputs": [
    {
     "data": {
      "text/plain": [
       "[]"
      ]
     },
     "execution_count": 4,
     "metadata": {},
     "output_type": "execute_result"
    }
   ],
   "source": [
    "bad_ans=[]\n",
    "for col in ['Q'+str(i)+'A' for i in range(1,43)]:\n",
    "    bad_ans+=(list(file1[~file1[col].isin([1,2,3,4])].index))\n",
    "bad_ans #Ответы на тест Q заполнены правильно"
   ]
  },
  {
   "cell_type": "code",
   "execution_count": 219,
   "id": "connected-wagon",
   "metadata": {},
   "outputs": [],
   "source": [
    "file1=pd.read_csv('data.csv', sep='\\t')\n",
    "file1['major']=file1['major'].fillna('no')\n",
    "file1['country']=file1['country'].fillna('no')"
   ]
  },
  {
   "cell_type": "code",
   "execution_count": 198,
   "id": "textile-silly",
   "metadata": {},
   "outputs": [],
   "source": [
    "#Переведём время ответов в секунды\n",
    "file1[['Q'+str(i)+'E' for i in range(1,43)]]=file1[['Q'+str(i)+'E' for i in range(1,43)]]/1000"
   ]
  },
  {
   "cell_type": "code",
   "execution_count": 6,
   "id": "stretch-arbitration",
   "metadata": {},
   "outputs": [
    {
     "data": {
      "text/plain": [
       "count    3.977500e+04\n",
       "mean     2.684843e+03\n",
       "std      1.482418e+05\n",
       "min      1.200000e+01\n",
       "25%      1.650000e+02\n",
       "50%      2.130000e+02\n",
       "75%      2.960000e+02\n",
       "max      2.082972e+07\n",
       "Name: testelapse, dtype: float64"
      ]
     },
     "execution_count": 6,
     "metadata": {},
     "output_type": "execute_result"
    }
   ],
   "source": [
    "file1['testelapse'].describe() #нет отрицательных значений, есть явные выбросы"
   ]
  },
  {
   "cell_type": "code",
   "execution_count": 7,
   "id": "banner-crime",
   "metadata": {},
   "outputs": [
    {
     "data": {
      "text/html": [
       "<div>\n",
       "<style scoped>\n",
       "    .dataframe tbody tr th:only-of-type {\n",
       "        vertical-align: middle;\n",
       "    }\n",
       "\n",
       "    .dataframe tbody tr th {\n",
       "        vertical-align: top;\n",
       "    }\n",
       "\n",
       "    .dataframe thead th {\n",
       "        text-align: right;\n",
       "    }\n",
       "</style>\n",
       "<table border=\"1\" class=\"dataframe\">\n",
       "  <thead>\n",
       "    <tr style=\"text-align: right;\">\n",
       "      <th></th>\n",
       "      <th>Q1E</th>\n",
       "      <th>Q2E</th>\n",
       "      <th>Q3E</th>\n",
       "      <th>Q4E</th>\n",
       "      <th>Q5E</th>\n",
       "      <th>Q6E</th>\n",
       "      <th>Q7E</th>\n",
       "      <th>Q8E</th>\n",
       "      <th>Q9E</th>\n",
       "      <th>Q10E</th>\n",
       "      <th>...</th>\n",
       "      <th>Q33E</th>\n",
       "      <th>Q34E</th>\n",
       "      <th>Q35E</th>\n",
       "      <th>Q36E</th>\n",
       "      <th>Q37E</th>\n",
       "      <th>Q38E</th>\n",
       "      <th>Q39E</th>\n",
       "      <th>Q40E</th>\n",
       "      <th>Q41E</th>\n",
       "      <th>Q42E</th>\n",
       "    </tr>\n",
       "  </thead>\n",
       "  <tbody>\n",
       "    <tr>\n",
       "      <th>count</th>\n",
       "      <td>39775.000000</td>\n",
       "      <td>39775.000000</td>\n",
       "      <td>39775.000000</td>\n",
       "      <td>39775.000000</td>\n",
       "      <td>39775.000000</td>\n",
       "      <td>39775.000000</td>\n",
       "      <td>39775.000000</td>\n",
       "      <td>39775.000000</td>\n",
       "      <td>39775.000000</td>\n",
       "      <td>39775.000000</td>\n",
       "      <td>...</td>\n",
       "      <td>39775.000000</td>\n",
       "      <td>39775.000000</td>\n",
       "      <td>39775.000000</td>\n",
       "      <td>39775.000000</td>\n",
       "      <td>39775.000000</td>\n",
       "      <td>39775.000000</td>\n",
       "      <td>39775.000000</td>\n",
       "      <td>39775.000000</td>\n",
       "      <td>39775.000000</td>\n",
       "      <td>39775.000000</td>\n",
       "    </tr>\n",
       "    <tr>\n",
       "      <th>mean</th>\n",
       "      <td>6.970591</td>\n",
       "      <td>5.332376</td>\n",
       "      <td>7.426446</td>\n",
       "      <td>7.128728</td>\n",
       "      <td>5.919306</td>\n",
       "      <td>5.724097</td>\n",
       "      <td>9.776971</td>\n",
       "      <td>4.444627</td>\n",
       "      <td>18.330829</td>\n",
       "      <td>9.157494</td>\n",
       "      <td>...</td>\n",
       "      <td>5.272239</td>\n",
       "      <td>4.871684</td>\n",
       "      <td>14.105871</td>\n",
       "      <td>4.335748</td>\n",
       "      <td>6.811023</td>\n",
       "      <td>5.838114</td>\n",
       "      <td>8.472124</td>\n",
       "      <td>10.274100</td>\n",
       "      <td>5.540696</td>\n",
       "      <td>8.300695</td>\n",
       "    </tr>\n",
       "    <tr>\n",
       "      <th>std</th>\n",
       "      <td>86.705132</td>\n",
       "      <td>26.513611</td>\n",
       "      <td>158.702353</td>\n",
       "      <td>75.984858</td>\n",
       "      <td>64.282067</td>\n",
       "      <td>50.195831</td>\n",
       "      <td>442.758756</td>\n",
       "      <td>22.916182</td>\n",
       "      <td>1409.724444</td>\n",
       "      <td>418.635469</td>\n",
       "      <td>...</td>\n",
       "      <td>51.466986</td>\n",
       "      <td>108.623401</td>\n",
       "      <td>376.000379</td>\n",
       "      <td>30.703420</td>\n",
       "      <td>76.601331</td>\n",
       "      <td>301.126024</td>\n",
       "      <td>168.614116</td>\n",
       "      <td>320.856859</td>\n",
       "      <td>59.782867</td>\n",
       "      <td>77.650779</td>\n",
       "    </tr>\n",
       "    <tr>\n",
       "      <th>min</th>\n",
       "      <td>0.180000</td>\n",
       "      <td>0.176000</td>\n",
       "      <td>-10.814000</td>\n",
       "      <td>0.176000</td>\n",
       "      <td>0.178000</td>\n",
       "      <td>0.178000</td>\n",
       "      <td>0.178000</td>\n",
       "      <td>0.179000</td>\n",
       "      <td>0.177000</td>\n",
       "      <td>-19.695000</td>\n",
       "      <td>...</td>\n",
       "      <td>0.179000</td>\n",
       "      <td>-1.615000</td>\n",
       "      <td>0.183000</td>\n",
       "      <td>0.178000</td>\n",
       "      <td>-0.165000</td>\n",
       "      <td>-8.921000</td>\n",
       "      <td>-0.144000</td>\n",
       "      <td>0.178000</td>\n",
       "      <td>-0.159000</td>\n",
       "      <td>0.178000</td>\n",
       "    </tr>\n",
       "    <tr>\n",
       "      <th>25%</th>\n",
       "      <td>2.664000</td>\n",
       "      <td>2.477000</td>\n",
       "      <td>2.857000</td>\n",
       "      <td>2.949000</td>\n",
       "      <td>2.327000</td>\n",
       "      <td>2.369000</td>\n",
       "      <td>2.641500</td>\n",
       "      <td>2.104500</td>\n",
       "      <td>4.218000</td>\n",
       "      <td>2.427000</td>\n",
       "      <td>...</td>\n",
       "      <td>2.162000</td>\n",
       "      <td>1.922000</td>\n",
       "      <td>4.317500</td>\n",
       "      <td>1.681000</td>\n",
       "      <td>2.883000</td>\n",
       "      <td>1.897000</td>\n",
       "      <td>2.130500</td>\n",
       "      <td>3.393500</td>\n",
       "      <td>2.237000</td>\n",
       "      <td>3.070000</td>\n",
       "    </tr>\n",
       "    <tr>\n",
       "      <th>50%</th>\n",
       "      <td>3.609000</td>\n",
       "      <td>3.511000</td>\n",
       "      <td>3.898000</td>\n",
       "      <td>4.258000</td>\n",
       "      <td>3.237000</td>\n",
       "      <td>3.248000</td>\n",
       "      <td>3.702000</td>\n",
       "      <td>2.871000</td>\n",
       "      <td>6.139000</td>\n",
       "      <td>3.375000</td>\n",
       "      <td>...</td>\n",
       "      <td>2.993000</td>\n",
       "      <td>2.653000</td>\n",
       "      <td>6.499000</td>\n",
       "      <td>2.254000</td>\n",
       "      <td>4.054000</td>\n",
       "      <td>2.602000</td>\n",
       "      <td>2.930000</td>\n",
       "      <td>4.629000</td>\n",
       "      <td>3.052000</td>\n",
       "      <td>4.373000</td>\n",
       "    </tr>\n",
       "    <tr>\n",
       "      <th>75%</th>\n",
       "      <td>5.358000</td>\n",
       "      <td>5.216000</td>\n",
       "      <td>5.766000</td>\n",
       "      <td>6.285000</td>\n",
       "      <td>4.849000</td>\n",
       "      <td>4.788000</td>\n",
       "      <td>5.362000</td>\n",
       "      <td>4.239500</td>\n",
       "      <td>9.245000</td>\n",
       "      <td>5.027000</td>\n",
       "      <td>...</td>\n",
       "      <td>4.608000</td>\n",
       "      <td>4.003500</td>\n",
       "      <td>10.388000</td>\n",
       "      <td>3.484000</td>\n",
       "      <td>5.924000</td>\n",
       "      <td>3.934500</td>\n",
       "      <td>4.940000</td>\n",
       "      <td>6.733000</td>\n",
       "      <td>4.518000</td>\n",
       "      <td>6.681000</td>\n",
       "    </tr>\n",
       "    <tr>\n",
       "      <th>max</th>\n",
       "      <td>12102.282000</td>\n",
       "      <td>2161.057000</td>\n",
       "      <td>28582.689000</td>\n",
       "      <td>9488.330000</td>\n",
       "      <td>9467.497000</td>\n",
       "      <td>5426.858000</td>\n",
       "      <td>74124.488000</td>\n",
       "      <td>2103.626000</td>\n",
       "      <td>279772.213000</td>\n",
       "      <td>74471.124000</td>\n",
       "      <td>...</td>\n",
       "      <td>8658.903000</td>\n",
       "      <td>21328.973000</td>\n",
       "      <td>72970.668000</td>\n",
       "      <td>4133.123000</td>\n",
       "      <td>12710.289000</td>\n",
       "      <td>59401.008000</td>\n",
       "      <td>31773.217000</td>\n",
       "      <td>56297.555000</td>\n",
       "      <td>8021.110000</td>\n",
       "      <td>7750.098000</td>\n",
       "    </tr>\n",
       "  </tbody>\n",
       "</table>\n",
       "<p>8 rows × 42 columns</p>\n",
       "</div>"
      ],
      "text/plain": [
       "                Q1E           Q2E           Q3E           Q4E           Q5E  \\\n",
       "count  39775.000000  39775.000000  39775.000000  39775.000000  39775.000000   \n",
       "mean       6.970591      5.332376      7.426446      7.128728      5.919306   \n",
       "std       86.705132     26.513611    158.702353     75.984858     64.282067   \n",
       "min        0.180000      0.176000    -10.814000      0.176000      0.178000   \n",
       "25%        2.664000      2.477000      2.857000      2.949000      2.327000   \n",
       "50%        3.609000      3.511000      3.898000      4.258000      3.237000   \n",
       "75%        5.358000      5.216000      5.766000      6.285000      4.849000   \n",
       "max    12102.282000   2161.057000  28582.689000   9488.330000   9467.497000   \n",
       "\n",
       "                Q6E           Q7E           Q8E            Q9E          Q10E  \\\n",
       "count  39775.000000  39775.000000  39775.000000   39775.000000  39775.000000   \n",
       "mean       5.724097      9.776971      4.444627      18.330829      9.157494   \n",
       "std       50.195831    442.758756     22.916182    1409.724444    418.635469   \n",
       "min        0.178000      0.178000      0.179000       0.177000    -19.695000   \n",
       "25%        2.369000      2.641500      2.104500       4.218000      2.427000   \n",
       "50%        3.248000      3.702000      2.871000       6.139000      3.375000   \n",
       "75%        4.788000      5.362000      4.239500       9.245000      5.027000   \n",
       "max     5426.858000  74124.488000   2103.626000  279772.213000  74471.124000   \n",
       "\n",
       "       ...          Q33E          Q34E          Q35E          Q36E  \\\n",
       "count  ...  39775.000000  39775.000000  39775.000000  39775.000000   \n",
       "mean   ...      5.272239      4.871684     14.105871      4.335748   \n",
       "std    ...     51.466986    108.623401    376.000379     30.703420   \n",
       "min    ...      0.179000     -1.615000      0.183000      0.178000   \n",
       "25%    ...      2.162000      1.922000      4.317500      1.681000   \n",
       "50%    ...      2.993000      2.653000      6.499000      2.254000   \n",
       "75%    ...      4.608000      4.003500     10.388000      3.484000   \n",
       "max    ...   8658.903000  21328.973000  72970.668000   4133.123000   \n",
       "\n",
       "               Q37E          Q38E          Q39E          Q40E          Q41E  \\\n",
       "count  39775.000000  39775.000000  39775.000000  39775.000000  39775.000000   \n",
       "mean       6.811023      5.838114      8.472124     10.274100      5.540696   \n",
       "std       76.601331    301.126024    168.614116    320.856859     59.782867   \n",
       "min       -0.165000     -8.921000     -0.144000      0.178000     -0.159000   \n",
       "25%        2.883000      1.897000      2.130500      3.393500      2.237000   \n",
       "50%        4.054000      2.602000      2.930000      4.629000      3.052000   \n",
       "75%        5.924000      3.934500      4.940000      6.733000      4.518000   \n",
       "max    12710.289000  59401.008000  31773.217000  56297.555000   8021.110000   \n",
       "\n",
       "               Q42E  \n",
       "count  39775.000000  \n",
       "mean       8.300695  \n",
       "std       77.650779  \n",
       "min        0.178000  \n",
       "25%        3.070000  \n",
       "50%        4.373000  \n",
       "75%        6.681000  \n",
       "max     7750.098000  \n",
       "\n",
       "[8 rows x 42 columns]"
      ]
     },
     "execution_count": 7,
     "metadata": {},
     "output_type": "execute_result"
    }
   ],
   "source": [
    "file1[['Q'+str(i)+'E' for i in range(1,43)]].describe() #есть отрицательные значения - поменяем на противоположные\n",
    "#есть явные выбросы"
   ]
  },
  {
   "cell_type": "code",
   "execution_count": 199,
   "id": "chicken-attachment",
   "metadata": {},
   "outputs": [],
   "source": [
    "for col in ['Q'+str(i)+'E' for i in range(1,43)]:\n",
    "    mask=(file1[col]<0)\n",
    "    file1.loc[mask, col]*=-1"
   ]
  },
  {
   "cell_type": "code",
   "execution_count": 9,
   "id": "polish-world",
   "metadata": {},
   "outputs": [
    {
     "data": {
      "text/plain": [
       "count    3.977500e+04\n",
       "mean     2.364809e+03\n",
       "std      1.482231e+05\n",
       "min     -2.295600e+01\n",
       "25%      1.030500e+00\n",
       "50%      2.237000e+00\n",
       "75%      1.201700e+01\n",
       "max      2.082853e+07\n",
       "dtype: float64"
      ]
     },
     "execution_count": 9,
     "metadata": {},
     "output_type": "execute_result"
    }
   ],
   "source": [
    "pd.Series(file1['testelapse']-file1[['Q'+str(i)+'E' for i in range(1,43)]].sum(axis=1)).describe()\n",
    "#проверим разницу между реальной длительностью теста и записанной в столбце testelapse"
   ]
  },
  {
   "cell_type": "code",
   "execution_count": 166,
   "id": "persistent-demonstration",
   "metadata": {},
   "outputs": [],
   "source": [
    "#есть отрицательные значения (разница небольшая, проверить сами цифры, если всё ок, то просто пересчитать итоговое)\n",
    "#выделить явные выбросы (где выбросы в критериях и где в итоге)\n",
    "#если одновременные выбросы, поправить медианой время ответа и пересчитать итоговое\n",
    "#если выбросы в ответах, то уменьшить их так, чтобы соответствовали итоговому\n",
    "#если выброс в итоговом, то уменьшить его до реальной суммы"
   ]
  },
  {
   "cell_type": "code",
   "execution_count": 10,
   "id": "moved-storm",
   "metadata": {},
   "outputs": [],
   "source": [
    "file1['time_diff']=file1['testelapse']-file1[['Q'+str(i)+'E' for i in range(1,43)]].sum(axis=1)"
   ]
  },
  {
   "cell_type": "code",
   "execution_count": 11,
   "id": "prostate-neighborhood",
   "metadata": {},
   "outputs": [
    {
     "ename": "NameError",
     "evalue": "name 'qe_names' is not defined",
     "output_type": "error",
     "traceback": [
      "\u001b[1;31m---------------------------------------------------------------------------\u001b[0m",
      "\u001b[1;31mNameError\u001b[0m                                 Traceback (most recent call last)",
      "\u001b[1;32m<ipython-input-11-755d6f452867>\u001b[0m in \u001b[0;36m<module>\u001b[1;34m\u001b[0m\n\u001b[1;32m----> 1\u001b[1;33m \u001b[1;33m(\u001b[0m\u001b[0mfile1\u001b[0m\u001b[1;33m[\u001b[0m\u001b[1;34m'testelapse'\u001b[0m\u001b[1;33m]\u001b[0m\u001b[1;33m-\u001b[0m\u001b[0mfile1\u001b[0m\u001b[1;33m[\u001b[0m\u001b[0mqe_names\u001b[0m\u001b[1;33m[\u001b[0m\u001b[1;33m:\u001b[0m\u001b[1;33m-\u001b[0m\u001b[1;36m1\u001b[0m\u001b[1;33m]\u001b[0m\u001b[1;33m]\u001b[0m\u001b[1;33m.\u001b[0m\u001b[0mmedian\u001b[0m\u001b[1;33m(\u001b[0m\u001b[0maxis\u001b[0m\u001b[1;33m=\u001b[0m\u001b[1;36m1\u001b[0m\u001b[1;33m)\u001b[0m\u001b[1;33m*\u001b[0m\u001b[1;36m42\u001b[0m\u001b[1;33m)\u001b[0m\u001b[1;33m.\u001b[0m\u001b[0mdescribe\u001b[0m\u001b[1;33m(\u001b[0m\u001b[1;33m)\u001b[0m\u001b[1;33m\u001b[0m\u001b[1;33m\u001b[0m\u001b[0m\n\u001b[0m",
      "\u001b[1;31mNameError\u001b[0m: name 'qe_names' is not defined"
     ]
    }
   ],
   "source": [
    "(file1['testelapse']-file1[qe_names[:-1]].median(axis=1)*42).describe()"
   ]
  },
  {
   "cell_type": "code",
   "execution_count": 225,
   "id": "exact-brazil",
   "metadata": {},
   "outputs": [
    {
     "data": {
      "text/html": [
       "<div>\n",
       "<style scoped>\n",
       "    .dataframe tbody tr th:only-of-type {\n",
       "        vertical-align: middle;\n",
       "    }\n",
       "\n",
       "    .dataframe tbody tr th {\n",
       "        vertical-align: top;\n",
       "    }\n",
       "\n",
       "    .dataframe thead th {\n",
       "        text-align: right;\n",
       "    }\n",
       "</style>\n",
       "<table border=\"1\" class=\"dataframe\">\n",
       "  <thead>\n",
       "    <tr style=\"text-align: right;\">\n",
       "      <th></th>\n",
       "      <th>testelapse</th>\n",
       "      <th>time_diff</th>\n",
       "    </tr>\n",
       "  </thead>\n",
       "  <tbody>\n",
       "    <tr>\n",
       "      <th>499</th>\n",
       "      <td>330</td>\n",
       "      <td>0.141</td>\n",
       "    </tr>\n",
       "    <tr>\n",
       "      <th>873</th>\n",
       "      <td>280</td>\n",
       "      <td>0.556</td>\n",
       "    </tr>\n",
       "    <tr>\n",
       "      <th>971</th>\n",
       "      <td>152</td>\n",
       "      <td>0.496</td>\n",
       "    </tr>\n",
       "    <tr>\n",
       "      <th>1507</th>\n",
       "      <td>211</td>\n",
       "      <td>0.104</td>\n",
       "    </tr>\n",
       "    <tr>\n",
       "      <th>1910</th>\n",
       "      <td>118</td>\n",
       "      <td>0.155</td>\n",
       "    </tr>\n",
       "    <tr>\n",
       "      <th>2069</th>\n",
       "      <td>417</td>\n",
       "      <td>0.790</td>\n",
       "    </tr>\n",
       "    <tr>\n",
       "      <th>2236</th>\n",
       "      <td>159</td>\n",
       "      <td>0.193</td>\n",
       "    </tr>\n",
       "    <tr>\n",
       "      <th>2260</th>\n",
       "      <td>688</td>\n",
       "      <td>2.377</td>\n",
       "    </tr>\n",
       "    <tr>\n",
       "      <th>2625</th>\n",
       "      <td>218</td>\n",
       "      <td>1.908</td>\n",
       "    </tr>\n",
       "    <tr>\n",
       "      <th>3590</th>\n",
       "      <td>169</td>\n",
       "      <td>-0.049</td>\n",
       "    </tr>\n",
       "    <tr>\n",
       "      <th>3681</th>\n",
       "      <td>120</td>\n",
       "      <td>1.072</td>\n",
       "    </tr>\n",
       "    <tr>\n",
       "      <th>6054</th>\n",
       "      <td>935</td>\n",
       "      <td>64.082</td>\n",
       "    </tr>\n",
       "    <tr>\n",
       "      <th>7831</th>\n",
       "      <td>200</td>\n",
       "      <td>2.094</td>\n",
       "    </tr>\n",
       "    <tr>\n",
       "      <th>9099</th>\n",
       "      <td>201</td>\n",
       "      <td>2.203</td>\n",
       "    </tr>\n",
       "    <tr>\n",
       "      <th>10673</th>\n",
       "      <td>272</td>\n",
       "      <td>1.834</td>\n",
       "    </tr>\n",
       "    <tr>\n",
       "      <th>12509</th>\n",
       "      <td>149</td>\n",
       "      <td>0.704</td>\n",
       "    </tr>\n",
       "    <tr>\n",
       "      <th>12548</th>\n",
       "      <td>203</td>\n",
       "      <td>1.217</td>\n",
       "    </tr>\n",
       "    <tr>\n",
       "      <th>16512</th>\n",
       "      <td>167</td>\n",
       "      <td>3.706</td>\n",
       "    </tr>\n",
       "    <tr>\n",
       "      <th>16854</th>\n",
       "      <td>146</td>\n",
       "      <td>0.422</td>\n",
       "    </tr>\n",
       "    <tr>\n",
       "      <th>17568</th>\n",
       "      <td>374</td>\n",
       "      <td>0.817</td>\n",
       "    </tr>\n",
       "    <tr>\n",
       "      <th>25692</th>\n",
       "      <td>168</td>\n",
       "      <td>0.965</td>\n",
       "    </tr>\n",
       "    <tr>\n",
       "      <th>31143</th>\n",
       "      <td>115</td>\n",
       "      <td>0.519</td>\n",
       "    </tr>\n",
       "    <tr>\n",
       "      <th>31516</th>\n",
       "      <td>186</td>\n",
       "      <td>0.617</td>\n",
       "    </tr>\n",
       "    <tr>\n",
       "      <th>33164</th>\n",
       "      <td>168</td>\n",
       "      <td>0.784</td>\n",
       "    </tr>\n",
       "    <tr>\n",
       "      <th>35067</th>\n",
       "      <td>224</td>\n",
       "      <td>-0.010</td>\n",
       "    </tr>\n",
       "    <tr>\n",
       "      <th>36283</th>\n",
       "      <td>850</td>\n",
       "      <td>0.591</td>\n",
       "    </tr>\n",
       "    <tr>\n",
       "      <th>37148</th>\n",
       "      <td>180</td>\n",
       "      <td>0.508</td>\n",
       "    </tr>\n",
       "    <tr>\n",
       "      <th>37312</th>\n",
       "      <td>182</td>\n",
       "      <td>0.720</td>\n",
       "    </tr>\n",
       "  </tbody>\n",
       "</table>\n",
       "</div>"
      ],
      "text/plain": [
       "       testelapse  time_diff\n",
       "499           330      0.141\n",
       "873           280      0.556\n",
       "971           152      0.496\n",
       "1507          211      0.104\n",
       "1910          118      0.155\n",
       "2069          417      0.790\n",
       "2236          159      0.193\n",
       "2260          688      2.377\n",
       "2625          218      1.908\n",
       "3590          169     -0.049\n",
       "3681          120      1.072\n",
       "6054          935     64.082\n",
       "7831          200      2.094\n",
       "9099          201      2.203\n",
       "10673         272      1.834\n",
       "12509         149      0.704\n",
       "12548         203      1.217\n",
       "16512         167      3.706\n",
       "16854         146      0.422\n",
       "17568         374      0.817\n",
       "25692         168      0.965\n",
       "31143         115      0.519\n",
       "31516         186      0.617\n",
       "33164         168      0.784\n",
       "35067         224     -0.010\n",
       "36283         850      0.591\n",
       "37148         180      0.508\n",
       "37312         182      0.720"
      ]
     },
     "execution_count": 225,
     "metadata": {},
     "output_type": "execute_result"
    }
   ],
   "source": [
    "mask=(file1['testelapse']-file1[qe_names[:-1]].median(axis=1)*42<0)\n",
    "file1.loc[mask, ['testelapse', 'time_diff']]"
   ]
  },
  {
   "cell_type": "code",
   "execution_count": 226,
   "id": "imperial-prisoner",
   "metadata": {},
   "outputs": [],
   "source": [
    "file1.loc[mask, 'testelapse']=file1.loc[mask, qe_names[:-1]].sum(axis=1)\n",
    "file1.loc[mask, 'time_diff']=0"
   ]
  },
  {
   "cell_type": "code",
   "execution_count": 227,
   "id": "legislative-blair",
   "metadata": {},
   "outputs": [
    {
     "data": {
      "text/html": [
       "<div>\n",
       "<style scoped>\n",
       "    .dataframe tbody tr th:only-of-type {\n",
       "        vertical-align: middle;\n",
       "    }\n",
       "\n",
       "    .dataframe tbody tr th {\n",
       "        vertical-align: top;\n",
       "    }\n",
       "\n",
       "    .dataframe thead th {\n",
       "        text-align: right;\n",
       "    }\n",
       "</style>\n",
       "<table border=\"1\" class=\"dataframe\">\n",
       "  <thead>\n",
       "    <tr style=\"text-align: right;\">\n",
       "      <th></th>\n",
       "      <th>testelapse</th>\n",
       "      <th>time_diff</th>\n",
       "    </tr>\n",
       "  </thead>\n",
       "  <tbody>\n",
       "    <tr>\n",
       "      <th>count</th>\n",
       "      <td>1094.000000</td>\n",
       "      <td>1094.000000</td>\n",
       "    </tr>\n",
       "    <tr>\n",
       "      <th>mean</th>\n",
       "      <td>291.919561</td>\n",
       "      <td>-0.406048</td>\n",
       "    </tr>\n",
       "    <tr>\n",
       "      <th>std</th>\n",
       "      <td>1660.048872</td>\n",
       "      <td>1.417219</td>\n",
       "    </tr>\n",
       "    <tr>\n",
       "      <th>min</th>\n",
       "      <td>12.000000</td>\n",
       "      <td>-22.956000</td>\n",
       "    </tr>\n",
       "    <tr>\n",
       "      <th>25%</th>\n",
       "      <td>134.000000</td>\n",
       "      <td>-0.347500</td>\n",
       "    </tr>\n",
       "    <tr>\n",
       "      <th>50%</th>\n",
       "      <td>171.000000</td>\n",
       "      <td>-0.178500</td>\n",
       "    </tr>\n",
       "    <tr>\n",
       "      <th>75%</th>\n",
       "      <td>227.000000</td>\n",
       "      <td>-0.081250</td>\n",
       "    </tr>\n",
       "    <tr>\n",
       "      <th>max</th>\n",
       "      <td>39421.000000</td>\n",
       "      <td>-0.001000</td>\n",
       "    </tr>\n",
       "  </tbody>\n",
       "</table>\n",
       "</div>"
      ],
      "text/plain": [
       "         testelapse    time_diff\n",
       "count   1094.000000  1094.000000\n",
       "mean     291.919561    -0.406048\n",
       "std     1660.048872     1.417219\n",
       "min       12.000000   -22.956000\n",
       "25%      134.000000    -0.347500\n",
       "50%      171.000000    -0.178500\n",
       "75%      227.000000    -0.081250\n",
       "max    39421.000000    -0.001000"
      ]
     },
     "execution_count": 227,
     "metadata": {},
     "output_type": "execute_result"
    }
   ],
   "source": [
    "mask=(file1['testelapse']-file1[qe_names[:-1]].median(axis=1)*42>0)&(file1['time_diff']<0)\n",
    "file1.loc[mask, ['testelapse', 'time_diff']].describe()\n",
    "#итоговое меньше, чем реальная сумма, но по медиане разница должна быть обратная, то есть в ответах могут быть выбросы"
   ]
  },
  {
   "cell_type": "code",
   "execution_count": 228,
   "id": "fundamental-iraqi",
   "metadata": {},
   "outputs": [],
   "source": [
    "mask2=(file1['testelapse']-file1[qe_names[:-1]].median(axis=1)*42>0)&(file1['time_diff']<0)\\\n",
    "&(file1['time_diff']>=-0.3475)\n",
    "file1.loc[mask2, 'time_diff']=0\n",
    "file1.loc[mask2, 'testelapse']=file1.loc[mask2, qe_names[:-1]].sum(axis=1)"
   ]
  },
  {
   "cell_type": "code",
   "execution_count": 230,
   "id": "civil-studio",
   "metadata": {},
   "outputs": [
    {
     "data": {
      "text/html": [
       "<div>\n",
       "<style scoped>\n",
       "    .dataframe tbody tr th:only-of-type {\n",
       "        vertical-align: middle;\n",
       "    }\n",
       "\n",
       "    .dataframe tbody tr th {\n",
       "        vertical-align: top;\n",
       "    }\n",
       "\n",
       "    .dataframe thead th {\n",
       "        text-align: right;\n",
       "    }\n",
       "</style>\n",
       "<table border=\"1\" class=\"dataframe\">\n",
       "  <thead>\n",
       "    <tr style=\"text-align: right;\">\n",
       "      <th></th>\n",
       "      <th>testelapse</th>\n",
       "      <th>time_diff</th>\n",
       "    </tr>\n",
       "  </thead>\n",
       "  <tbody>\n",
       "    <tr>\n",
       "      <th>count</th>\n",
       "      <td>274.000000</td>\n",
       "      <td>274.000000</td>\n",
       "    </tr>\n",
       "    <tr>\n",
       "      <th>mean</th>\n",
       "      <td>368.587591</td>\n",
       "      <td>-1.201423</td>\n",
       "    </tr>\n",
       "    <tr>\n",
       "      <th>std</th>\n",
       "      <td>2387.904745</td>\n",
       "      <td>2.677247</td>\n",
       "    </tr>\n",
       "    <tr>\n",
       "      <th>min</th>\n",
       "      <td>12.000000</td>\n",
       "      <td>-22.956000</td>\n",
       "    </tr>\n",
       "    <tr>\n",
       "      <th>25%</th>\n",
       "      <td>133.250000</td>\n",
       "      <td>-0.632250</td>\n",
       "    </tr>\n",
       "    <tr>\n",
       "      <th>50%</th>\n",
       "      <td>176.500000</td>\n",
       "      <td>-0.502000</td>\n",
       "    </tr>\n",
       "    <tr>\n",
       "      <th>75%</th>\n",
       "      <td>229.000000</td>\n",
       "      <td>-0.416250</td>\n",
       "    </tr>\n",
       "    <tr>\n",
       "      <th>max</th>\n",
       "      <td>39421.000000</td>\n",
       "      <td>-0.348000</td>\n",
       "    </tr>\n",
       "  </tbody>\n",
       "</table>\n",
       "</div>"
      ],
      "text/plain": [
       "         testelapse   time_diff\n",
       "count    274.000000  274.000000\n",
       "mean     368.587591   -1.201423\n",
       "std     2387.904745    2.677247\n",
       "min       12.000000  -22.956000\n",
       "25%      133.250000   -0.632250\n",
       "50%      176.500000   -0.502000\n",
       "75%      229.000000   -0.416250\n",
       "max    39421.000000   -0.348000"
      ]
     },
     "execution_count": 230,
     "metadata": {},
     "output_type": "execute_result"
    }
   ],
   "source": [
    "mask3=(file1['testelapse']-file1[qe_names[:-1]].median(axis=1)*42>0)&(file1['time_diff']<-0.3475)\n",
    "file1.loc[mask3, ['testelapse','time_diff']].describe()"
   ]
  },
  {
   "cell_type": "code",
   "execution_count": 213,
   "id": "attempted-range",
   "metadata": {},
   "outputs": [
    {
     "data": {
      "text/html": [
       "<div>\n",
       "<style scoped>\n",
       "    .dataframe tbody tr th:only-of-type {\n",
       "        vertical-align: middle;\n",
       "    }\n",
       "\n",
       "    .dataframe tbody tr th {\n",
       "        vertical-align: top;\n",
       "    }\n",
       "\n",
       "    .dataframe thead th {\n",
       "        text-align: right;\n",
       "    }\n",
       "</style>\n",
       "<table border=\"1\" class=\"dataframe\">\n",
       "  <thead>\n",
       "    <tr style=\"text-align: right;\">\n",
       "      <th></th>\n",
       "      <th>testelapse</th>\n",
       "      <th>time_diff</th>\n",
       "    </tr>\n",
       "  </thead>\n",
       "  <tbody>\n",
       "    <tr>\n",
       "      <th>count</th>\n",
       "      <td>0.0</td>\n",
       "      <td>0.0</td>\n",
       "    </tr>\n",
       "    <tr>\n",
       "      <th>mean</th>\n",
       "      <td>NaN</td>\n",
       "      <td>NaN</td>\n",
       "    </tr>\n",
       "    <tr>\n",
       "      <th>std</th>\n",
       "      <td>NaN</td>\n",
       "      <td>NaN</td>\n",
       "    </tr>\n",
       "    <tr>\n",
       "      <th>min</th>\n",
       "      <td>NaN</td>\n",
       "      <td>NaN</td>\n",
       "    </tr>\n",
       "    <tr>\n",
       "      <th>25%</th>\n",
       "      <td>NaN</td>\n",
       "      <td>NaN</td>\n",
       "    </tr>\n",
       "    <tr>\n",
       "      <th>50%</th>\n",
       "      <td>NaN</td>\n",
       "      <td>NaN</td>\n",
       "    </tr>\n",
       "    <tr>\n",
       "      <th>75%</th>\n",
       "      <td>NaN</td>\n",
       "      <td>NaN</td>\n",
       "    </tr>\n",
       "    <tr>\n",
       "      <th>max</th>\n",
       "      <td>NaN</td>\n",
       "      <td>NaN</td>\n",
       "    </tr>\n",
       "  </tbody>\n",
       "</table>\n",
       "</div>"
      ],
      "text/plain": [
       "       testelapse  time_diff\n",
       "count         0.0        0.0\n",
       "mean          NaN        NaN\n",
       "std           NaN        NaN\n",
       "min           NaN        NaN\n",
       "25%           NaN        NaN\n",
       "50%           NaN        NaN\n",
       "75%           NaN        NaN\n",
       "max           NaN        NaN"
      ]
     },
     "execution_count": 213,
     "metadata": {},
     "output_type": "execute_result"
    }
   ],
   "source": [
    "mask=(file1['testelapse']-file1[qe_names[:-1]].median(axis=1)*42<0)&(file1['time_diff']<0)\n",
    "file1.loc[mask, ['testelapse', 'time_diff']].describe()"
   ]
  },
  {
   "cell_type": "code",
   "execution_count": 214,
   "id": "prepared-general",
   "metadata": {},
   "outputs": [
    {
     "data": {
      "text/html": [
       "<div>\n",
       "<style scoped>\n",
       "    .dataframe tbody tr th:only-of-type {\n",
       "        vertical-align: middle;\n",
       "    }\n",
       "\n",
       "    .dataframe tbody tr th {\n",
       "        vertical-align: top;\n",
       "    }\n",
       "\n",
       "    .dataframe thead th {\n",
       "        text-align: right;\n",
       "    }\n",
       "</style>\n",
       "<table border=\"1\" class=\"dataframe\">\n",
       "  <thead>\n",
       "    <tr style=\"text-align: right;\">\n",
       "      <th></th>\n",
       "      <th>testelapse</th>\n",
       "      <th>time_diff</th>\n",
       "    </tr>\n",
       "  </thead>\n",
       "  <tbody>\n",
       "    <tr>\n",
       "      <th>count</th>\n",
       "      <td>3.865200e+04</td>\n",
       "      <td>3.865200e+04</td>\n",
       "    </tr>\n",
       "    <tr>\n",
       "      <th>mean</th>\n",
       "      <td>2.754386e+03</td>\n",
       "      <td>2.433526e+03</td>\n",
       "    </tr>\n",
       "    <tr>\n",
       "      <th>std</th>\n",
       "      <td>1.503791e+05</td>\n",
       "      <td>1.503605e+05</td>\n",
       "    </tr>\n",
       "    <tr>\n",
       "      <th>min</th>\n",
       "      <td>1.300000e+01</td>\n",
       "      <td>2.842171e-14</td>\n",
       "    </tr>\n",
       "    <tr>\n",
       "      <th>25%</th>\n",
       "      <td>1.660000e+02</td>\n",
       "      <td>1.101000e+00</td>\n",
       "    </tr>\n",
       "    <tr>\n",
       "      <th>50%</th>\n",
       "      <td>2.150000e+02</td>\n",
       "      <td>2.418000e+00</td>\n",
       "    </tr>\n",
       "    <tr>\n",
       "      <th>75%</th>\n",
       "      <td>2.980000e+02</td>\n",
       "      <td>1.252325e+01</td>\n",
       "    </tr>\n",
       "    <tr>\n",
       "      <th>max</th>\n",
       "      <td>2.082972e+07</td>\n",
       "      <td>2.082853e+07</td>\n",
       "    </tr>\n",
       "  </tbody>\n",
       "</table>\n",
       "</div>"
      ],
      "text/plain": [
       "         testelapse     time_diff\n",
       "count  3.865200e+04  3.865200e+04\n",
       "mean   2.754386e+03  2.433526e+03\n",
       "std    1.503791e+05  1.503605e+05\n",
       "min    1.300000e+01  2.842171e-14\n",
       "25%    1.660000e+02  1.101000e+00\n",
       "50%    2.150000e+02  2.418000e+00\n",
       "75%    2.980000e+02  1.252325e+01\n",
       "max    2.082972e+07  2.082853e+07"
      ]
     },
     "execution_count": 214,
     "metadata": {},
     "output_type": "execute_result"
    }
   ],
   "source": [
    "mask=(file1['testelapse']-file1[qe_names[:-1]].median(axis=1)*42>0)&(file1['time_diff']>0)\n",
    "file1.loc[mask, ['testelapse', 'time_diff']].describe()\n",
    "#итоговое больше, чем реальная сумма, что соответствует медиане"
   ]
  },
  {
   "cell_type": "code",
   "execution_count": 170,
   "id": "appreciated-temple",
   "metadata": {},
   "outputs": [
    {
     "data": {
      "text/html": [
       "<div>\n",
       "<style scoped>\n",
       "    .dataframe tbody tr th:only-of-type {\n",
       "        vertical-align: middle;\n",
       "    }\n",
       "\n",
       "    .dataframe tbody tr th {\n",
       "        vertical-align: top;\n",
       "    }\n",
       "\n",
       "    .dataframe thead th {\n",
       "        text-align: right;\n",
       "    }\n",
       "</style>\n",
       "<table border=\"1\" class=\"dataframe\">\n",
       "  <thead>\n",
       "    <tr style=\"text-align: right;\">\n",
       "      <th></th>\n",
       "      <th>Q1E</th>\n",
       "      <th>Q2E</th>\n",
       "      <th>Q3E</th>\n",
       "      <th>Q4E</th>\n",
       "      <th>Q5E</th>\n",
       "      <th>Q6E</th>\n",
       "      <th>Q7E</th>\n",
       "      <th>Q8E</th>\n",
       "      <th>Q9E</th>\n",
       "      <th>Q10E</th>\n",
       "      <th>...</th>\n",
       "      <th>Q33E</th>\n",
       "      <th>Q34E</th>\n",
       "      <th>Q35E</th>\n",
       "      <th>Q36E</th>\n",
       "      <th>Q37E</th>\n",
       "      <th>Q38E</th>\n",
       "      <th>Q39E</th>\n",
       "      <th>Q40E</th>\n",
       "      <th>Q41E</th>\n",
       "      <th>Q42E</th>\n",
       "    </tr>\n",
       "  </thead>\n",
       "  <tbody>\n",
       "    <tr>\n",
       "      <th>count</th>\n",
       "      <td>1096.000000</td>\n",
       "      <td>1096.000000</td>\n",
       "      <td>1096.000000</td>\n",
       "      <td>1096.000000</td>\n",
       "      <td>1096.000000</td>\n",
       "      <td>1096.000000</td>\n",
       "      <td>1096.000000</td>\n",
       "      <td>1096.000000</td>\n",
       "      <td>1096.000000</td>\n",
       "      <td>1096.000000</td>\n",
       "      <td>...</td>\n",
       "      <td>1096.000000</td>\n",
       "      <td>1096.000000</td>\n",
       "      <td>1096.000000</td>\n",
       "      <td>1096.000000</td>\n",
       "      <td>1096.000000</td>\n",
       "      <td>1096.000000</td>\n",
       "      <td>1096.000000</td>\n",
       "      <td>1096.000000</td>\n",
       "      <td>1096.000000</td>\n",
       "      <td>1096.000000</td>\n",
       "    </tr>\n",
       "    <tr>\n",
       "      <th>mean</th>\n",
       "      <td>6.172005</td>\n",
       "      <td>3.980339</td>\n",
       "      <td>4.769579</td>\n",
       "      <td>5.696216</td>\n",
       "      <td>4.165000</td>\n",
       "      <td>6.279734</td>\n",
       "      <td>38.518156</td>\n",
       "      <td>3.904190</td>\n",
       "      <td>8.387023</td>\n",
       "      <td>4.593430</td>\n",
       "      <td>...</td>\n",
       "      <td>3.682062</td>\n",
       "      <td>3.615909</td>\n",
       "      <td>10.651062</td>\n",
       "      <td>3.191358</td>\n",
       "      <td>5.049151</td>\n",
       "      <td>3.955766</td>\n",
       "      <td>3.893435</td>\n",
       "      <td>5.446676</td>\n",
       "      <td>3.790908</td>\n",
       "      <td>7.086144</td>\n",
       "    </tr>\n",
       "    <tr>\n",
       "      <th>std</th>\n",
       "      <td>34.719311</td>\n",
       "      <td>6.315513</td>\n",
       "      <td>6.333715</td>\n",
       "      <td>17.919276</td>\n",
       "      <td>6.629999</td>\n",
       "      <td>50.264137</td>\n",
       "      <td>1124.174129</td>\n",
       "      <td>17.716611</td>\n",
       "      <td>28.855970</td>\n",
       "      <td>13.302456</td>\n",
       "      <td>...</td>\n",
       "      <td>4.287145</td>\n",
       "      <td>11.585846</td>\n",
       "      <td>79.434323</td>\n",
       "      <td>5.643545</td>\n",
       "      <td>7.533574</td>\n",
       "      <td>16.336082</td>\n",
       "      <td>5.923809</td>\n",
       "      <td>7.185404</td>\n",
       "      <td>5.072471</td>\n",
       "      <td>46.873116</td>\n",
       "    </tr>\n",
       "    <tr>\n",
       "      <th>min</th>\n",
       "      <td>0.192000</td>\n",
       "      <td>0.193000</td>\n",
       "      <td>0.187000</td>\n",
       "      <td>0.188000</td>\n",
       "      <td>0.186000</td>\n",
       "      <td>0.191000</td>\n",
       "      <td>0.185000</td>\n",
       "      <td>0.190000</td>\n",
       "      <td>0.215000</td>\n",
       "      <td>0.187000</td>\n",
       "      <td>...</td>\n",
       "      <td>0.218000</td>\n",
       "      <td>0.216000</td>\n",
       "      <td>0.240000</td>\n",
       "      <td>0.204000</td>\n",
       "      <td>0.226000</td>\n",
       "      <td>0.188000</td>\n",
       "      <td>0.185000</td>\n",
       "      <td>0.188000</td>\n",
       "      <td>0.189000</td>\n",
       "      <td>0.188000</td>\n",
       "    </tr>\n",
       "    <tr>\n",
       "      <th>25%</th>\n",
       "      <td>2.402000</td>\n",
       "      <td>2.092500</td>\n",
       "      <td>2.505000</td>\n",
       "      <td>2.692750</td>\n",
       "      <td>2.174500</td>\n",
       "      <td>2.186750</td>\n",
       "      <td>2.307750</td>\n",
       "      <td>1.936750</td>\n",
       "      <td>3.546250</td>\n",
       "      <td>2.195750</td>\n",
       "      <td>...</td>\n",
       "      <td>2.002750</td>\n",
       "      <td>1.727750</td>\n",
       "      <td>3.658250</td>\n",
       "      <td>1.605500</td>\n",
       "      <td>2.487250</td>\n",
       "      <td>1.762750</td>\n",
       "      <td>1.939750</td>\n",
       "      <td>2.982000</td>\n",
       "      <td>2.029000</td>\n",
       "      <td>2.660250</td>\n",
       "    </tr>\n",
       "    <tr>\n",
       "      <th>50%</th>\n",
       "      <td>3.267000</td>\n",
       "      <td>2.920500</td>\n",
       "      <td>3.475500</td>\n",
       "      <td>3.862500</td>\n",
       "      <td>2.923000</td>\n",
       "      <td>2.953500</td>\n",
       "      <td>3.210500</td>\n",
       "      <td>2.546000</td>\n",
       "      <td>5.100500</td>\n",
       "      <td>2.971500</td>\n",
       "      <td>...</td>\n",
       "      <td>2.682000</td>\n",
       "      <td>2.382000</td>\n",
       "      <td>5.403000</td>\n",
       "      <td>2.130000</td>\n",
       "      <td>3.510500</td>\n",
       "      <td>2.317500</td>\n",
       "      <td>2.534500</td>\n",
       "      <td>4.075000</td>\n",
       "      <td>2.673000</td>\n",
       "      <td>3.709500</td>\n",
       "    </tr>\n",
       "    <tr>\n",
       "      <th>75%</th>\n",
       "      <td>4.749250</td>\n",
       "      <td>4.168250</td>\n",
       "      <td>5.026000</td>\n",
       "      <td>5.785000</td>\n",
       "      <td>4.217250</td>\n",
       "      <td>4.304250</td>\n",
       "      <td>4.796750</td>\n",
       "      <td>3.653500</td>\n",
       "      <td>7.410500</td>\n",
       "      <td>4.437500</td>\n",
       "      <td>...</td>\n",
       "      <td>3.941750</td>\n",
       "      <td>3.409250</td>\n",
       "      <td>8.369750</td>\n",
       "      <td>3.223250</td>\n",
       "      <td>5.031750</td>\n",
       "      <td>3.446250</td>\n",
       "      <td>3.651500</td>\n",
       "      <td>5.658000</td>\n",
       "      <td>3.915000</td>\n",
       "      <td>5.363000</td>\n",
       "    </tr>\n",
       "    <tr>\n",
       "      <th>max</th>\n",
       "      <td>1101.981000</td>\n",
       "      <td>159.912000</td>\n",
       "      <td>113.523000</td>\n",
       "      <td>550.797000</td>\n",
       "      <td>126.897000</td>\n",
       "      <td>1561.265000</td>\n",
       "      <td>37220.816000</td>\n",
       "      <td>573.081000</td>\n",
       "      <td>573.679000</td>\n",
       "      <td>393.702000</td>\n",
       "      <td>...</td>\n",
       "      <td>76.417000</td>\n",
       "      <td>367.022000</td>\n",
       "      <td>2562.937000</td>\n",
       "      <td>140.499000</td>\n",
       "      <td>123.230000</td>\n",
       "      <td>499.906000</td>\n",
       "      <td>101.460000</td>\n",
       "      <td>136.789000</td>\n",
       "      <td>124.768000</td>\n",
       "      <td>1517.125000</td>\n",
       "    </tr>\n",
       "  </tbody>\n",
       "</table>\n",
       "<p>8 rows × 42 columns</p>\n",
       "</div>"
      ],
      "text/plain": [
       "               Q1E          Q2E          Q3E          Q4E          Q5E  \\\n",
       "count  1096.000000  1096.000000  1096.000000  1096.000000  1096.000000   \n",
       "mean      6.172005     3.980339     4.769579     5.696216     4.165000   \n",
       "std      34.719311     6.315513     6.333715    17.919276     6.629999   \n",
       "min       0.192000     0.193000     0.187000     0.188000     0.186000   \n",
       "25%       2.402000     2.092500     2.505000     2.692750     2.174500   \n",
       "50%       3.267000     2.920500     3.475500     3.862500     2.923000   \n",
       "75%       4.749250     4.168250     5.026000     5.785000     4.217250   \n",
       "max    1101.981000   159.912000   113.523000   550.797000   126.897000   \n",
       "\n",
       "               Q6E           Q7E          Q8E          Q9E         Q10E  ...  \\\n",
       "count  1096.000000   1096.000000  1096.000000  1096.000000  1096.000000  ...   \n",
       "mean      6.279734     38.518156     3.904190     8.387023     4.593430  ...   \n",
       "std      50.264137   1124.174129    17.716611    28.855970    13.302456  ...   \n",
       "min       0.191000      0.185000     0.190000     0.215000     0.187000  ...   \n",
       "25%       2.186750      2.307750     1.936750     3.546250     2.195750  ...   \n",
       "50%       2.953500      3.210500     2.546000     5.100500     2.971500  ...   \n",
       "75%       4.304250      4.796750     3.653500     7.410500     4.437500  ...   \n",
       "max    1561.265000  37220.816000   573.081000   573.679000   393.702000  ...   \n",
       "\n",
       "              Q33E         Q34E         Q35E         Q36E         Q37E  \\\n",
       "count  1096.000000  1096.000000  1096.000000  1096.000000  1096.000000   \n",
       "mean      3.682062     3.615909    10.651062     3.191358     5.049151   \n",
       "std       4.287145    11.585846    79.434323     5.643545     7.533574   \n",
       "min       0.218000     0.216000     0.240000     0.204000     0.226000   \n",
       "25%       2.002750     1.727750     3.658250     1.605500     2.487250   \n",
       "50%       2.682000     2.382000     5.403000     2.130000     3.510500   \n",
       "75%       3.941750     3.409250     8.369750     3.223250     5.031750   \n",
       "max      76.417000   367.022000  2562.937000   140.499000   123.230000   \n",
       "\n",
       "              Q38E         Q39E         Q40E         Q41E         Q42E  \n",
       "count  1096.000000  1096.000000  1096.000000  1096.000000  1096.000000  \n",
       "mean      3.955766     3.893435     5.446676     3.790908     7.086144  \n",
       "std      16.336082     5.923809     7.185404     5.072471    46.873116  \n",
       "min       0.188000     0.185000     0.188000     0.189000     0.188000  \n",
       "25%       1.762750     1.939750     2.982000     2.029000     2.660250  \n",
       "50%       2.317500     2.534500     4.075000     2.673000     3.709500  \n",
       "75%       3.446250     3.651500     5.658000     3.915000     5.363000  \n",
       "max     499.906000   101.460000   136.789000   124.768000  1517.125000  \n",
       "\n",
       "[8 rows x 42 columns]"
      ]
     },
     "execution_count": 170,
     "metadata": {},
     "output_type": "execute_result"
    }
   ],
   "source": [
    "qe_names=['Q'+str(i)+'E' for i in range(1,43)]+['testelapse']\n",
    "mask=(file1['time_diff']<0)\n",
    "file1.loc[mask, qe_names[:-1]].describe()"
   ]
  },
  {
   "cell_type": "code",
   "execution_count": null,
   "id": "heated-conservation",
   "metadata": {},
   "outputs": [],
   "source": [
    "pd.Series(file1['testelapse']-file1[['Q'+str(i)+'E' for i in range(1,43)]].sum(axis=1)).sort_values(ascending=False)[:-2000]"
   ]
  },
  {
   "cell_type": "code",
   "execution_count": 144,
   "id": "available-concentration",
   "metadata": {},
   "outputs": [],
   "source": [
    "for col in ['Q'+str(i)+'E' for i in range(1,43)]:\n",
    "    mask=(file1[col]>testelapse_med)\n",
    "    file1.loc[mask, col]=file1.loc[mask,['Q'+str(i)+'E' for i in range(1,43)]].median()"
   ]
  },
  {
   "cell_type": "code",
   "execution_count": 148,
   "id": "outside-breast",
   "metadata": {},
   "outputs": [],
   "source": [
    "p=file1[['Q'+str(i)+'E' for i in range(1,43)]].sum(axis=1).describe()['75%']"
   ]
  },
  {
   "cell_type": "code",
   "execution_count": 157,
   "id": "animated-plymouth",
   "metadata": {},
   "outputs": [
    {
     "data": {
      "text/plain": [
       "count    9.944000e+03\n",
       "mean     7.659767e+03\n",
       "std      2.836790e+05\n",
       "min     -2.273737e-13\n",
       "25%      1.511000e+00\n",
       "50%      4.877000e+00\n",
       "75%      2.875325e+01\n",
       "max      2.082908e+07\n",
       "dtype: float64"
      ]
     },
     "execution_count": 157,
     "metadata": {},
     "output_type": "execute_result"
    }
   ],
   "source": [
    "mask=(file1[['Q'+str(i)+'E' for i in range(1,43)]].sum(axis=1)>p)\n",
    "(file1.loc[mask, 'testelapse']-file1.loc[mask, ['Q'+str(i)+'E' for i in range(1,43)]].sum(axis=1)).describe()"
   ]
  },
  {
   "cell_type": "markdown",
   "id": "a8c75cb3",
   "metadata": {},
   "source": [
    "насколько большими могут быть выбросы???"
   ]
  },
  {
   "cell_type": "code",
   "execution_count": 200,
   "id": "incorporate-amateur",
   "metadata": {},
   "outputs": [],
   "source": [
    "q_i=['Q'+str(i)+'I' for i in range(1,43)]"
   ]
  },
  {
   "cell_type": "code",
   "execution_count": 201,
   "id": "059dda5b",
   "metadata": {},
   "outputs": [
    {
     "data": {
      "text/plain": [
       "(0, 0)"
      ]
     },
     "execution_count": 201,
     "metadata": {},
     "output_type": "execute_result"
    }
   ],
   "source": [
    "sum([file1[file1[col]<1][col].count() for col in q_i]), sum([file1[file1[col]>42][col].count() for col in q_i])\n"
   ]
  },
  {
   "cell_type": "markdown",
   "id": "incorporated-landing",
   "metadata": {},
   "source": [
    "В признаках Q_i_I нет ошибок"
   ]
  },
  {
   "cell_type": "markdown",
   "id": "existing-shannon",
   "metadata": {},
   "source": [
    "___"
   ]
  },
  {
   "cell_type": "code",
   "execution_count": 202,
   "id": "a2a80817",
   "metadata": {},
   "outputs": [
    {
     "data": {
      "text/plain": [
       "5357"
      ]
     },
     "execution_count": 202,
     "metadata": {},
     "output_type": "execute_result"
    }
   ],
   "source": [
    "bad_ans=[]\n",
    "for col in ['TIPI'+str(i) for i in range(1,11)]:\n",
    "    bad_ans+=(list(file1[~file1[col].isin([1,2,3,4,5,6,7])].index))\n",
    "len(bad_ans)"
   ]
  },
  {
   "cell_type": "code",
   "execution_count": 203,
   "id": "numerical-queensland",
   "metadata": {},
   "outputs": [
    {
     "data": {
      "text/plain": [
       "TIPI1  TIPI2  TIPI3  TIPI4  TIPI5  TIPI6  TIPI7  TIPI8  TIPI9  TIPI10\n",
       "0      0      0      0      0      0      0      0      0      0         0.442412\n",
       "3      0      0      0      0      0      0      0      0      0         0.018480\n",
       "1      0      0      0      0      0      0      0      0      0         0.016800\n",
       "0      0      0      6      0      0      0      0      0      0         0.015120\n",
       "                     7      0      0      0      0      0      0         0.015120\n",
       "                                                                           ...   \n",
       "3      4      6      0      6      6      7      5      3      2         0.000187\n",
       "                     6      4      5      5      0      1      4         0.000187\n",
       "                     7      1      1      0      7      3      7         0.000187\n",
       "       5      0      6      2      3      4      5      3      7         0.000187\n",
       "7      7      7      7      7      7      7      7      7      0         0.000187\n",
       "Length: 1124, dtype: float64"
      ]
     },
     "execution_count": 203,
     "metadata": {},
     "output_type": "execute_result"
    }
   ],
   "source": [
    "file1.loc[bad_ans,['TIPI'+str(i) for i in range(1,11)]].value_counts(normalize=True)"
   ]
  },
  {
   "cell_type": "code",
   "execution_count": 204,
   "id": "6ac2f135",
   "metadata": {},
   "outputs": [],
   "source": [
    "ind_to_delete=[]\n",
    "for j in list(set(bad_ans)):\n",
    "    if file1[['TIPI'+str(i) for i in range(1,11)]].iloc[j].value_counts(normalize=True)[0]>=0.4:\n",
    "        ind_to_delete.append(j)\n",
    "file1=file1.drop(ind_to_delete)\n",
    "#удалили записи, где большая часть информации потеряна"
   ]
  },
  {
   "cell_type": "code",
   "execution_count": 205,
   "id": "detected-young",
   "metadata": {},
   "outputs": [],
   "source": [
    "for x in ind_to_delete: bad_ans.remove(x)"
   ]
  },
  {
   "cell_type": "code",
   "execution_count": 206,
   "id": "hollow-referral",
   "metadata": {},
   "outputs": [],
   "source": [
    "for col in ['TIPI'+str(i) for i in range(1,11)]:\n",
    "    mask=(file1[col]==0)\n",
    "    file1.loc[mask, col]=file1.loc[mask, ['TIPI'+str(i) for i in range(1,11)]].median(axis=1)\n",
    "file1.loc[:,['TIPI'+str(i) for i in range(1,11)]]=file1.loc[:,['TIPI'+str(i) for i in range(1,11)]].astype('int')"
   ]
  },
  {
   "cell_type": "code",
   "execution_count": 207,
   "id": "consolidated-implementation",
   "metadata": {},
   "outputs": [
    {
     "data": {
      "text/html": [
       "<div>\n",
       "<style scoped>\n",
       "    .dataframe tbody tr th:only-of-type {\n",
       "        vertical-align: middle;\n",
       "    }\n",
       "\n",
       "    .dataframe tbody tr th {\n",
       "        vertical-align: top;\n",
       "    }\n",
       "\n",
       "    .dataframe thead th {\n",
       "        text-align: right;\n",
       "    }\n",
       "</style>\n",
       "<table border=\"1\" class=\"dataframe\">\n",
       "  <thead>\n",
       "    <tr style=\"text-align: right;\">\n",
       "      <th></th>\n",
       "      <th>TIPI1</th>\n",
       "      <th>TIPI2</th>\n",
       "      <th>TIPI3</th>\n",
       "      <th>TIPI4</th>\n",
       "      <th>TIPI5</th>\n",
       "      <th>TIPI6</th>\n",
       "      <th>TIPI7</th>\n",
       "      <th>TIPI8</th>\n",
       "      <th>TIPI9</th>\n",
       "      <th>TIPI10</th>\n",
       "    </tr>\n",
       "  </thead>\n",
       "  <tbody>\n",
       "    <tr>\n",
       "      <th>count</th>\n",
       "      <td>39272.000000</td>\n",
       "      <td>39272.000000</td>\n",
       "      <td>39272.000000</td>\n",
       "      <td>39272.000000</td>\n",
       "      <td>39272.000000</td>\n",
       "      <td>39272.000000</td>\n",
       "      <td>39272.000000</td>\n",
       "      <td>39272.000000</td>\n",
       "      <td>39272.000000</td>\n",
       "      <td>39272.000000</td>\n",
       "    </tr>\n",
       "    <tr>\n",
       "      <th>mean</th>\n",
       "      <td>3.834080</td>\n",
       "      <td>4.252495</td>\n",
       "      <td>4.811290</td>\n",
       "      <td>5.228967</td>\n",
       "      <td>4.998014</td>\n",
       "      <td>4.909070</td>\n",
       "      <td>5.349027</td>\n",
       "      <td>4.352236</td>\n",
       "      <td>3.689804</td>\n",
       "      <td>3.785038</td>\n",
       "    </tr>\n",
       "    <tr>\n",
       "      <th>std</th>\n",
       "      <td>1.865816</td>\n",
       "      <td>1.763183</td>\n",
       "      <td>1.718157</td>\n",
       "      <td>1.746254</td>\n",
       "      <td>1.637332</td>\n",
       "      <td>1.836151</td>\n",
       "      <td>1.500705</td>\n",
       "      <td>1.901395</td>\n",
       "      <td>1.799584</td>\n",
       "      <td>1.821930</td>\n",
       "    </tr>\n",
       "    <tr>\n",
       "      <th>min</th>\n",
       "      <td>1.000000</td>\n",
       "      <td>1.000000</td>\n",
       "      <td>1.000000</td>\n",
       "      <td>1.000000</td>\n",
       "      <td>1.000000</td>\n",
       "      <td>1.000000</td>\n",
       "      <td>1.000000</td>\n",
       "      <td>1.000000</td>\n",
       "      <td>1.000000</td>\n",
       "      <td>1.000000</td>\n",
       "    </tr>\n",
       "    <tr>\n",
       "      <th>25%</th>\n",
       "      <td>2.000000</td>\n",
       "      <td>3.000000</td>\n",
       "      <td>4.000000</td>\n",
       "      <td>5.000000</td>\n",
       "      <td>4.000000</td>\n",
       "      <td>4.000000</td>\n",
       "      <td>5.000000</td>\n",
       "      <td>3.000000</td>\n",
       "      <td>2.000000</td>\n",
       "      <td>2.000000</td>\n",
       "    </tr>\n",
       "    <tr>\n",
       "      <th>50%</th>\n",
       "      <td>4.000000</td>\n",
       "      <td>5.000000</td>\n",
       "      <td>5.000000</td>\n",
       "      <td>6.000000</td>\n",
       "      <td>5.000000</td>\n",
       "      <td>5.000000</td>\n",
       "      <td>6.000000</td>\n",
       "      <td>5.000000</td>\n",
       "      <td>4.000000</td>\n",
       "      <td>4.000000</td>\n",
       "    </tr>\n",
       "    <tr>\n",
       "      <th>75%</th>\n",
       "      <td>5.000000</td>\n",
       "      <td>6.000000</td>\n",
       "      <td>6.000000</td>\n",
       "      <td>7.000000</td>\n",
       "      <td>6.000000</td>\n",
       "      <td>6.000000</td>\n",
       "      <td>7.000000</td>\n",
       "      <td>6.000000</td>\n",
       "      <td>5.000000</td>\n",
       "      <td>5.000000</td>\n",
       "    </tr>\n",
       "    <tr>\n",
       "      <th>max</th>\n",
       "      <td>7.000000</td>\n",
       "      <td>7.000000</td>\n",
       "      <td>7.000000</td>\n",
       "      <td>7.000000</td>\n",
       "      <td>7.000000</td>\n",
       "      <td>7.000000</td>\n",
       "      <td>7.000000</td>\n",
       "      <td>7.000000</td>\n",
       "      <td>7.000000</td>\n",
       "      <td>7.000000</td>\n",
       "    </tr>\n",
       "  </tbody>\n",
       "</table>\n",
       "</div>"
      ],
      "text/plain": [
       "              TIPI1         TIPI2         TIPI3         TIPI4         TIPI5  \\\n",
       "count  39272.000000  39272.000000  39272.000000  39272.000000  39272.000000   \n",
       "mean       3.834080      4.252495      4.811290      5.228967      4.998014   \n",
       "std        1.865816      1.763183      1.718157      1.746254      1.637332   \n",
       "min        1.000000      1.000000      1.000000      1.000000      1.000000   \n",
       "25%        2.000000      3.000000      4.000000      5.000000      4.000000   \n",
       "50%        4.000000      5.000000      5.000000      6.000000      5.000000   \n",
       "75%        5.000000      6.000000      6.000000      7.000000      6.000000   \n",
       "max        7.000000      7.000000      7.000000      7.000000      7.000000   \n",
       "\n",
       "              TIPI6         TIPI7         TIPI8         TIPI9        TIPI10  \n",
       "count  39272.000000  39272.000000  39272.000000  39272.000000  39272.000000  \n",
       "mean       4.909070      5.349027      4.352236      3.689804      3.785038  \n",
       "std        1.836151      1.500705      1.901395      1.799584      1.821930  \n",
       "min        1.000000      1.000000      1.000000      1.000000      1.000000  \n",
       "25%        4.000000      5.000000      3.000000      2.000000      2.000000  \n",
       "50%        5.000000      6.000000      5.000000      4.000000      4.000000  \n",
       "75%        6.000000      7.000000      6.000000      5.000000      5.000000  \n",
       "max        7.000000      7.000000      7.000000      7.000000      7.000000  "
      ]
     },
     "execution_count": 207,
     "metadata": {},
     "output_type": "execute_result"
    }
   ],
   "source": [
    "file1[['TIPI'+str(i) for i in range(1,11)]].describe()"
   ]
  },
  {
   "cell_type": "markdown",
   "id": "frozen-highland",
   "metadata": {},
   "source": [
    "___"
   ]
  },
  {
   "cell_type": "code",
   "execution_count": 209,
   "id": "classified-computer",
   "metadata": {},
   "outputs": [
    {
     "data": {
      "text/plain": [
       "count    504.0\n",
       "mean       0.0\n",
       "std        0.0\n",
       "min        0.0\n",
       "25%        0.0\n",
       "50%        0.0\n",
       "75%        0.0\n",
       "max        0.0\n",
       "Name: education, dtype: float64"
      ]
     },
     "execution_count": 209,
     "metadata": {},
     "output_type": "execute_result"
    }
   ],
   "source": [
    "mask=(~file1['education'].isin([1,2,3,4]))\n",
    "file1.loc[mask, 'education'].describe()"
   ]
  },
  {
   "cell_type": "code",
   "execution_count": 210,
   "id": "ac31c70c",
   "metadata": {},
   "outputs": [
    {
     "data": {
      "text/plain": [
       "count    39272.000000\n",
       "mean         2.516144\n",
       "std          0.856067\n",
       "min          1.000000\n",
       "25%          2.000000\n",
       "50%          3.000000\n",
       "75%          3.000000\n",
       "max          4.000000\n",
       "Name: education, dtype: float64"
      ]
     },
     "execution_count": 210,
     "metadata": {},
     "output_type": "execute_result"
    }
   ],
   "source": [
    "file1['education']=file1['education'].replace(0,1)\n",
    "file1['education'].describe()"
   ]
  },
  {
   "cell_type": "code",
   "execution_count": 211,
   "id": "26cc740d",
   "metadata": {},
   "outputs": [
    {
     "data": {
      "text/plain": [
       "4"
      ]
     },
     "execution_count": 211,
     "metadata": {},
     "output_type": "execute_result"
    }
   ],
   "source": [
    "bad_ans=[]\n",
    "bad_ans+=(list(file1[file1['age']>150].index))+(list(file1[file1['age']<=0].index))\n",
    "len(bad_ans)"
   ]
  },
  {
   "cell_type": "code",
   "execution_count": 212,
   "id": "sunrise-hamburg",
   "metadata": {},
   "outputs": [
    {
     "data": {
      "text/plain": [
       "5340      223\n",
       "10231    1996\n",
       "30027    1993\n",
       "33730    1991\n",
       "Name: age, dtype: int64"
      ]
     },
     "execution_count": 212,
     "metadata": {},
     "output_type": "execute_result"
    }
   ],
   "source": [
    "mask=((file1['age']>150)|(file1['age']<=0))\n",
    "file1.loc[mask,'age']"
   ]
  },
  {
   "cell_type": "code",
   "execution_count": 213,
   "id": "4086c4de",
   "metadata": {},
   "outputs": [],
   "source": [
    "file1.loc[5340, 'age']=23#видимо ошибка ввода, должно быть 22 или 23\n",
    "mask=((file1['age']>150)&(file1['age']!=223))\n",
    "#3 человека видимо написали свои года рождения"
   ]
  },
  {
   "cell_type": "code",
   "execution_count": 214,
   "id": "alpha-circle",
   "metadata": {},
   "outputs": [],
   "source": [
    "file1.loc[mask,'age']=2023-file1.loc[mask,'age']"
   ]
  },
  {
   "cell_type": "code",
   "execution_count": 215,
   "id": "28af03ed",
   "metadata": {},
   "outputs": [
    {
     "data": {
      "text/plain": [
       "count    39272.000000\n",
       "mean        23.420350\n",
       "std          8.617472\n",
       "min         13.000000\n",
       "25%         18.000000\n",
       "50%         21.000000\n",
       "75%         25.000000\n",
       "max        117.000000\n",
       "Name: age, dtype: float64"
      ]
     },
     "execution_count": 215,
     "metadata": {},
     "output_type": "execute_result"
    }
   ],
   "source": [
    "file1['age'].describe()"
   ]
  },
  {
   "cell_type": "code",
   "execution_count": 282,
   "id": "c2f78922",
   "metadata": {},
   "outputs": [
    {
     "data": {
      "text/plain": [
       "10    0.552098\n",
       "2     0.097576\n",
       "1     0.082374\n",
       "4     0.078326\n",
       "7     0.056962\n",
       "12    0.045452\n",
       "6     0.039137\n",
       "8     0.017544\n",
       "3     0.013394\n",
       "0     0.008810\n",
       "9     0.003616\n",
       "5     0.003081\n",
       "11    0.001630\n",
       "Name: religion, dtype: float64"
      ]
     },
     "execution_count": 282,
     "metadata": {},
     "output_type": "execute_result"
    }
   ],
   "source": [
    "file1.religion.value_counts(normalize=True)"
   ]
  },
  {
   "cell_type": "code",
   "execution_count": 216,
   "id": "1c91ced7",
   "metadata": {},
   "outputs": [],
   "source": [
    "mask=(file1['religion']==0)\n",
    "file1.loc[mask,'religion']=12     "
   ]
  },
  {
   "cell_type": "code",
   "execution_count": 39,
   "id": "6b4d261d",
   "metadata": {},
   "outputs": [
    {
     "data": {
      "text/plain": [
       "[3    0.447647\n",
       " 2    0.334513\n",
       " 1    0.208826\n",
       " 0    0.009014\n",
       " Name: urban, dtype: float64,\n",
       " 2    0.762630\n",
       " 1    0.221863\n",
       " 3    0.013878\n",
       " 0    0.001630\n",
       " Name: gender, dtype: float64,\n",
       " 1    0.873778\n",
       " 2    0.104451\n",
       " 3    0.017442\n",
       " 0    0.004329\n",
       " Name: hand, dtype: float64,\n",
       " 1    0.858907\n",
       " 2    0.109391\n",
       " 3    0.027348\n",
       " 0    0.004354\n",
       " Name: married, dtype: float64]"
      ]
     },
     "execution_count": 39,
     "metadata": {},
     "output_type": "execute_result"
    }
   ],
   "source": [
    "[file1[col].value_counts(normalize=True) for col in ['urban', 'gender','hand', 'married']]"
   ]
  },
  {
   "cell_type": "code",
   "execution_count": 217,
   "id": "0e219172",
   "metadata": {},
   "outputs": [],
   "source": [
    "for col in ['urban', 'gender','hand', 'married']:\n",
    "    file1[col]=file1[col].replace(0, int(file1[col].median()))"
   ]
  },
  {
   "cell_type": "code",
   "execution_count": 42,
   "id": "6859335b",
   "metadata": {},
   "outputs": [
    {
     "data": {
      "text/plain": [
       "[2    0.636229\n",
       " 1    0.362752\n",
       " 0    0.001019\n",
       " Name: engnat, dtype: float64,\n",
       " 2    0.713816\n",
       " 1    0.278672\n",
       " 0    0.007512\n",
       " Name: voted, dtype: float64,\n",
       " 1    0.723569\n",
       " 2    0.276431\n",
       " Name: screensize, dtype: float64,\n",
       " 1    0.800672\n",
       " 2    0.199328\n",
       " Name: uniquenetworklocation, dtype: float64]"
      ]
     },
     "execution_count": 42,
     "metadata": {},
     "output_type": "execute_result"
    }
   ],
   "source": [
    "[file1[col].value_counts(normalize=True) for col in ['engnat', 'voted','screensize','uniquenetworklocation']]"
   ]
  },
  {
   "cell_type": "markdown",
   "id": "8fe18fd3",
   "metadata": {},
   "source": [
    "Для локации и размера экрана всё ок"
   ]
  },
  {
   "cell_type": "code",
   "execution_count": 218,
   "id": "c195c78a",
   "metadata": {},
   "outputs": [],
   "source": [
    "for col in ['engnat', 'voted']:\n",
    "    file1[col]=file1[col].replace(0, int(file1[col].median()))"
   ]
  },
  {
   "cell_type": "code",
   "execution_count": 46,
   "id": "damaged-computer",
   "metadata": {},
   "outputs": [
    {
     "data": {
      "text/plain": [
       "5      4754\n",
       "6      2404\n",
       "7      1218\n",
       "8       664\n",
       "9       325\n",
       "10      192\n",
       "11      108\n",
       "12       54\n",
       "13       18\n",
       "14        8\n",
       "15        6\n",
       "16        5\n",
       "17        3\n",
       "26        1\n",
       "19        1\n",
       "99        1\n",
       "65        1\n",
       "21        1\n",
       "133       1\n",
       "54        1\n",
       "62        1\n",
       "24        1\n",
       "23        1\n",
       "Name: familysize, dtype: int64"
      ]
     },
     "execution_count": 46,
     "metadata": {},
     "output_type": "execute_result"
    }
   ],
   "source": [
    "file1[file1['familysize']>4]['familysize'].value_counts()"
   ]
  },
  {
   "cell_type": "code",
   "execution_count": 219,
   "id": "72edafb0",
   "metadata": {},
   "outputs": [],
   "source": [
    "file1['familysize']=file1['familysize'].replace(list(file1[file1['familysize']>54]['familysize']),\\\n",
    "                                                int(file1['familysize'].median()))"
   ]
  },
  {
   "cell_type": "code",
   "execution_count": 48,
   "id": "b09fa181",
   "metadata": {},
   "outputs": [
    {
     "data": {
      "text/plain": [
       "10    22733\n",
       "60    10612\n",
       "70     4763\n",
       "30      597\n",
       "20      325\n",
       "50      220\n",
       "40       22\n",
       "Name: race, dtype: int64"
      ]
     },
     "execution_count": 48,
     "metadata": {},
     "output_type": "execute_result"
    }
   ],
   "source": [
    "file1.race.value_counts()"
   ]
  },
  {
   "cell_type": "code",
   "execution_count": 49,
   "id": "cde3f8f9",
   "metadata": {},
   "outputs": [
    {
     "data": {
      "text/plain": [
       "0    14312\n",
       "1    13977\n",
       "2    10983\n",
       "Name: source, dtype: int64"
      ]
     },
     "execution_count": 49,
     "metadata": {},
     "output_type": "execute_result"
    }
   ],
   "source": [
    "file1.source.value_counts()"
   ]
  },
  {
   "cell_type": "markdown",
   "id": "eaeb7ed4",
   "metadata": {},
   "source": [
    "Очистили и исправили данные\n",
    "\n",
    "!!!!!\n",
    "$Почистить QiE$"
   ]
  },
  {
   "cell_type": "code",
   "execution_count": 349,
   "id": "different-equation",
   "metadata": {
    "scrolled": true
   },
   "outputs": [
    {
     "data": {
      "text/html": [
       "<div>\n",
       "<style scoped>\n",
       "    .dataframe tbody tr th:only-of-type {\n",
       "        vertical-align: middle;\n",
       "    }\n",
       "\n",
       "    .dataframe tbody tr th {\n",
       "        vertical-align: top;\n",
       "    }\n",
       "\n",
       "    .dataframe thead th {\n",
       "        text-align: right;\n",
       "    }\n",
       "</style>\n",
       "<table border=\"1\" class=\"dataframe\">\n",
       "  <thead>\n",
       "    <tr style=\"text-align: right;\">\n",
       "      <th></th>\n",
       "      <th>Q1E</th>\n",
       "      <th>Q2E</th>\n",
       "      <th>Q3E</th>\n",
       "      <th>Q4E</th>\n",
       "      <th>Q5E</th>\n",
       "      <th>Q6E</th>\n",
       "      <th>Q7E</th>\n",
       "      <th>Q8E</th>\n",
       "      <th>Q9E</th>\n",
       "      <th>Q10E</th>\n",
       "      <th>...</th>\n",
       "      <th>Q33I</th>\n",
       "      <th>Q34I</th>\n",
       "      <th>Q35I</th>\n",
       "      <th>Q36I</th>\n",
       "      <th>Q37I</th>\n",
       "      <th>Q38I</th>\n",
       "      <th>Q39I</th>\n",
       "      <th>Q40I</th>\n",
       "      <th>Q41I</th>\n",
       "      <th>Q42I</th>\n",
       "    </tr>\n",
       "  </thead>\n",
       "  <tbody>\n",
       "    <tr>\n",
       "      <th>14890</th>\n",
       "      <td>22.228</td>\n",
       "      <td>7.331</td>\n",
       "      <td>4.507</td>\n",
       "      <td>2.962</td>\n",
       "      <td>3.060</td>\n",
       "      <td>9.897</td>\n",
       "      <td>4.778</td>\n",
       "      <td>9.275</td>\n",
       "      <td>5.353</td>\n",
       "      <td>2.714</td>\n",
       "      <td>...</td>\n",
       "      <td>13</td>\n",
       "      <td>17</td>\n",
       "      <td>19</td>\n",
       "      <td>39</td>\n",
       "      <td>4</td>\n",
       "      <td>22</td>\n",
       "      <td>14</td>\n",
       "      <td>24</td>\n",
       "      <td>41</td>\n",
       "      <td>23</td>\n",
       "    </tr>\n",
       "    <tr>\n",
       "      <th>14394</th>\n",
       "      <td>5.227</td>\n",
       "      <td>6.216</td>\n",
       "      <td>23.666</td>\n",
       "      <td>5.735</td>\n",
       "      <td>9.496</td>\n",
       "      <td>5.016</td>\n",
       "      <td>5.351</td>\n",
       "      <td>2.665</td>\n",
       "      <td>14.769</td>\n",
       "      <td>3.501</td>\n",
       "      <td>...</td>\n",
       "      <td>41</td>\n",
       "      <td>7</td>\n",
       "      <td>35</td>\n",
       "      <td>26</td>\n",
       "      <td>14</td>\n",
       "      <td>15</td>\n",
       "      <td>20</td>\n",
       "      <td>17</td>\n",
       "      <td>33</td>\n",
       "      <td>24</td>\n",
       "    </tr>\n",
       "    <tr>\n",
       "      <th>30317</th>\n",
       "      <td>1.280</td>\n",
       "      <td>0.297</td>\n",
       "      <td>0.341</td>\n",
       "      <td>0.344</td>\n",
       "      <td>0.357</td>\n",
       "      <td>0.321</td>\n",
       "      <td>0.388</td>\n",
       "      <td>0.334</td>\n",
       "      <td>0.382</td>\n",
       "      <td>0.199</td>\n",
       "      <td>...</td>\n",
       "      <td>6</td>\n",
       "      <td>31</td>\n",
       "      <td>36</td>\n",
       "      <td>21</td>\n",
       "      <td>12</td>\n",
       "      <td>4</td>\n",
       "      <td>26</td>\n",
       "      <td>16</td>\n",
       "      <td>42</td>\n",
       "      <td>22</td>\n",
       "    </tr>\n",
       "    <tr>\n",
       "      <th>34438</th>\n",
       "      <td>45.511</td>\n",
       "      <td>844.028</td>\n",
       "      <td>10.980</td>\n",
       "      <td>3.626</td>\n",
       "      <td>3.562</td>\n",
       "      <td>6.246</td>\n",
       "      <td>7.446</td>\n",
       "      <td>4.619</td>\n",
       "      <td>5.718</td>\n",
       "      <td>19.750</td>\n",
       "      <td>...</td>\n",
       "      <td>8</td>\n",
       "      <td>3</td>\n",
       "      <td>14</td>\n",
       "      <td>33</td>\n",
       "      <td>37</td>\n",
       "      <td>29</td>\n",
       "      <td>35</td>\n",
       "      <td>12</td>\n",
       "      <td>30</td>\n",
       "      <td>41</td>\n",
       "    </tr>\n",
       "    <tr>\n",
       "      <th>1187</th>\n",
       "      <td>6.559</td>\n",
       "      <td>10.445</td>\n",
       "      <td>13.794</td>\n",
       "      <td>6.630</td>\n",
       "      <td>2.198</td>\n",
       "      <td>6.599</td>\n",
       "      <td>7.177</td>\n",
       "      <td>11.354</td>\n",
       "      <td>7.602</td>\n",
       "      <td>4.523</td>\n",
       "      <td>...</td>\n",
       "      <td>17</td>\n",
       "      <td>8</td>\n",
       "      <td>27</td>\n",
       "      <td>7</td>\n",
       "      <td>13</td>\n",
       "      <td>32</td>\n",
       "      <td>33</td>\n",
       "      <td>6</td>\n",
       "      <td>4</td>\n",
       "      <td>19</td>\n",
       "    </tr>\n",
       "    <tr>\n",
       "      <th>...</th>\n",
       "      <td>...</td>\n",
       "      <td>...</td>\n",
       "      <td>...</td>\n",
       "      <td>...</td>\n",
       "      <td>...</td>\n",
       "      <td>...</td>\n",
       "      <td>...</td>\n",
       "      <td>...</td>\n",
       "      <td>...</td>\n",
       "      <td>...</td>\n",
       "      <td>...</td>\n",
       "      <td>...</td>\n",
       "      <td>...</td>\n",
       "      <td>...</td>\n",
       "      <td>...</td>\n",
       "      <td>...</td>\n",
       "      <td>...</td>\n",
       "      <td>...</td>\n",
       "      <td>...</td>\n",
       "      <td>...</td>\n",
       "      <td>...</td>\n",
       "    </tr>\n",
       "    <tr>\n",
       "      <th>7237</th>\n",
       "      <td>5.808</td>\n",
       "      <td>3.141</td>\n",
       "      <td>4.368</td>\n",
       "      <td>3.465</td>\n",
       "      <td>14.827</td>\n",
       "      <td>3.465</td>\n",
       "      <td>3.418</td>\n",
       "      <td>3.479</td>\n",
       "      <td>8.026</td>\n",
       "      <td>3.192</td>\n",
       "      <td>...</td>\n",
       "      <td>6</td>\n",
       "      <td>12</td>\n",
       "      <td>13</td>\n",
       "      <td>26</td>\n",
       "      <td>30</td>\n",
       "      <td>17</td>\n",
       "      <td>9</td>\n",
       "      <td>22</td>\n",
       "      <td>36</td>\n",
       "      <td>31</td>\n",
       "    </tr>\n",
       "    <tr>\n",
       "      <th>25626</th>\n",
       "      <td>3.408</td>\n",
       "      <td>4.858</td>\n",
       "      <td>3.243</td>\n",
       "      <td>2.583</td>\n",
       "      <td>1.574</td>\n",
       "      <td>1.720</td>\n",
       "      <td>6.439</td>\n",
       "      <td>3.887</td>\n",
       "      <td>6.484</td>\n",
       "      <td>2.118</td>\n",
       "      <td>...</td>\n",
       "      <td>10</td>\n",
       "      <td>24</td>\n",
       "      <td>4</td>\n",
       "      <td>37</td>\n",
       "      <td>35</td>\n",
       "      <td>16</td>\n",
       "      <td>11</td>\n",
       "      <td>33</td>\n",
       "      <td>17</td>\n",
       "      <td>22</td>\n",
       "    </tr>\n",
       "    <tr>\n",
       "      <th>26989</th>\n",
       "      <td>4.136</td>\n",
       "      <td>2.337</td>\n",
       "      <td>2.771</td>\n",
       "      <td>2.041</td>\n",
       "      <td>4.724</td>\n",
       "      <td>4.376</td>\n",
       "      <td>6.133</td>\n",
       "      <td>4.393</td>\n",
       "      <td>6.225</td>\n",
       "      <td>3.144</td>\n",
       "      <td>...</td>\n",
       "      <td>4</td>\n",
       "      <td>26</td>\n",
       "      <td>16</td>\n",
       "      <td>22</td>\n",
       "      <td>20</td>\n",
       "      <td>13</td>\n",
       "      <td>35</td>\n",
       "      <td>10</td>\n",
       "      <td>32</td>\n",
       "      <td>6</td>\n",
       "    </tr>\n",
       "    <tr>\n",
       "      <th>13869</th>\n",
       "      <td>2.466</td>\n",
       "      <td>2.233</td>\n",
       "      <td>2.100</td>\n",
       "      <td>3.501</td>\n",
       "      <td>2.283</td>\n",
       "      <td>2.884</td>\n",
       "      <td>2.084</td>\n",
       "      <td>3.083</td>\n",
       "      <td>2.883</td>\n",
       "      <td>1.666</td>\n",
       "      <td>...</td>\n",
       "      <td>35</td>\n",
       "      <td>21</td>\n",
       "      <td>20</td>\n",
       "      <td>16</td>\n",
       "      <td>17</td>\n",
       "      <td>4</td>\n",
       "      <td>25</td>\n",
       "      <td>34</td>\n",
       "      <td>38</td>\n",
       "      <td>19</td>\n",
       "    </tr>\n",
       "    <tr>\n",
       "      <th>21098</th>\n",
       "      <td>3.318</td>\n",
       "      <td>6.149</td>\n",
       "      <td>2.686</td>\n",
       "      <td>6.669</td>\n",
       "      <td>2.701</td>\n",
       "      <td>3.642</td>\n",
       "      <td>4.972</td>\n",
       "      <td>3.262</td>\n",
       "      <td>8.918</td>\n",
       "      <td>4.558</td>\n",
       "      <td>...</td>\n",
       "      <td>30</td>\n",
       "      <td>20</td>\n",
       "      <td>35</td>\n",
       "      <td>19</td>\n",
       "      <td>27</td>\n",
       "      <td>32</td>\n",
       "      <td>7</td>\n",
       "      <td>8</td>\n",
       "      <td>16</td>\n",
       "      <td>34</td>\n",
       "    </tr>\n",
       "  </tbody>\n",
       "</table>\n",
       "<p>39272 rows × 84 columns</p>\n",
       "</div>"
      ],
      "text/plain": [
       "          Q1E      Q2E     Q3E    Q4E     Q5E    Q6E    Q7E     Q8E     Q9E  \\\n",
       "14890  22.228    7.331   4.507  2.962   3.060  9.897  4.778   9.275   5.353   \n",
       "14394   5.227    6.216  23.666  5.735   9.496  5.016  5.351   2.665  14.769   \n",
       "30317   1.280    0.297   0.341  0.344   0.357  0.321  0.388   0.334   0.382   \n",
       "34438  45.511  844.028  10.980  3.626   3.562  6.246  7.446   4.619   5.718   \n",
       "1187    6.559   10.445  13.794  6.630   2.198  6.599  7.177  11.354   7.602   \n",
       "...       ...      ...     ...    ...     ...    ...    ...     ...     ...   \n",
       "7237    5.808    3.141   4.368  3.465  14.827  3.465  3.418   3.479   8.026   \n",
       "25626   3.408    4.858   3.243  2.583   1.574  1.720  6.439   3.887   6.484   \n",
       "26989   4.136    2.337   2.771  2.041   4.724  4.376  6.133   4.393   6.225   \n",
       "13869   2.466    2.233   2.100  3.501   2.283  2.884  2.084   3.083   2.883   \n",
       "21098   3.318    6.149   2.686  6.669   2.701  3.642  4.972   3.262   8.918   \n",
       "\n",
       "         Q10E  ...  Q33I  Q34I  Q35I  Q36I  Q37I  Q38I  Q39I  Q40I  Q41I  Q42I  \n",
       "14890   2.714  ...    13    17    19    39     4    22    14    24    41    23  \n",
       "14394   3.501  ...    41     7    35    26    14    15    20    17    33    24  \n",
       "30317   0.199  ...     6    31    36    21    12     4    26    16    42    22  \n",
       "34438  19.750  ...     8     3    14    33    37    29    35    12    30    41  \n",
       "1187    4.523  ...    17     8    27     7    13    32    33     6     4    19  \n",
       "...       ...  ...   ...   ...   ...   ...   ...   ...   ...   ...   ...   ...  \n",
       "7237    3.192  ...     6    12    13    26    30    17     9    22    36    31  \n",
       "25626   2.118  ...    10    24     4    37    35    16    11    33    17    22  \n",
       "26989   3.144  ...     4    26    16    22    20    13    35    10    32     6  \n",
       "13869   1.666  ...    35    21    20    16    17     4    25    34    38    19  \n",
       "21098   4.558  ...    30    20    35    19    27    32     7     8    16    34  \n",
       "\n",
       "[39272 rows x 84 columns]"
      ]
     },
     "execution_count": 349,
     "metadata": {},
     "output_type": "execute_result"
    }
   ],
   "source": [
    "i=1\n",
    "file1[['Q'+str(_)+'E' for _ in range(1,43)]+['Q'+str(_)+'I' for _ in range(1,43)]].sort_values(by=['Q'+str(_)+'I' for _ in range(1,43)])"
   ]
  },
  {
   "cell_type": "markdown",
   "id": "fleet-simulation",
   "metadata": {},
   "source": [
    "Можно посмотреть, как меняется время ответа на протяжении теста\n",
    "\n",
    "можно посмотреть, сколько в среднем тратят на каждый вопрос\n",
    "\n",
    "Как меняется время ответа на вопрос в зависимости от его номера в тесте"
   ]
  },
  {
   "cell_type": "code",
   "execution_count": 80,
   "id": "tested-rochester",
   "metadata": {},
   "outputs": [],
   "source": [
    "df1=pd.DataFrame({'QE': list(file1.loc[1, ['Q'+str(_)+'E' for _ in range(1,43)]]), 'QI':\\\n",
    "                 list(file1.loc[1, ['Q'+str(_)+'I' for _ in range(1,43)]])}, index=range(1,43))"
   ]
  },
  {
   "cell_type": "code",
   "execution_count": 84,
   "id": "numerical-winter",
   "metadata": {},
   "outputs": [
    {
     "data": {
      "text/plain": [
       "<AxesSubplot:xlabel='QI', ylabel='QE'>"
      ]
     },
     "execution_count": 84,
     "metadata": {},
     "output_type": "execute_result"
    },
    {
     "data": {
      "image/png": "[encoded data removed]",
      "text/plain": [
       "<Figure size 432x288 with 1 Axes>"
      ]
     },
     "metadata": {
      "needs_background": "light"
     },
     "output_type": "display_data"
    }
   ],
   "source": [
    "df2=df1.sort_values(by='QI').copy()\n",
    "df2.plot(kind='scatter', x='QI',y='QE')"
   ]
  },
  {
   "cell_type": "code",
   "execution_count": 313,
   "id": "active-hollow",
   "metadata": {},
   "outputs": [
    {
     "data": {
      "text/plain": [
       "<AxesSubplot:>"
      ]
     },
     "execution_count": 313,
     "metadata": {},
     "output_type": "execute_result"
    },
    {
     "data": {
      "image/png": "[encoded data removed]",
      "text/plain": [
       "<Figure size 864x432 with 1 Axes>"
      ]
     },
     "metadata": {
      "needs_background": "light"
     },
     "output_type": "display_data"
    }
   ],
   "source": [
    "fig=plt.figure(figsize=(12,6))\n",
    "file1['age'].hist(bins=50)"
   ]
  },
  {
   "cell_type": "markdown",
   "id": "universal-terrain",
   "metadata": {},
   "source": [
    "В тестировании в основном участвовала молодёжь \n",
    "\n",
    "Можно сопоставить уровень депрессивности и возраст"
   ]
  },
  {
   "cell_type": "code",
   "execution_count": 85,
   "id": "exclusive-result",
   "metadata": {},
   "outputs": [
    {
     "data": {
      "text/html": [
       "<div>\n",
       "<style scoped>\n",
       "    .dataframe tbody tr th:only-of-type {\n",
       "        vertical-align: middle;\n",
       "    }\n",
       "\n",
       "    .dataframe tbody tr th {\n",
       "        vertical-align: top;\n",
       "    }\n",
       "\n",
       "    .dataframe thead th {\n",
       "        text-align: right;\n",
       "    }\n",
       "</style>\n",
       "<table border=\"1\" class=\"dataframe\">\n",
       "  <thead>\n",
       "    <tr style=\"text-align: right;\">\n",
       "      <th></th>\n",
       "      <th>Q1A</th>\n",
       "      <th>Q1I</th>\n",
       "      <th>Q1E</th>\n",
       "      <th>Q2A</th>\n",
       "      <th>Q2I</th>\n",
       "      <th>Q2E</th>\n",
       "      <th>Q3A</th>\n",
       "      <th>Q3I</th>\n",
       "      <th>Q3E</th>\n",
       "      <th>Q4A</th>\n",
       "      <th>...</th>\n",
       "      <th>Q41A</th>\n",
       "      <th>Q41I</th>\n",
       "      <th>Q41E</th>\n",
       "      <th>Q42A</th>\n",
       "      <th>Q42I</th>\n",
       "      <th>Q42E</th>\n",
       "      <th>introelapse</th>\n",
       "      <th>testelapse</th>\n",
       "      <th>surveyelapse</th>\n",
       "      <th>time_diff</th>\n",
       "    </tr>\n",
       "  </thead>\n",
       "  <tbody>\n",
       "    <tr>\n",
       "      <th>count</th>\n",
       "      <td>39272.000000</td>\n",
       "      <td>39272.000000</td>\n",
       "      <td>39272.000000</td>\n",
       "      <td>39272.000000</td>\n",
       "      <td>39272.000000</td>\n",
       "      <td>39272.000000</td>\n",
       "      <td>39272.000000</td>\n",
       "      <td>39272.000000</td>\n",
       "      <td>39272.000000</td>\n",
       "      <td>39272.000000</td>\n",
       "      <td>...</td>\n",
       "      <td>39272.000000</td>\n",
       "      <td>39272.000000</td>\n",
       "      <td>39272.000000</td>\n",
       "      <td>39272.000000</td>\n",
       "      <td>39272.000000</td>\n",
       "      <td>39272.000000</td>\n",
       "      <td>3.927200e+04</td>\n",
       "      <td>3.927200e+04</td>\n",
       "      <td>3.927200e+04</td>\n",
       "      <td>3.927200e+04</td>\n",
       "    </tr>\n",
       "    <tr>\n",
       "      <th>mean</th>\n",
       "      <td>2.619042</td>\n",
       "      <td>21.553855</td>\n",
       "      <td>6.976773</td>\n",
       "      <td>2.171853</td>\n",
       "      <td>21.263521</td>\n",
       "      <td>5.322752</td>\n",
       "      <td>2.225428</td>\n",
       "      <td>21.597067</td>\n",
       "      <td>7.438817</td>\n",
       "      <td>1.949277</td>\n",
       "      <td>...</td>\n",
       "      <td>1.965726</td>\n",
       "      <td>21.482914</td>\n",
       "      <td>5.525426</td>\n",
       "      <td>2.682496</td>\n",
       "      <td>21.457603</td>\n",
       "      <td>8.300620</td>\n",
       "      <td>2.420454e+03</td>\n",
       "      <td>2.692577e+03</td>\n",
       "      <td>4.724828e+03</td>\n",
       "      <td>2.372435e+03</td>\n",
       "    </tr>\n",
       "    <tr>\n",
       "      <th>std</th>\n",
       "      <td>1.031888</td>\n",
       "      <td>12.128391</td>\n",
       "      <td>87.253659</td>\n",
       "      <td>1.111529</td>\n",
       "      <td>12.125698</td>\n",
       "      <td>26.668834</td>\n",
       "      <td>1.038380</td>\n",
       "      <td>12.115192</td>\n",
       "      <td>159.713363</td>\n",
       "      <td>1.041804</td>\n",
       "      <td>...</td>\n",
       "      <td>1.045840</td>\n",
       "      <td>12.117149</td>\n",
       "      <td>60.148753</td>\n",
       "      <td>1.032240</td>\n",
       "      <td>12.142644</td>\n",
       "      <td>78.128094</td>\n",
       "      <td>1.389723e+05</td>\n",
       "      <td>1.491238e+05</td>\n",
       "      <td>1.853921e+05</td>\n",
       "      <td>1.491052e+05</td>\n",
       "    </tr>\n",
       "    <tr>\n",
       "      <th>min</th>\n",
       "      <td>1.000000</td>\n",
       "      <td>1.000000</td>\n",
       "      <td>0.180000</td>\n",
       "      <td>1.000000</td>\n",
       "      <td>1.000000</td>\n",
       "      <td>0.176000</td>\n",
       "      <td>1.000000</td>\n",
       "      <td>1.000000</td>\n",
       "      <td>0.178000</td>\n",
       "      <td>1.000000</td>\n",
       "      <td>...</td>\n",
       "      <td>1.000000</td>\n",
       "      <td>1.000000</td>\n",
       "      <td>0.159000</td>\n",
       "      <td>1.000000</td>\n",
       "      <td>1.000000</td>\n",
       "      <td>0.178000</td>\n",
       "      <td>0.000000e+00</td>\n",
       "      <td>1.200000e+01</td>\n",
       "      <td>1.000000e+00</td>\n",
       "      <td>-2.295600e+01</td>\n",
       "    </tr>\n",
       "    <tr>\n",
       "      <th>25%</th>\n",
       "      <td>2.000000</td>\n",
       "      <td>11.000000</td>\n",
       "      <td>2.661000</td>\n",
       "      <td>1.000000</td>\n",
       "      <td>11.000000</td>\n",
       "      <td>2.472000</td>\n",
       "      <td>1.000000</td>\n",
       "      <td>11.000000</td>\n",
       "      <td>2.854000</td>\n",
       "      <td>1.000000</td>\n",
       "      <td>...</td>\n",
       "      <td>1.000000</td>\n",
       "      <td>11.000000</td>\n",
       "      <td>2.235000</td>\n",
       "      <td>2.000000</td>\n",
       "      <td>11.000000</td>\n",
       "      <td>3.068000</td>\n",
       "      <td>3.000000e+00</td>\n",
       "      <td>1.640000e+02</td>\n",
       "      <td>1.460000e+02</td>\n",
       "      <td>1.027000e+00</td>\n",
       "    </tr>\n",
       "    <tr>\n",
       "      <th>50%</th>\n",
       "      <td>3.000000</td>\n",
       "      <td>22.000000</td>\n",
       "      <td>3.605000</td>\n",
       "      <td>2.000000</td>\n",
       "      <td>21.000000</td>\n",
       "      <td>3.503000</td>\n",
       "      <td>2.000000</td>\n",
       "      <td>22.000000</td>\n",
       "      <td>3.891000</td>\n",
       "      <td>2.000000</td>\n",
       "      <td>...</td>\n",
       "      <td>2.000000</td>\n",
       "      <td>21.000000</td>\n",
       "      <td>3.048000</td>\n",
       "      <td>3.000000</td>\n",
       "      <td>21.000000</td>\n",
       "      <td>4.369000</td>\n",
       "      <td>7.000000e+00</td>\n",
       "      <td>2.130000e+02</td>\n",
       "      <td>1.860000e+02</td>\n",
       "      <td>2.227500e+00</td>\n",
       "    </tr>\n",
       "    <tr>\n",
       "      <th>75%</th>\n",
       "      <td>4.000000</td>\n",
       "      <td>32.000000</td>\n",
       "      <td>5.353250</td>\n",
       "      <td>3.000000</td>\n",
       "      <td>32.000000</td>\n",
       "      <td>5.202000</td>\n",
       "      <td>3.000000</td>\n",
       "      <td>32.000000</td>\n",
       "      <td>5.753000</td>\n",
       "      <td>3.000000</td>\n",
       "      <td>...</td>\n",
       "      <td>3.000000</td>\n",
       "      <td>32.000000</td>\n",
       "      <td>4.507000</td>\n",
       "      <td>4.000000</td>\n",
       "      <td>32.000000</td>\n",
       "      <td>6.669000</td>\n",
       "      <td>2.000000e+01</td>\n",
       "      <td>2.950000e+02</td>\n",
       "      <td>2.480000e+02</td>\n",
       "      <td>1.199025e+01</td>\n",
       "    </tr>\n",
       "    <tr>\n",
       "      <th>max</th>\n",
       "      <td>4.000000</td>\n",
       "      <td>42.000000</td>\n",
       "      <td>12102.282000</td>\n",
       "      <td>4.000000</td>\n",
       "      <td>42.000000</td>\n",
       "      <td>2161.057000</td>\n",
       "      <td>4.000000</td>\n",
       "      <td>42.000000</td>\n",
       "      <td>28582.689000</td>\n",
       "      <td>4.000000</td>\n",
       "      <td>...</td>\n",
       "      <td>4.000000</td>\n",
       "      <td>42.000000</td>\n",
       "      <td>8021.110000</td>\n",
       "      <td>4.000000</td>\n",
       "      <td>42.000000</td>\n",
       "      <td>7750.098000</td>\n",
       "      <td>2.082974e+07</td>\n",
       "      <td>2.082972e+07</td>\n",
       "      <td>2.082845e+07</td>\n",
       "      <td>2.082853e+07</td>\n",
       "    </tr>\n",
       "  </tbody>\n",
       "</table>\n",
       "<p>8 rows × 130 columns</p>\n",
       "</div>"
      ],
      "text/plain": [
       "                Q1A           Q1I           Q1E           Q2A           Q2I  \\\n",
       "count  39272.000000  39272.000000  39272.000000  39272.000000  39272.000000   \n",
       "mean       2.619042     21.553855      6.976773      2.171853     21.263521   \n",
       "std        1.031888     12.128391     87.253659      1.111529     12.125698   \n",
       "min        1.000000      1.000000      0.180000      1.000000      1.000000   \n",
       "25%        2.000000     11.000000      2.661000      1.000000     11.000000   \n",
       "50%        3.000000     22.000000      3.605000      2.000000     21.000000   \n",
       "75%        4.000000     32.000000      5.353250      3.000000     32.000000   \n",
       "max        4.000000     42.000000  12102.282000      4.000000     42.000000   \n",
       "\n",
       "                Q2E           Q3A           Q3I           Q3E           Q4A  \\\n",
       "count  39272.000000  39272.000000  39272.000000  39272.000000  39272.000000   \n",
       "mean       5.322752      2.225428     21.597067      7.438817      1.949277   \n",
       "std       26.668834      1.038380     12.115192    159.713363      1.041804   \n",
       "min        0.176000      1.000000      1.000000      0.178000      1.000000   \n",
       "25%        2.472000      1.000000     11.000000      2.854000      1.000000   \n",
       "50%        3.503000      2.000000     22.000000      3.891000      2.000000   \n",
       "75%        5.202000      3.000000     32.000000      5.753000      3.000000   \n",
       "max     2161.057000      4.000000     42.000000  28582.689000      4.000000   \n",
       "\n",
       "       ...          Q41A          Q41I          Q41E          Q42A  \\\n",
       "count  ...  39272.000000  39272.000000  39272.000000  39272.000000   \n",
       "mean   ...      1.965726     21.482914      5.525426      2.682496   \n",
       "std    ...      1.045840     12.117149     60.148753      1.032240   \n",
       "min    ...      1.000000      1.000000      0.159000      1.000000   \n",
       "25%    ...      1.000000     11.000000      2.235000      2.000000   \n",
       "50%    ...      2.000000     21.000000      3.048000      3.000000   \n",
       "75%    ...      3.000000     32.000000      4.507000      4.000000   \n",
       "max    ...      4.000000     42.000000   8021.110000      4.000000   \n",
       "\n",
       "               Q42I          Q42E   introelapse    testelapse  surveyelapse  \\\n",
       "count  39272.000000  39272.000000  3.927200e+04  3.927200e+04  3.927200e+04   \n",
       "mean      21.457603      8.300620  2.420454e+03  2.692577e+03  4.724828e+03   \n",
       "std       12.142644     78.128094  1.389723e+05  1.491238e+05  1.853921e+05   \n",
       "min        1.000000      0.178000  0.000000e+00  1.200000e+01  1.000000e+00   \n",
       "25%       11.000000      3.068000  3.000000e+00  1.640000e+02  1.460000e+02   \n",
       "50%       21.000000      4.369000  7.000000e+00  2.130000e+02  1.860000e+02   \n",
       "75%       32.000000      6.669000  2.000000e+01  2.950000e+02  2.480000e+02   \n",
       "max       42.000000   7750.098000  2.082974e+07  2.082972e+07  2.082845e+07   \n",
       "\n",
       "          time_diff  \n",
       "count  3.927200e+04  \n",
       "mean   2.372435e+03  \n",
       "std    1.491052e+05  \n",
       "min   -2.295600e+01  \n",
       "25%    1.027000e+00  \n",
       "50%    2.227500e+00  \n",
       "75%    1.199025e+01  \n",
       "max    2.082853e+07  \n",
       "\n",
       "[8 rows x 130 columns]"
      ]
     },
     "execution_count": 85,
     "metadata": {},
     "output_type": "execute_result"
    }
   ],
   "source": [
    "columns_names=file1.columns\n",
    "scale_q_names=list(columns_names[:126])+['introelapse', 'testelapse', 'surveyelapse','time_diff']\n",
    "scale_q_data=file1[scale_q_names]"
   ]
  },
  {
   "cell_type": "code",
   "execution_count": 86,
   "id": "driven-festival",
   "metadata": {},
   "outputs": [],
   "source": [
    "tech_names=['country', 'source','screensize', 'uniquenetworklocation']\n",
    "data_tech=file1[tech_names]\n",
    "\n",
    "scale_t_names=['TIPI'+str(i) for i in range(1,11)]\n",
    "scale_t_data=file1[scale_t_names]\n",
    "\n",
    "scale_v_names=['VCL'+str(i) for i in range(1,17)]\n",
    "scale_v_data=file1[scale_t_names]\n",
    "\n",
    "personal_info_names=list(columns_names[157:162])+list(columns_names[164:171])\n",
    "personal_info=file1[personal_info_names]"
   ]
  },
  {
   "cell_type": "code",
   "execution_count": 87,
   "id": "d01cbf34",
   "metadata": {},
   "outputs": [
    {
     "data": {
      "text/html": [
       "<div>\n",
       "<style scoped>\n",
       "    .dataframe tbody tr th:only-of-type {\n",
       "        vertical-align: middle;\n",
       "    }\n",
       "\n",
       "    .dataframe tbody tr th {\n",
       "        vertical-align: top;\n",
       "    }\n",
       "\n",
       "    .dataframe thead th {\n",
       "        text-align: right;\n",
       "    }\n",
       "</style>\n",
       "<table border=\"1\" class=\"dataframe\">\n",
       "  <thead>\n",
       "    <tr style=\"text-align: right;\">\n",
       "      <th></th>\n",
       "      <th>Q1A</th>\n",
       "      <th>Q2A</th>\n",
       "      <th>Q3A</th>\n",
       "      <th>Q4A</th>\n",
       "      <th>Q5A</th>\n",
       "      <th>Q6A</th>\n",
       "      <th>Q7A</th>\n",
       "      <th>Q8A</th>\n",
       "      <th>Q9A</th>\n",
       "      <th>Q10A</th>\n",
       "      <th>...</th>\n",
       "      <th>Q34A</th>\n",
       "      <th>Q35A</th>\n",
       "      <th>Q36A</th>\n",
       "      <th>Q37A</th>\n",
       "      <th>Q38A</th>\n",
       "      <th>Q39A</th>\n",
       "      <th>Q40A</th>\n",
       "      <th>Q41A</th>\n",
       "      <th>Q42A</th>\n",
       "      <th>result</th>\n",
       "    </tr>\n",
       "  </thead>\n",
       "  <tbody>\n",
       "    <tr>\n",
       "      <th>0</th>\n",
       "      <td>4</td>\n",
       "      <td>4</td>\n",
       "      <td>2</td>\n",
       "      <td>4</td>\n",
       "      <td>4</td>\n",
       "      <td>4</td>\n",
       "      <td>4</td>\n",
       "      <td>4</td>\n",
       "      <td>2</td>\n",
       "      <td>1</td>\n",
       "      <td>...</td>\n",
       "      <td>3</td>\n",
       "      <td>4</td>\n",
       "      <td>4</td>\n",
       "      <td>1</td>\n",
       "      <td>2</td>\n",
       "      <td>4</td>\n",
       "      <td>3</td>\n",
       "      <td>4</td>\n",
       "      <td>4</td>\n",
       "      <td>143</td>\n",
       "    </tr>\n",
       "    <tr>\n",
       "      <th>1</th>\n",
       "      <td>4</td>\n",
       "      <td>1</td>\n",
       "      <td>2</td>\n",
       "      <td>3</td>\n",
       "      <td>4</td>\n",
       "      <td>4</td>\n",
       "      <td>3</td>\n",
       "      <td>4</td>\n",
       "      <td>3</td>\n",
       "      <td>2</td>\n",
       "      <td>...</td>\n",
       "      <td>2</td>\n",
       "      <td>2</td>\n",
       "      <td>3</td>\n",
       "      <td>4</td>\n",
       "      <td>2</td>\n",
       "      <td>2</td>\n",
       "      <td>1</td>\n",
       "      <td>2</td>\n",
       "      <td>2</td>\n",
       "      <td>110</td>\n",
       "    </tr>\n",
       "    <tr>\n",
       "      <th>2</th>\n",
       "      <td>3</td>\n",
       "      <td>1</td>\n",
       "      <td>4</td>\n",
       "      <td>1</td>\n",
       "      <td>4</td>\n",
       "      <td>3</td>\n",
       "      <td>1</td>\n",
       "      <td>3</td>\n",
       "      <td>2</td>\n",
       "      <td>4</td>\n",
       "      <td>...</td>\n",
       "      <td>4</td>\n",
       "      <td>3</td>\n",
       "      <td>4</td>\n",
       "      <td>4</td>\n",
       "      <td>4</td>\n",
       "      <td>2</td>\n",
       "      <td>2</td>\n",
       "      <td>1</td>\n",
       "      <td>4</td>\n",
       "      <td>110</td>\n",
       "    </tr>\n",
       "    <tr>\n",
       "      <th>3</th>\n",
       "      <td>2</td>\n",
       "      <td>3</td>\n",
       "      <td>2</td>\n",
       "      <td>1</td>\n",
       "      <td>3</td>\n",
       "      <td>3</td>\n",
       "      <td>4</td>\n",
       "      <td>2</td>\n",
       "      <td>3</td>\n",
       "      <td>3</td>\n",
       "      <td>...</td>\n",
       "      <td>4</td>\n",
       "      <td>1</td>\n",
       "      <td>1</td>\n",
       "      <td>2</td>\n",
       "      <td>1</td>\n",
       "      <td>3</td>\n",
       "      <td>4</td>\n",
       "      <td>4</td>\n",
       "      <td>2</td>\n",
       "      <td>91</td>\n",
       "    </tr>\n",
       "    <tr>\n",
       "      <th>4</th>\n",
       "      <td>2</td>\n",
       "      <td>2</td>\n",
       "      <td>3</td>\n",
       "      <td>4</td>\n",
       "      <td>4</td>\n",
       "      <td>2</td>\n",
       "      <td>4</td>\n",
       "      <td>4</td>\n",
       "      <td>4</td>\n",
       "      <td>3</td>\n",
       "      <td>...</td>\n",
       "      <td>4</td>\n",
       "      <td>3</td>\n",
       "      <td>4</td>\n",
       "      <td>3</td>\n",
       "      <td>3</td>\n",
       "      <td>3</td>\n",
       "      <td>4</td>\n",
       "      <td>4</td>\n",
       "      <td>3</td>\n",
       "      <td>143</td>\n",
       "    </tr>\n",
       "  </tbody>\n",
       "</table>\n",
       "<p>5 rows × 43 columns</p>\n",
       "</div>"
      ],
      "text/plain": [
       "   Q1A  Q2A  Q3A  Q4A  Q5A  Q6A  Q7A  Q8A  Q9A  Q10A  ...  Q34A  Q35A  Q36A  \\\n",
       "0    4    4    2    4    4    4    4    4    2     1  ...     3     4     4   \n",
       "1    4    1    2    3    4    4    3    4    3     2  ...     2     2     3   \n",
       "2    3    1    4    1    4    3    1    3    2     4  ...     4     3     4   \n",
       "3    2    3    2    1    3    3    4    2    3     3  ...     4     1     1   \n",
       "4    2    2    3    4    4    2    4    4    4     3  ...     4     3     4   \n",
       "\n",
       "   Q37A  Q38A  Q39A  Q40A  Q41A  Q42A  result  \n",
       "0     1     2     4     3     4     4     143  \n",
       "1     4     2     2     1     2     2     110  \n",
       "2     4     4     2     2     1     4     110  \n",
       "3     2     1     3     4     4     2      91  \n",
       "4     3     3     3     4     4     3     143  \n",
       "\n",
       "[5 rows x 43 columns]"
      ]
     },
     "execution_count": 87,
     "metadata": {},
     "output_type": "execute_result"
    }
   ],
   "source": [
    "scales_q_answers=scale_q_data[['Q'+str(i)+'A' for i in range(1,43)]]\n",
    "res=scales_q_answers.sum(axis=1)\n",
    "res.name='result'\n",
    "scales_q_answers=pd.concat([scales_q_answers, res], axis=1)\n",
    "scales_q_answers.head()"
   ]
  },
  {
   "cell_type": "code",
   "execution_count": 88,
   "id": "bd814065",
   "metadata": {},
   "outputs": [],
   "source": [
    "def levels(x, arr):\n",
    "    for el in arr:\n",
    "        if x<=el:\n",
    "            return arr.index(el)\n",
    "    return 'error'"
   ]
  },
  {
   "cell_type": "code",
   "execution_count": 89,
   "id": "42be3ec3",
   "metadata": {},
   "outputs": [
    {
     "data": {
      "text/html": [
       "<div>\n",
       "<style scoped>\n",
       "    .dataframe tbody tr th:only-of-type {\n",
       "        vertical-align: middle;\n",
       "    }\n",
       "\n",
       "    .dataframe tbody tr th {\n",
       "        vertical-align: top;\n",
       "    }\n",
       "\n",
       "    .dataframe thead th {\n",
       "        text-align: right;\n",
       "    }\n",
       "</style>\n",
       "<table border=\"1\" class=\"dataframe\">\n",
       "  <thead>\n",
       "    <tr style=\"text-align: right;\">\n",
       "      <th></th>\n",
       "      <th>Q1A</th>\n",
       "      <th>Q2A</th>\n",
       "      <th>Q3A</th>\n",
       "      <th>Q4A</th>\n",
       "      <th>Q5A</th>\n",
       "      <th>Q6A</th>\n",
       "      <th>Q7A</th>\n",
       "      <th>Q8A</th>\n",
       "      <th>Q9A</th>\n",
       "      <th>Q10A</th>\n",
       "      <th>...</th>\n",
       "      <th>Q35A</th>\n",
       "      <th>Q36A</th>\n",
       "      <th>Q37A</th>\n",
       "      <th>Q38A</th>\n",
       "      <th>Q39A</th>\n",
       "      <th>Q40A</th>\n",
       "      <th>Q41A</th>\n",
       "      <th>Q42A</th>\n",
       "      <th>result</th>\n",
       "      <th>depr_level_q</th>\n",
       "    </tr>\n",
       "  </thead>\n",
       "  <tbody>\n",
       "    <tr>\n",
       "      <th>0</th>\n",
       "      <td>4</td>\n",
       "      <td>4</td>\n",
       "      <td>2</td>\n",
       "      <td>4</td>\n",
       "      <td>4</td>\n",
       "      <td>4</td>\n",
       "      <td>4</td>\n",
       "      <td>4</td>\n",
       "      <td>2</td>\n",
       "      <td>1</td>\n",
       "      <td>...</td>\n",
       "      <td>4</td>\n",
       "      <td>4</td>\n",
       "      <td>1</td>\n",
       "      <td>2</td>\n",
       "      <td>4</td>\n",
       "      <td>3</td>\n",
       "      <td>4</td>\n",
       "      <td>4</td>\n",
       "      <td>143</td>\n",
       "      <td>3</td>\n",
       "    </tr>\n",
       "    <tr>\n",
       "      <th>1</th>\n",
       "      <td>4</td>\n",
       "      <td>1</td>\n",
       "      <td>2</td>\n",
       "      <td>3</td>\n",
       "      <td>4</td>\n",
       "      <td>4</td>\n",
       "      <td>3</td>\n",
       "      <td>4</td>\n",
       "      <td>3</td>\n",
       "      <td>2</td>\n",
       "      <td>...</td>\n",
       "      <td>2</td>\n",
       "      <td>3</td>\n",
       "      <td>4</td>\n",
       "      <td>2</td>\n",
       "      <td>2</td>\n",
       "      <td>1</td>\n",
       "      <td>2</td>\n",
       "      <td>2</td>\n",
       "      <td>110</td>\n",
       "      <td>2</td>\n",
       "    </tr>\n",
       "    <tr>\n",
       "      <th>2</th>\n",
       "      <td>3</td>\n",
       "      <td>1</td>\n",
       "      <td>4</td>\n",
       "      <td>1</td>\n",
       "      <td>4</td>\n",
       "      <td>3</td>\n",
       "      <td>1</td>\n",
       "      <td>3</td>\n",
       "      <td>2</td>\n",
       "      <td>4</td>\n",
       "      <td>...</td>\n",
       "      <td>3</td>\n",
       "      <td>4</td>\n",
       "      <td>4</td>\n",
       "      <td>4</td>\n",
       "      <td>2</td>\n",
       "      <td>2</td>\n",
       "      <td>1</td>\n",
       "      <td>4</td>\n",
       "      <td>110</td>\n",
       "      <td>2</td>\n",
       "    </tr>\n",
       "    <tr>\n",
       "      <th>3</th>\n",
       "      <td>2</td>\n",
       "      <td>3</td>\n",
       "      <td>2</td>\n",
       "      <td>1</td>\n",
       "      <td>3</td>\n",
       "      <td>3</td>\n",
       "      <td>4</td>\n",
       "      <td>2</td>\n",
       "      <td>3</td>\n",
       "      <td>3</td>\n",
       "      <td>...</td>\n",
       "      <td>1</td>\n",
       "      <td>1</td>\n",
       "      <td>2</td>\n",
       "      <td>1</td>\n",
       "      <td>3</td>\n",
       "      <td>4</td>\n",
       "      <td>4</td>\n",
       "      <td>2</td>\n",
       "      <td>91</td>\n",
       "      <td>1</td>\n",
       "    </tr>\n",
       "    <tr>\n",
       "      <th>4</th>\n",
       "      <td>2</td>\n",
       "      <td>2</td>\n",
       "      <td>3</td>\n",
       "      <td>4</td>\n",
       "      <td>4</td>\n",
       "      <td>2</td>\n",
       "      <td>4</td>\n",
       "      <td>4</td>\n",
       "      <td>4</td>\n",
       "      <td>3</td>\n",
       "      <td>...</td>\n",
       "      <td>3</td>\n",
       "      <td>4</td>\n",
       "      <td>3</td>\n",
       "      <td>3</td>\n",
       "      <td>3</td>\n",
       "      <td>4</td>\n",
       "      <td>4</td>\n",
       "      <td>3</td>\n",
       "      <td>143</td>\n",
       "      <td>3</td>\n",
       "    </tr>\n",
       "  </tbody>\n",
       "</table>\n",
       "<p>5 rows × 44 columns</p>\n",
       "</div>"
      ],
      "text/plain": [
       "   Q1A  Q2A  Q3A  Q4A  Q5A  Q6A  Q7A  Q8A  Q9A  Q10A  ...  Q35A  Q36A  Q37A  \\\n",
       "0    4    4    2    4    4    4    4    4    2     1  ...     4     4     1   \n",
       "1    4    1    2    3    4    4    3    4    3     2  ...     2     3     4   \n",
       "2    3    1    4    1    4    3    1    3    2     4  ...     3     4     4   \n",
       "3    2    3    2    1    3    3    4    2    3     3  ...     1     1     2   \n",
       "4    2    2    3    4    4    2    4    4    4     3  ...     3     4     3   \n",
       "\n",
       "   Q38A  Q39A  Q40A  Q41A  Q42A  result  depr_level_q  \n",
       "0     2     4     3     4     4     143             3  \n",
       "1     2     2     1     2     2     110             2  \n",
       "2     4     2     2     1     4     110             2  \n",
       "3     1     3     4     4     2      91             1  \n",
       "4     3     3     4     4     3     143             3  \n",
       "\n",
       "[5 rows x 44 columns]"
      ]
     },
     "execution_count": 89,
     "metadata": {},
     "output_type": "execute_result"
    }
   ],
   "source": [
    "res2=scales_q_answers['result'].apply(levels, arr=list(res.describe()[4:]))\n",
    "res2.name='depr_level_q'\n",
    "scales_q_answers=pd.concat([scales_q_answers,res2], axis=1)\n",
    "scales_q_answers.head()"
   ]
  },
  {
   "cell_type": "code",
   "execution_count": 115,
   "id": "simple-taiwan",
   "metadata": {},
   "outputs": [
    {
     "data": {
      "text/plain": [
       "['Q11A', 'Q13A', 'Q17A', 'Q34A', 'Q40A']"
      ]
     },
     "execution_count": 115,
     "metadata": {},
     "output_type": "execute_result"
    }
   ],
   "source": [
    "names4=[]\n",
    "for name in ['Q'+str(i)+'A' for i in range(1,43)]:\n",
    "    if scales_q_answers[name].value_counts(normalize=True,sort=False).idxmax()==4:\n",
    "        names4.append(name)\n",
    "names4\n",
    " "
   ]
  },
  {
   "cell_type": "markdown",
   "id": "thousand-cemetery",
   "metadata": {},
   "source": [
    "На эти вопросы чаще всего выбирали вариант ответа 4 (соответствует более тяжёлому проявлению депирессивного симптома)"
   ]
  },
  {
   "cell_type": "code",
   "execution_count": 132,
   "id": "together-interest",
   "metadata": {
    "scrolled": false
   },
   "outputs": [
    {
     "data": {
      "image/png": "[encoded data removed]",
      "text/plain": [
       "<Figure size 1080x1080 with 6 Axes>"
      ]
     },
     "metadata": {
      "needs_background": "light"
     },
     "output_type": "display_data"
    }
   ],
   "source": [
    "fig, ax=plt.subplots(3,2, figsize=(15,15))\n",
    "i,j=0,0\n",
    "for name in names4:\n",
    "    sns.countplot(x=scales_q_answers[name], ax=ax[i,j])\n",
    "    j+=1\n",
    "    if j==2:\n",
    "        j=0\n",
    "        i+=1"
   ]
  },
  {
   "cell_type": "markdown",
   "id": "accepting-insight",
   "metadata": {},
   "source": [
    "В вопросах 11 и 13 видна существенная разница между количеством ответов 1 и 4, в остальных случаях разница не так велика. Возможно эти симптомы более распространены и у здоровых людей."
   ]
  },
  {
   "cell_type": "code",
   "execution_count": 122,
   "id": "major-hunter",
   "metadata": {},
   "outputs": [
    {
     "data": {
      "image/png": "[encoded data removed]",
      "text/plain": [
       "<Figure size 720x1440 with 5 Axes>"
      ]
     },
     "metadata": {
      "needs_background": "light"
     },
     "output_type": "display_data"
    }
   ],
   "source": [
    "fig, ax=plt.subplots(5, figsize=(10,20))\n",
    "i=0\n",
    "for name in names4:\n",
    "    sns.countplot(x=scales_q_answers[name], hue=scales_q_answers['depr_level_q'], ax=ax[i])\n",
    "    i+=1"
   ]
  },
  {
   "cell_type": "markdown",
   "id": "mounted-reading",
   "metadata": {},
   "source": [
    "Видно, что вариант 4 обычно выбирают люди с целом более выраженными депрессивными симптомами"
   ]
  },
  {
   "cell_type": "code",
   "execution_count": 133,
   "id": "likely-contribution",
   "metadata": {},
   "outputs": [
    {
     "data": {
      "text/plain": [
       "['Q2A',\n",
       " 'Q4A',\n",
       " 'Q7A',\n",
       " 'Q15A',\n",
       " 'Q19A',\n",
       " 'Q20A',\n",
       " 'Q21A',\n",
       " 'Q23A',\n",
       " 'Q25A',\n",
       " 'Q28A',\n",
       " 'Q36A',\n",
       " 'Q37A',\n",
       " 'Q38A',\n",
       " 'Q41A']"
      ]
     },
     "execution_count": 133,
     "metadata": {},
     "output_type": "execute_result"
    }
   ],
   "source": [
    "names1=[]\n",
    "for name in ['Q'+str(i)+'A' for i in range(1,43)]:\n",
    "    if scales_q_answers[name].value_counts(normalize=True,sort=False).idxmax()==1:\n",
    "        names1.append(name)\n",
    "names1 "
   ]
  },
  {
   "cell_type": "code",
   "execution_count": 138,
   "id": "descending-surge",
   "metadata": {},
   "outputs": [
    {
     "data": {
      "image/png": "[encoded data removed]",
      "text/plain": [
       "<Figure size 1080x2160 with 14 Axes>"
      ]
     },
     "metadata": {
      "needs_background": "light"
     },
     "output_type": "display_data"
    }
   ],
   "source": [
    "fig, ax=plt.subplots(7,2, figsize=(15,30))\n",
    "i,j=0,0\n",
    "for name in names1:\n",
    "    sns.countplot(x=scales_q_answers[name], ax=ax[i,j])\n",
    "    j+=1\n",
    "    if j==2:\n",
    "        j=0\n",
    "        i+=1"
   ]
  },
  {
   "cell_type": "markdown",
   "id": "effective-reconstruction",
   "metadata": {},
   "source": [
    "На вопросы 15 и 23 реже всего отвечают \"4\", проверим, как ответы на эти вопросы соотносятся с проявлением депрессивных симптомов в целом"
   ]
  },
  {
   "cell_type": "code",
   "execution_count": 145,
   "id": "instant-crossing",
   "metadata": {},
   "outputs": [
    {
     "data": {
      "text/plain": [
       "<AxesSubplot:xlabel='Q23A', ylabel='count'>"
      ]
     },
     "execution_count": 145,
     "metadata": {},
     "output_type": "execute_result"
    },
    {
     "data": {
      "image/png": "[encoded data removed]",
      "text/plain": [
       "<Figure size 1080x504 with 2 Axes>"
      ]
     },
     "metadata": {
      "needs_background": "light"
     },
     "output_type": "display_data"
    }
   ],
   "source": [
    "fig, ax=plt.subplots(1,2, figsize=(15,7))\n",
    "sns.countplot(x=scales_q_answers['Q15A'], hue=scales_q_answers['depr_level_q'], ax=ax[0])\n",
    "sns.countplot(x=scales_q_answers['Q23A'], hue=scales_q_answers['depr_level_q'], ax=ax[1])"
   ]
  },
  {
   "cell_type": "markdown",
   "id": "collectible-oakland",
   "metadata": {},
   "source": [
    "Для людей с выраженными депрессивными симптомами вопросы 15 и 23 не являются определяющими\n",
    "\n",
    "Q15\tI had a feeling of faintness\n",
    "\n",
    "Q23\tI had difficulty in swallowing"
   ]
  },
  {
   "cell_type": "markdown",
   "id": "alternate-championship",
   "metadata": {},
   "source": [
    "Доли ответов на вопросы 20, 21, 36, 37, 38 имеют небольшой разброс. Рассмотрим их в зависимости от степени выраженности депрессивных симптомов"
   ]
  },
  {
   "cell_type": "code",
   "execution_count": 146,
   "id": "pointed-cornwall",
   "metadata": {
    "scrolled": false
   },
   "outputs": [
    {
     "data": {
      "image/png": "[encoded data removed]",
      "text/plain": [
       "<Figure size 720x1440 with 5 Axes>"
      ]
     },
     "metadata": {
      "needs_background": "light"
     },
     "output_type": "display_data"
    }
   ],
   "source": [
    "fig, ax=plt.subplots(5, figsize=(10,20))\n",
    "i=0\n",
    "for name in ['Q20A', 'Q21A', 'Q36A','Q37A','Q38A']:\n",
    "    sns.countplot(x=scales_q_answers[name], hue=scales_q_answers['depr_level_q'], ax=ax[i])\n",
    "    i+=1"
   ]
  },
  {
   "cell_type": "markdown",
   "id": "sound-hotel",
   "metadata": {},
   "source": [
    "Люди со средним проявлением депрессии (уровень 2) симптомы 21, 37, 38 встречаются примерно одинаково в разной степени интенсивности. Для людей с другими уровнями депрессивности прослеживается более чёткая связь между вариантом ответа и тяжестью депресси в целом.\n",
    "\n",
    "Q21\tI felt that life wasn't worthwhile\n",
    "\n",
    "Q37\tI could see nothing in the future to be hopeful about.\n",
    "\n",
    "Q38\tI felt that life was meaningless."
   ]
  },
  {
   "cell_type": "code",
   "execution_count": 45,
   "id": "matched-recommendation",
   "metadata": {},
   "outputs": [
    {
     "data": {
      "text/plain": [
       "<AxesSubplot:>"
      ]
     },
     "execution_count": 45,
     "metadata": {},
     "output_type": "execute_result"
    },
    {
     "data": {
      "image/png": "[encoded data removed]",
      "text/plain": [
       "<Figure size 1080x720 with 2 Axes>"
      ]
     },
     "metadata": {
      "needs_background": "light"
     },
     "output_type": "display_data"
    }
   ],
   "source": [
    "fig=plt.figure(figsize=(15,10))\n",
    "sns.heatmap(scales_q_answers.corr())"
   ]
  },
  {
   "cell_type": "code",
   "execution_count": 148,
   "id": "stopped-percentage",
   "metadata": {},
   "outputs": [],
   "source": [
    "a=scales_q_answers.corr().unstack()['result']"
   ]
  },
  {
   "cell_type": "code",
   "execution_count": 149,
   "id": "executed-singer",
   "metadata": {},
   "outputs": [
    {
     "data": {
      "text/plain": [
       "['Q10A', 'Q3A', 'Q11A', 'Q36A', 'Q38A', 'Q17A', 'Q26A', 'Q21A', 'Q34A', 'Q13A']"
      ]
     },
     "execution_count": 149,
     "metadata": {},
     "output_type": "execute_result"
    }
   ],
   "source": [
    "b=a[:-2].sort_values()\n",
    "important_q=b[-10:].index#чем больше корр тем больше результат зависит от вопроса\n",
    "list(important_q)"
   ]
  },
  {
   "cell_type": "code",
   "execution_count": null,
   "id": "invisible-costume",
   "metadata": {},
   "outputs": [],
   "source": [
    "#corr->1 - лин зав\n",
    "#corr->0 - лин незав"
   ]
  },
  {
   "cell_type": "code",
   "execution_count": 150,
   "id": "cutting-kansas",
   "metadata": {},
   "outputs": [
    {
     "data": {
      "text/plain": [
       "<AxesSubplot:>"
      ]
     },
     "execution_count": 150,
     "metadata": {},
     "output_type": "execute_result"
    },
    {
     "data": {
      "image/png": "[encoded data removed]",
      "text/plain": [
       "<Figure size 432x288 with 2 Axes>"
      ]
     },
     "metadata": {
      "needs_background": "light"
     },
     "output_type": "display_data"
    }
   ],
   "source": [
    "sns.heatmap(scales_q_answers[important_q].corr())"
   ]
  },
  {
   "cell_type": "markdown",
   "id": "educational-limitation",
   "metadata": {},
   "source": [
    "Есть существенная корреляция между вопросами 38-21 и 17-34\n",
    "\n",
    "Q17\tI felt I wasn't worth much as a person.  Q34\tI felt I was pretty worthless\n",
    "\n",
    "Q21\tI felt that life wasn&#39;t worthwhile  Q38\tI felt that life was meaningless\n",
    "\n",
    "В целом, такой результат ожидаем, формулировки похожи"
   ]
  },
  {
   "cell_type": "code",
   "execution_count": 167,
   "id": "meaning-modern",
   "metadata": {},
   "outputs": [
    {
     "data": {
      "text/plain": [
       "Q17A  depr_level_q\n",
       "1     0               0.192569\n",
       "      1               0.040785\n",
       "      2               0.008938\n",
       "      3               0.001093\n",
       "2     0               0.074194\n",
       "      1               0.094294\n",
       "      2               0.039341\n",
       "      3               0.007142\n",
       "3     0               0.007650\n",
       "      1               0.045742\n",
       "      2               0.059558\n",
       "      3               0.025837\n",
       "4     0               0.001834\n",
       "      1               0.029584\n",
       "      2               0.114121\n",
       "      3               0.257318\n",
       "dtype: float64"
      ]
     },
     "execution_count": 167,
     "metadata": {},
     "output_type": "execute_result"
    }
   ],
   "source": [
    "scales_q_answers[scales_q_answers['Q17A']==scales_q_answers['Q34A']][['Q17A', 'depr_level_q']].\\\n",
    "                                                                     value_counts(sort=False,normalize=True)"
   ]
  },
  {
   "cell_type": "code",
   "execution_count": 171,
   "id": "vanilla-focus",
   "metadata": {},
   "outputs": [
    {
     "data": {
      "text/plain": [
       "Q17A  depr_level_q\n",
       "1     0               0.084762\n",
       "      1               0.059341\n",
       "      2               0.021099\n",
       "      3               0.003223\n",
       "2     0               0.099267\n",
       "      1               0.109158\n",
       "      2               0.076557\n",
       "      3               0.020293\n",
       "3     0               0.033919\n",
       "      1               0.102418\n",
       "      2               0.107033\n",
       "      3               0.063370\n",
       "4     0               0.008352\n",
       "      1               0.053993\n",
       "      2               0.090769\n",
       "      3               0.066447\n",
       "dtype: float64"
      ]
     },
     "execution_count": 171,
     "metadata": {},
     "output_type": "execute_result"
    }
   ],
   "source": [
    "scales_q_answers[scales_q_answers['Q17A']!=scales_q_answers['Q34A']][['Q17A', 'depr_level_q']].\\\n",
    "                                                                     value_counts(sort=False,normalize=True)"
   ]
  },
  {
   "cell_type": "code",
   "execution_count": 151,
   "id": "typical-aluminum",
   "metadata": {},
   "outputs": [
    {
     "data": {
      "text/plain": [
       "['Q10A', 'Q3A', 'Q11A', 'Q36A', 'Q17A', 'Q26A', 'Q21A', 'Q13A']"
      ]
     },
     "execution_count": 151,
     "metadata": {},
     "output_type": "execute_result"
    }
   ],
   "source": [
    "#уберём вопросы, между которыми есть существенная корреляция\n",
    "important_q=list(important_q)\n",
    "important_q.remove('Q38A')\n",
    "important_q.remove('Q34A')\n",
    "important_q"
   ]
  },
  {
   "cell_type": "code",
   "execution_count": 153,
   "id": "positive-curve",
   "metadata": {},
   "outputs": [
    {
     "data": {
      "text/html": [
       "<div>\n",
       "<style scoped>\n",
       "    .dataframe tbody tr th:only-of-type {\n",
       "        vertical-align: middle;\n",
       "    }\n",
       "\n",
       "    .dataframe tbody tr th {\n",
       "        vertical-align: top;\n",
       "    }\n",
       "\n",
       "    .dataframe thead th {\n",
       "        text-align: right;\n",
       "    }\n",
       "</style>\n",
       "<table border=\"1\" class=\"dataframe\">\n",
       "  <thead>\n",
       "    <tr style=\"text-align: right;\">\n",
       "      <th></th>\n",
       "      <th>Q10A</th>\n",
       "      <th>Q3A</th>\n",
       "      <th>Q11A</th>\n",
       "      <th>Q36A</th>\n",
       "      <th>Q17A</th>\n",
       "      <th>Q26A</th>\n",
       "      <th>Q21A</th>\n",
       "      <th>Q13A</th>\n",
       "      <th>depr_level_q</th>\n",
       "    </tr>\n",
       "  </thead>\n",
       "  <tbody>\n",
       "    <tr>\n",
       "      <th>0</th>\n",
       "      <td>1</td>\n",
       "      <td>2</td>\n",
       "      <td>4</td>\n",
       "      <td>4</td>\n",
       "      <td>3</td>\n",
       "      <td>4</td>\n",
       "      <td>1</td>\n",
       "      <td>4</td>\n",
       "      <td>3</td>\n",
       "    </tr>\n",
       "    <tr>\n",
       "      <th>1</th>\n",
       "      <td>2</td>\n",
       "      <td>2</td>\n",
       "      <td>2</td>\n",
       "      <td>3</td>\n",
       "      <td>4</td>\n",
       "      <td>3</td>\n",
       "      <td>2</td>\n",
       "      <td>4</td>\n",
       "      <td>2</td>\n",
       "    </tr>\n",
       "    <tr>\n",
       "      <th>2</th>\n",
       "      <td>4</td>\n",
       "      <td>4</td>\n",
       "      <td>2</td>\n",
       "      <td>4</td>\n",
       "      <td>4</td>\n",
       "      <td>1</td>\n",
       "      <td>4</td>\n",
       "      <td>4</td>\n",
       "      <td>2</td>\n",
       "    </tr>\n",
       "    <tr>\n",
       "      <th>3</th>\n",
       "      <td>3</td>\n",
       "      <td>2</td>\n",
       "      <td>2</td>\n",
       "      <td>1</td>\n",
       "      <td>3</td>\n",
       "      <td>2</td>\n",
       "      <td>1</td>\n",
       "      <td>1</td>\n",
       "      <td>1</td>\n",
       "    </tr>\n",
       "    <tr>\n",
       "      <th>4</th>\n",
       "      <td>3</td>\n",
       "      <td>3</td>\n",
       "      <td>2</td>\n",
       "      <td>4</td>\n",
       "      <td>4</td>\n",
       "      <td>4</td>\n",
       "      <td>3</td>\n",
       "      <td>4</td>\n",
       "      <td>3</td>\n",
       "    </tr>\n",
       "  </tbody>\n",
       "</table>\n",
       "</div>"
      ],
      "text/plain": [
       "   Q10A  Q3A  Q11A  Q36A  Q17A  Q26A  Q21A  Q13A  depr_level_q\n",
       "0     1    2     4     4     3     4     1     4             3\n",
       "1     2    2     2     3     4     3     2     4             2\n",
       "2     4    4     2     4     4     1     4     4             2\n",
       "3     3    2     2     1     3     2     1     1             1\n",
       "4     3    3     2     4     4     4     3     4             3"
      ]
     },
     "execution_count": 153,
     "metadata": {},
     "output_type": "execute_result"
    }
   ],
   "source": [
    "scales_q_answers1=scales_q_answers[important_q+['depr_level_q']]\n",
    "scales_q_answers1.head()"
   ]
  },
  {
   "cell_type": "code",
   "execution_count": 155,
   "id": "prospective-twist",
   "metadata": {},
   "outputs": [
    {
     "data": {
      "image/png": "[encoded data removed]",
      "text/plain": [
       "<Figure size 1080x1440 with 8 Axes>"
      ]
     },
     "metadata": {
      "needs_background": "light"
     },
     "output_type": "display_data"
    }
   ],
   "source": [
    "fig, ax=plt.subplots(4,2, figsize=(15,20),sharey=True)\n",
    "i,j=0,0\n",
    "for name in scales_q_answers1.columns[:-1]:\n",
    "    sns.countplot(x=scales_q_answers1[name], hue=scales_q_answers1['depr_level_q'], ax=ax[i,j])\n",
    "    i+=1\n",
    "    if i==4:\n",
    "        j+=1\n",
    "        i=0"
   ]
  },
  {
   "cell_type": "markdown",
   "id": "every-power",
   "metadata": {},
   "source": [
    "Q16\tI felt that I had lost interest in just about everything.\n",
    "Q17\tI felt I wasn&#39;t worth much as a person.\n",
    "\n",
    "Q1\tI found myself getting upset by quite trivial things.\n",
    "Q26\tI felt down-hearted and blue.\n",
    "\n",
    "Q11\tI found myself getting upset rather easily.\n",
    "Q21\tI felt that life wasn&#39;t worthwhile.\n",
    "\n",
    "Q36\tI felt terrified.\n",
    "Q13\tI felt sad and depressed."
   ]
  },
  {
   "cell_type": "code",
   "execution_count": 172,
   "id": "interior-emphasis",
   "metadata": {},
   "outputs": [
    {
     "data": {
      "text/plain": [
       "<AxesSubplot:>"
      ]
     },
     "execution_count": 172,
     "metadata": {},
     "output_type": "execute_result"
    },
    {
     "data": {
      "image/png": "[encoded data removed]",
      "text/plain": [
       "<Figure size 432x288 with 2 Axes>"
      ]
     },
     "metadata": {
      "needs_background": "light"
     },
     "output_type": "display_data"
    }
   ],
   "source": [
    "#less important\n",
    "#b=a[:-2].sort_values()\n",
    "not_important_q=b[:5].index\n",
    "not_important_q=list(not_important_q)\n",
    "scale_q_bad=scales_q_answers[not_important_q+['depr_level_q']]\n",
    "sns.heatmap(scale_q_bad.corr())"
   ]
  },
  {
   "cell_type": "code",
   "execution_count": 173,
   "id": "nuclear-middle",
   "metadata": {},
   "outputs": [],
   "source": [
    "#q14 (getting impatient) можно заменить остальными\n",
    "#q2~q18~q19\n",
    "not_important_q.remove('Q14A')\n",
    "not_important_q.remove('Q18A')"
   ]
  },
  {
   "cell_type": "code",
   "execution_count": 174,
   "id": "ongoing-economy",
   "metadata": {},
   "outputs": [],
   "source": [
    "scale_q_bad=scale_q_bad[not_important_q+['depr_level_q']]"
   ]
  },
  {
   "cell_type": "code",
   "execution_count": 175,
   "id": "elect-anthony",
   "metadata": {},
   "outputs": [
    {
     "data": {
      "image/png": "[encoded data removed]",
      "text/plain": [
       "<Figure size 1440x576 with 3 Axes>"
      ]
     },
     "metadata": {
      "needs_background": "light"
     },
     "output_type": "display_data"
    }
   ],
   "source": [
    "fig, ax=plt.subplots(1,3, figsize=(20,8))\n",
    "i=0\n",
    "for name in scale_q_bad.columns[:-1]:\n",
    "    sns.countplot(x=scale_q_bad[name], hue=scale_q_bad['depr_level_q'], ax=ax[i])\n",
    "    i+=1\n"
   ]
  },
  {
   "cell_type": "markdown",
   "id": "neither-agent",
   "metadata": {},
   "source": [
    "Q2\tI was aware of dryness of my mouth\n",
    "\n",
    "Q19\tI perspired noticeably (eg, hands sweaty) in the absence of high temperatures or physical exertion.\n",
    "\n",
    "Q23\tI had difficulty in swallowing."
   ]
  },
  {
   "cell_type": "markdown",
   "id": "beginning-marketplace",
   "metadata": {},
   "source": [
    "Люди с высоким уровнем депрессии примерно с одинаковой частотой выбирают все варианты ответа (особенно на вопрос 23, где чаще всего выбирают вариант 2)\n",
    "\n",
    "Люди с плохо выраженной депрессией почти не выбирают 4 вариант ответа (что в целом ожидаемо)\n",
    "\n",
    "В целом вопросы касаются физических проявлений заболевания, для которых могут быть разные причины помимо психических (или как проявление тревоги или повышенного стресса, которые могут быть у людей и с, и без депрессии)"
   ]
  },
  {
   "cell_type": "code",
   "execution_count": 221,
   "id": "wound-melissa",
   "metadata": {},
   "outputs": [],
   "source": [
    "file1['age']=pd.cut(file1['age'], 10)"
   ]
  },
  {
   "cell_type": "code",
   "execution_count": 228,
   "id": "celtic-swedish",
   "metadata": {},
   "outputs": [
    {
     "data": {
      "text/plain": [
       "Interval(12.896, 23.4, closed='right')"
      ]
     },
     "execution_count": 228,
     "metadata": {},
     "output_type": "execute_result"
    }
   ],
   "source": [
    "file1['age'].unique()[0]"
   ]
  },
  {
   "cell_type": "code",
   "execution_count": 229,
   "id": "diagnostic-civilian",
   "metadata": {},
   "outputs": [
    {
     "ename": "ValueError",
     "evalue": "Length of grouper (26318) and axis (39272) must be same length",
     "output_type": "error",
     "traceback": [
      "\u001b[1;31m---------------------------------------------------------------------------\u001b[0m",
      "\u001b[1;31mValueError\u001b[0m                                Traceback (most recent call last)",
      "\u001b[1;32m<ipython-input-229-3b7bf5a9d0c2>\u001b[0m in \u001b[0;36m<module>\u001b[1;34m\u001b[0m\n\u001b[0;32m      1\u001b[0m \u001b[1;32mfor\u001b[0m \u001b[0mx\u001b[0m \u001b[1;32min\u001b[0m \u001b[0mfile1\u001b[0m\u001b[1;33m[\u001b[0m\u001b[1;34m'age'\u001b[0m\u001b[1;33m]\u001b[0m\u001b[1;33m.\u001b[0m\u001b[0munique\u001b[0m\u001b[1;33m(\u001b[0m\u001b[1;33m)\u001b[0m\u001b[1;33m:\u001b[0m\u001b[1;33m\u001b[0m\u001b[1;33m\u001b[0m\u001b[0m\n\u001b[0;32m      2\u001b[0m     \u001b[0mfig\u001b[0m\u001b[1;33m=\u001b[0m\u001b[0mplt\u001b[0m\u001b[1;33m.\u001b[0m\u001b[0mfigure\u001b[0m\u001b[1;33m(\u001b[0m\u001b[0mfigsize\u001b[0m\u001b[1;33m=\u001b[0m\u001b[1;33m(\u001b[0m\u001b[1;36m10\u001b[0m\u001b[1;33m,\u001b[0m\u001b[1;36m5\u001b[0m\u001b[1;33m)\u001b[0m\u001b[1;33m)\u001b[0m\u001b[1;33m\u001b[0m\u001b[1;33m\u001b[0m\u001b[0m\n\u001b[1;32m----> 3\u001b[1;33m     \u001b[0msns\u001b[0m\u001b[1;33m.\u001b[0m\u001b[0mcountplot\u001b[0m\u001b[1;33m(\u001b[0m\u001b[0mx\u001b[0m\u001b[1;33m=\u001b[0m\u001b[0mfile1\u001b[0m\u001b[1;33m[\u001b[0m\u001b[0mfile1\u001b[0m\u001b[1;33m[\u001b[0m\u001b[1;34m'age'\u001b[0m\u001b[1;33m]\u001b[0m\u001b[1;33m==\u001b[0m\u001b[0mx\u001b[0m\u001b[1;33m]\u001b[0m\u001b[1;33m[\u001b[0m\u001b[1;34m'age'\u001b[0m\u001b[1;33m]\u001b[0m\u001b[1;33m,\u001b[0m \u001b[0mhue\u001b[0m\u001b[1;33m=\u001b[0m\u001b[0mscales_q_answers\u001b[0m\u001b[1;33m[\u001b[0m\u001b[1;34m'depr_level_q'\u001b[0m\u001b[1;33m]\u001b[0m\u001b[1;33m)\u001b[0m\u001b[1;33m\u001b[0m\u001b[1;33m\u001b[0m\u001b[0m\n\u001b[0m",
      "\u001b[1;32mD:\\Users\\Kate\\Anaconda\\lib\\site-packages\\seaborn\\_decorators.py\u001b[0m in \u001b[0;36minner_f\u001b[1;34m(*args, **kwargs)\u001b[0m\n\u001b[0;32m     44\u001b[0m             )\n\u001b[0;32m     45\u001b[0m         \u001b[0mkwargs\u001b[0m\u001b[1;33m.\u001b[0m\u001b[0mupdate\u001b[0m\u001b[1;33m(\u001b[0m\u001b[1;33m{\u001b[0m\u001b[0mk\u001b[0m\u001b[1;33m:\u001b[0m \u001b[0marg\u001b[0m \u001b[1;32mfor\u001b[0m \u001b[0mk\u001b[0m\u001b[1;33m,\u001b[0m \u001b[0marg\u001b[0m \u001b[1;32min\u001b[0m \u001b[0mzip\u001b[0m\u001b[1;33m(\u001b[0m\u001b[0msig\u001b[0m\u001b[1;33m.\u001b[0m\u001b[0mparameters\u001b[0m\u001b[1;33m,\u001b[0m \u001b[0margs\u001b[0m\u001b[1;33m)\u001b[0m\u001b[1;33m}\u001b[0m\u001b[1;33m)\u001b[0m\u001b[1;33m\u001b[0m\u001b[1;33m\u001b[0m\u001b[0m\n\u001b[1;32m---> 46\u001b[1;33m         \u001b[1;32mreturn\u001b[0m \u001b[0mf\u001b[0m\u001b[1;33m(\u001b[0m\u001b[1;33m**\u001b[0m\u001b[0mkwargs\u001b[0m\u001b[1;33m)\u001b[0m\u001b[1;33m\u001b[0m\u001b[1;33m\u001b[0m\u001b[0m\n\u001b[0m\u001b[0;32m     47\u001b[0m     \u001b[1;32mreturn\u001b[0m \u001b[0minner_f\u001b[0m\u001b[1;33m\u001b[0m\u001b[1;33m\u001b[0m\u001b[0m\n\u001b[0;32m     48\u001b[0m \u001b[1;33m\u001b[0m\u001b[0m\n",
      "\u001b[1;32mD:\\Users\\Kate\\Anaconda\\lib\\site-packages\\seaborn\\categorical.py\u001b[0m in \u001b[0;36mcountplot\u001b[1;34m(x, y, hue, data, order, hue_order, orient, color, palette, saturation, dodge, ax, **kwargs)\u001b[0m\n\u001b[0;32m   3593\u001b[0m         \u001b[1;32mraise\u001b[0m \u001b[0mValueError\u001b[0m\u001b[1;33m(\u001b[0m\u001b[1;34m\"Cannot pass values for both `x` and `y`\"\u001b[0m\u001b[1;33m)\u001b[0m\u001b[1;33m\u001b[0m\u001b[1;33m\u001b[0m\u001b[0m\n\u001b[0;32m   3594\u001b[0m \u001b[1;33m\u001b[0m\u001b[0m\n\u001b[1;32m-> 3595\u001b[1;33m     plotter = _CountPlotter(\n\u001b[0m\u001b[0;32m   3596\u001b[0m         \u001b[0mx\u001b[0m\u001b[1;33m,\u001b[0m \u001b[0my\u001b[0m\u001b[1;33m,\u001b[0m \u001b[0mhue\u001b[0m\u001b[1;33m,\u001b[0m \u001b[0mdata\u001b[0m\u001b[1;33m,\u001b[0m \u001b[0morder\u001b[0m\u001b[1;33m,\u001b[0m \u001b[0mhue_order\u001b[0m\u001b[1;33m,\u001b[0m\u001b[1;33m\u001b[0m\u001b[1;33m\u001b[0m\u001b[0m\n\u001b[0;32m   3597\u001b[0m         \u001b[0mestimator\u001b[0m\u001b[1;33m,\u001b[0m \u001b[0mci\u001b[0m\u001b[1;33m,\u001b[0m \u001b[0mn_boot\u001b[0m\u001b[1;33m,\u001b[0m \u001b[0munits\u001b[0m\u001b[1;33m,\u001b[0m \u001b[0mseed\u001b[0m\u001b[1;33m,\u001b[0m\u001b[1;33m\u001b[0m\u001b[1;33m\u001b[0m\u001b[0m\n",
      "\u001b[1;32mD:\\Users\\Kate\\Anaconda\\lib\\site-packages\\seaborn\\categorical.py\u001b[0m in \u001b[0;36m__init__\u001b[1;34m(self, x, y, hue, data, order, hue_order, estimator, ci, n_boot, units, seed, orient, color, palette, saturation, errcolor, errwidth, capsize, dodge)\u001b[0m\n\u001b[0;32m   1582\u001b[0m                  errwidth, capsize, dodge):\n\u001b[0;32m   1583\u001b[0m         \u001b[1;34m\"\"\"Initialize the plotter.\"\"\"\u001b[0m\u001b[1;33m\u001b[0m\u001b[1;33m\u001b[0m\u001b[0m\n\u001b[1;32m-> 1584\u001b[1;33m         self.establish_variables(x, y, hue, data, orient,\n\u001b[0m\u001b[0;32m   1585\u001b[0m                                  order, hue_order, units)\n\u001b[0;32m   1586\u001b[0m         \u001b[0mself\u001b[0m\u001b[1;33m.\u001b[0m\u001b[0mestablish_colors\u001b[0m\u001b[1;33m(\u001b[0m\u001b[0mcolor\u001b[0m\u001b[1;33m,\u001b[0m \u001b[0mpalette\u001b[0m\u001b[1;33m,\u001b[0m \u001b[0msaturation\u001b[0m\u001b[1;33m)\u001b[0m\u001b[1;33m\u001b[0m\u001b[1;33m\u001b[0m\u001b[0m\n",
      "\u001b[1;32mD:\\Users\\Kate\\Anaconda\\lib\\site-packages\\seaborn\\categorical.py\u001b[0m in \u001b[0;36mestablish_variables\u001b[1;34m(self, x, y, hue, data, orient, order, hue_order, units)\u001b[0m\n\u001b[0;32m    218\u001b[0m \u001b[1;33m\u001b[0m\u001b[0m\n\u001b[0;32m    219\u001b[0m                     \u001b[1;31m# Group the hue data\u001b[0m\u001b[1;33m\u001b[0m\u001b[1;33m\u001b[0m\u001b[1;33m\u001b[0m\u001b[0m\n\u001b[1;32m--> 220\u001b[1;33m                     plot_hues, hue_title = self._group_longform(hue, groups,\n\u001b[0m\u001b[0;32m    221\u001b[0m                                                                 group_names)\n\u001b[0;32m    222\u001b[0m \u001b[1;33m\u001b[0m\u001b[0m\n",
      "\u001b[1;32mD:\\Users\\Kate\\Anaconda\\lib\\site-packages\\seaborn\\categorical.py\u001b[0m in \u001b[0;36m_group_longform\u001b[1;34m(self, vals, grouper, order)\u001b[0m\n\u001b[0;32m    251\u001b[0m \u001b[1;33m\u001b[0m\u001b[0m\n\u001b[0;32m    252\u001b[0m         \u001b[1;31m# Group the val data\u001b[0m\u001b[1;33m\u001b[0m\u001b[1;33m\u001b[0m\u001b[1;33m\u001b[0m\u001b[0m\n\u001b[1;32m--> 253\u001b[1;33m         \u001b[0mgrouped_vals\u001b[0m \u001b[1;33m=\u001b[0m \u001b[0mvals\u001b[0m\u001b[1;33m.\u001b[0m\u001b[0mgroupby\u001b[0m\u001b[1;33m(\u001b[0m\u001b[0mgrouper\u001b[0m\u001b[1;33m)\u001b[0m\u001b[1;33m\u001b[0m\u001b[1;33m\u001b[0m\u001b[0m\n\u001b[0m\u001b[0;32m    254\u001b[0m         \u001b[0mout_data\u001b[0m \u001b[1;33m=\u001b[0m \u001b[1;33m[\u001b[0m\u001b[1;33m]\u001b[0m\u001b[1;33m\u001b[0m\u001b[1;33m\u001b[0m\u001b[0m\n\u001b[0;32m    255\u001b[0m         \u001b[1;32mfor\u001b[0m \u001b[0mg\u001b[0m \u001b[1;32min\u001b[0m \u001b[0morder\u001b[0m\u001b[1;33m:\u001b[0m\u001b[1;33m\u001b[0m\u001b[1;33m\u001b[0m\u001b[0m\n",
      "\u001b[1;32mD:\\Users\\Kate\\Anaconda\\lib\\site-packages\\pandas\\core\\series.py\u001b[0m in \u001b[0;36mgroupby\u001b[1;34m(self, by, axis, level, as_index, sort, group_keys, squeeze, observed, dropna)\u001b[0m\n\u001b[0;32m   1718\u001b[0m         \u001b[0maxis\u001b[0m \u001b[1;33m=\u001b[0m \u001b[0mself\u001b[0m\u001b[1;33m.\u001b[0m\u001b[0m_get_axis_number\u001b[0m\u001b[1;33m(\u001b[0m\u001b[0maxis\u001b[0m\u001b[1;33m)\u001b[0m\u001b[1;33m\u001b[0m\u001b[1;33m\u001b[0m\u001b[0m\n\u001b[0;32m   1719\u001b[0m \u001b[1;33m\u001b[0m\u001b[0m\n\u001b[1;32m-> 1720\u001b[1;33m         return SeriesGroupBy(\n\u001b[0m\u001b[0;32m   1721\u001b[0m             \u001b[0mobj\u001b[0m\u001b[1;33m=\u001b[0m\u001b[0mself\u001b[0m\u001b[1;33m,\u001b[0m\u001b[1;33m\u001b[0m\u001b[1;33m\u001b[0m\u001b[0m\n\u001b[0;32m   1722\u001b[0m             \u001b[0mkeys\u001b[0m\u001b[1;33m=\u001b[0m\u001b[0mby\u001b[0m\u001b[1;33m,\u001b[0m\u001b[1;33m\u001b[0m\u001b[1;33m\u001b[0m\u001b[0m\n",
      "\u001b[1;32mD:\\Users\\Kate\\Anaconda\\lib\\site-packages\\pandas\\core\\groupby\\groupby.py\u001b[0m in \u001b[0;36m__init__\u001b[1;34m(self, obj, keys, axis, level, grouper, exclusions, selection, as_index, sort, group_keys, squeeze, observed, mutated, dropna)\u001b[0m\n\u001b[0;32m    558\u001b[0m             \u001b[1;32mfrom\u001b[0m \u001b[0mpandas\u001b[0m\u001b[1;33m.\u001b[0m\u001b[0mcore\u001b[0m\u001b[1;33m.\u001b[0m\u001b[0mgroupby\u001b[0m\u001b[1;33m.\u001b[0m\u001b[0mgrouper\u001b[0m \u001b[1;32mimport\u001b[0m \u001b[0mget_grouper\u001b[0m\u001b[1;33m\u001b[0m\u001b[1;33m\u001b[0m\u001b[0m\n\u001b[0;32m    559\u001b[0m \u001b[1;33m\u001b[0m\u001b[0m\n\u001b[1;32m--> 560\u001b[1;33m             grouper, exclusions, obj = get_grouper(\n\u001b[0m\u001b[0;32m    561\u001b[0m                 \u001b[0mobj\u001b[0m\u001b[1;33m,\u001b[0m\u001b[1;33m\u001b[0m\u001b[1;33m\u001b[0m\u001b[0m\n\u001b[0;32m    562\u001b[0m                 \u001b[0mkeys\u001b[0m\u001b[1;33m,\u001b[0m\u001b[1;33m\u001b[0m\u001b[1;33m\u001b[0m\u001b[0m\n",
      "\u001b[1;32mD:\\Users\\Kate\\Anaconda\\lib\\site-packages\\pandas\\core\\groupby\\grouper.py\u001b[0m in \u001b[0;36mget_grouper\u001b[1;34m(obj, key, axis, level, sort, observed, mutated, validate, dropna)\u001b[0m\n\u001b[0;32m    818\u001b[0m \u001b[1;33m\u001b[0m\u001b[0m\n\u001b[0;32m    819\u001b[0m         \u001b[1;32mif\u001b[0m \u001b[0mis_categorical_dtype\u001b[0m\u001b[1;33m(\u001b[0m\u001b[0mgpr\u001b[0m\u001b[1;33m)\u001b[0m \u001b[1;32mand\u001b[0m \u001b[0mlen\u001b[0m\u001b[1;33m(\u001b[0m\u001b[0mgpr\u001b[0m\u001b[1;33m)\u001b[0m \u001b[1;33m!=\u001b[0m \u001b[0mobj\u001b[0m\u001b[1;33m.\u001b[0m\u001b[0mshape\u001b[0m\u001b[1;33m[\u001b[0m\u001b[0maxis\u001b[0m\u001b[1;33m]\u001b[0m\u001b[1;33m:\u001b[0m\u001b[1;33m\u001b[0m\u001b[1;33m\u001b[0m\u001b[0m\n\u001b[1;32m--> 820\u001b[1;33m             raise ValueError(\n\u001b[0m\u001b[0;32m    821\u001b[0m                 \u001b[1;34mf\"Length of grouper ({len(gpr)}) and axis ({obj.shape[axis]}) \"\u001b[0m\u001b[1;33m\u001b[0m\u001b[1;33m\u001b[0m\u001b[0m\n\u001b[0;32m    822\u001b[0m                 \u001b[1;34m\"must be same length\"\u001b[0m\u001b[1;33m\u001b[0m\u001b[1;33m\u001b[0m\u001b[0m\n",
      "\u001b[1;31mValueError\u001b[0m: Length of grouper (26318) and axis (39272) must be same length"
     ]
    },
    {
     "data": {
      "text/plain": [
       "<Figure size 720x360 with 0 Axes>"
      ]
     },
     "metadata": {},
     "output_type": "display_data"
    }
   ],
   "source": [
    "#объединить таблицы и тогда всё будет ок\n",
    "for x in file1['age'].unique():\n",
    "    fig=plt.figure(figsize=(10,5))\n",
    "    sns.countplot(x=file1[file1['age']==x]['age'], hue=scales_q_answers['depr_level_q'])"
   ]
  },
  {
   "cell_type": "markdown",
   "id": "behind-return",
   "metadata": {},
   "source": [
    "__________"
   ]
  },
  {
   "cell_type": "markdown",
   "id": "9e662f6d",
   "metadata": {},
   "source": [
    "!!!\n",
    "\n",
    "посмотреть зависимости депрессивности от пола, возраста, образования, религии, ориентации, семейных параметров\n",
    "\n",
    "Посчитать результаты по шкале Т\n",
    "\n",
    "Исправить тех инфу (размер экрана и локация оказались в персональной инфе)"
   ]
  },
  {
   "cell_type": "code",
   "execution_count": 29,
   "id": "material-vertical",
   "metadata": {},
   "outputs": [
    {
     "data": {
      "text/html": [
       "<div>\n",
       "<style scoped>\n",
       "    .dataframe tbody tr th:only-of-type {\n",
       "        vertical-align: middle;\n",
       "    }\n",
       "\n",
       "    .dataframe tbody tr th {\n",
       "        vertical-align: top;\n",
       "    }\n",
       "\n",
       "    .dataframe thead th {\n",
       "        text-align: right;\n",
       "    }\n",
       "</style>\n",
       "<table border=\"1\" class=\"dataframe\">\n",
       "  <thead>\n",
       "    <tr style=\"text-align: right;\">\n",
       "      <th></th>\n",
       "      <th>Q1E</th>\n",
       "      <th>Q2E</th>\n",
       "      <th>Q3E</th>\n",
       "      <th>Q4E</th>\n",
       "      <th>Q5E</th>\n",
       "      <th>Q6E</th>\n",
       "      <th>Q7E</th>\n",
       "      <th>Q8E</th>\n",
       "      <th>Q9E</th>\n",
       "      <th>Q10E</th>\n",
       "      <th>...</th>\n",
       "      <th>Q34E</th>\n",
       "      <th>Q35E</th>\n",
       "      <th>Q36E</th>\n",
       "      <th>Q37E</th>\n",
       "      <th>Q38E</th>\n",
       "      <th>Q39E</th>\n",
       "      <th>Q40E</th>\n",
       "      <th>Q41E</th>\n",
       "      <th>Q42E</th>\n",
       "      <th>depr_level_q</th>\n",
       "    </tr>\n",
       "  </thead>\n",
       "  <tbody>\n",
       "    <tr>\n",
       "      <th>3</th>\n",
       "      <td>5081</td>\n",
       "      <td>6837</td>\n",
       "      <td>5521</td>\n",
       "      <td>4556</td>\n",
       "      <td>3269</td>\n",
       "      <td>3231</td>\n",
       "      <td>7138</td>\n",
       "      <td>3079</td>\n",
       "      <td>9650</td>\n",
       "      <td>4179</td>\n",
       "      <td>...</td>\n",
       "      <td>5620</td>\n",
       "      <td>16760</td>\n",
       "      <td>6427</td>\n",
       "      <td>3760</td>\n",
       "      <td>4112</td>\n",
       "      <td>2769</td>\n",
       "      <td>4432</td>\n",
       "      <td>3643</td>\n",
       "      <td>3698</td>\n",
       "      <td>1</td>\n",
       "    </tr>\n",
       "    <tr>\n",
       "      <th>4</th>\n",
       "      <td>3215</td>\n",
       "      <td>7731</td>\n",
       "      <td>4156</td>\n",
       "      <td>2802</td>\n",
       "      <td>5628</td>\n",
       "      <td>6522</td>\n",
       "      <td>2374</td>\n",
       "      <td>3054</td>\n",
       "      <td>2975</td>\n",
       "      <td>3524</td>\n",
       "      <td>...</td>\n",
       "      <td>2536</td>\n",
       "      <td>3725</td>\n",
       "      <td>2130</td>\n",
       "      <td>3952</td>\n",
       "      <td>10694</td>\n",
       "      <td>3231</td>\n",
       "      <td>3604</td>\n",
       "      <td>1950</td>\n",
       "      <td>6265</td>\n",
       "      <td>3</td>\n",
       "    </tr>\n",
       "    <tr>\n",
       "      <th>6</th>\n",
       "      <td>4325</td>\n",
       "      <td>4009</td>\n",
       "      <td>3604</td>\n",
       "      <td>4826</td>\n",
       "      <td>2842</td>\n",
       "      <td>2342</td>\n",
       "      <td>9018</td>\n",
       "      <td>3717</td>\n",
       "      <td>7023</td>\n",
       "      <td>3312</td>\n",
       "      <td>...</td>\n",
       "      <td>7122</td>\n",
       "      <td>8044</td>\n",
       "      <td>2242</td>\n",
       "      <td>3951</td>\n",
       "      <td>2272</td>\n",
       "      <td>3398</td>\n",
       "      <td>5101</td>\n",
       "      <td>93656</td>\n",
       "      <td>84607</td>\n",
       "      <td>2</td>\n",
       "    </tr>\n",
       "    <tr>\n",
       "      <th>7</th>\n",
       "      <td>4796</td>\n",
       "      <td>2618</td>\n",
       "      <td>5823</td>\n",
       "      <td>6596</td>\n",
       "      <td>7635</td>\n",
       "      <td>7384</td>\n",
       "      <td>11570</td>\n",
       "      <td>2958</td>\n",
       "      <td>12300</td>\n",
       "      <td>3605</td>\n",
       "      <td>...</td>\n",
       "      <td>1405</td>\n",
       "      <td>10145</td>\n",
       "      <td>3675</td>\n",
       "      <td>5432</td>\n",
       "      <td>2897</td>\n",
       "      <td>2732</td>\n",
       "      <td>9251</td>\n",
       "      <td>2954</td>\n",
       "      <td>8665</td>\n",
       "      <td>0</td>\n",
       "    </tr>\n",
       "    <tr>\n",
       "      <th>8</th>\n",
       "      <td>3470</td>\n",
       "      <td>2139</td>\n",
       "      <td>11043</td>\n",
       "      <td>1829</td>\n",
       "      <td>5847</td>\n",
       "      <td>3529</td>\n",
       "      <td>1855</td>\n",
       "      <td>3000</td>\n",
       "      <td>6066</td>\n",
       "      <td>2539</td>\n",
       "      <td>...</td>\n",
       "      <td>1567</td>\n",
       "      <td>8033</td>\n",
       "      <td>2036</td>\n",
       "      <td>3868</td>\n",
       "      <td>3682</td>\n",
       "      <td>2751</td>\n",
       "      <td>7497</td>\n",
       "      <td>2179</td>\n",
       "      <td>3662</td>\n",
       "      <td>3</td>\n",
       "    </tr>\n",
       "  </tbody>\n",
       "</table>\n",
       "<p>5 rows × 43 columns</p>\n",
       "</div>"
      ],
      "text/plain": [
       "    Q1E   Q2E    Q3E   Q4E   Q5E   Q6E    Q7E   Q8E    Q9E  Q10E  ...  Q34E  \\\n",
       "3  5081  6837   5521  4556  3269  3231   7138  3079   9650  4179  ...  5620   \n",
       "4  3215  7731   4156  2802  5628  6522   2374  3054   2975  3524  ...  2536   \n",
       "6  4325  4009   3604  4826  2842  2342   9018  3717   7023  3312  ...  7122   \n",
       "7  4796  2618   5823  6596  7635  7384  11570  2958  12300  3605  ...  1405   \n",
       "8  3470  2139  11043  1829  5847  3529   1855  3000   6066  2539  ...  1567   \n",
       "\n",
       "    Q35E  Q36E  Q37E   Q38E  Q39E  Q40E   Q41E   Q42E  depr_level_q  \n",
       "3  16760  6427  3760   4112  2769  4432   3643   3698             1  \n",
       "4   3725  2130  3952  10694  3231  3604   1950   6265             3  \n",
       "6   8044  2242  3951   2272  3398  5101  93656  84607             2  \n",
       "7  10145  3675  5432   2897  2732  9251   2954   8665             0  \n",
       "8   8033  2036  3868   3682  2751  7497   2179   3662             3  \n",
       "\n",
       "[5 rows x 43 columns]"
      ]
     },
     "execution_count": 29,
     "metadata": {},
     "output_type": "execute_result"
    }
   ],
   "source": [
    "scales_q_time=scale_q_data[['Q'+str(i)+'E' for i in range(1,43)]]\n",
    "scales_q_time=pd.concat([scales_q_time, scales_q_answers['depr_level_q']], axis=1)\n",
    "scales_q_time.head()"
   ]
  },
  {
   "cell_type": "code",
   "execution_count": 30,
   "id": "searching-tuning",
   "metadata": {},
   "outputs": [
    {
     "data": {
      "text/html": [
       "<div>\n",
       "<style scoped>\n",
       "    .dataframe tbody tr th:only-of-type {\n",
       "        vertical-align: middle;\n",
       "    }\n",
       "\n",
       "    .dataframe tbody tr th {\n",
       "        vertical-align: top;\n",
       "    }\n",
       "\n",
       "    .dataframe thead th {\n",
       "        text-align: right;\n",
       "    }\n",
       "</style>\n",
       "<table border=\"1\" class=\"dataframe\">\n",
       "  <thead>\n",
       "    <tr style=\"text-align: right;\">\n",
       "      <th></th>\n",
       "      <th>Q1E</th>\n",
       "      <th>Q2E</th>\n",
       "      <th>Q3E</th>\n",
       "      <th>Q4E</th>\n",
       "      <th>Q5E</th>\n",
       "      <th>Q6E</th>\n",
       "      <th>Q7E</th>\n",
       "      <th>Q8E</th>\n",
       "      <th>Q9E</th>\n",
       "      <th>Q10E</th>\n",
       "      <th>...</th>\n",
       "      <th>Q35E</th>\n",
       "      <th>Q36E</th>\n",
       "      <th>Q37E</th>\n",
       "      <th>Q38E</th>\n",
       "      <th>Q39E</th>\n",
       "      <th>Q40E</th>\n",
       "      <th>Q41E</th>\n",
       "      <th>Q42E</th>\n",
       "      <th>depr_level_q</th>\n",
       "      <th>mean_time</th>\n",
       "    </tr>\n",
       "  </thead>\n",
       "  <tbody>\n",
       "    <tr>\n",
       "      <th>3</th>\n",
       "      <td>5081</td>\n",
       "      <td>6837</td>\n",
       "      <td>5521</td>\n",
       "      <td>4556</td>\n",
       "      <td>3269</td>\n",
       "      <td>3231</td>\n",
       "      <td>7138</td>\n",
       "      <td>3079</td>\n",
       "      <td>9650</td>\n",
       "      <td>4179</td>\n",
       "      <td>...</td>\n",
       "      <td>16760</td>\n",
       "      <td>6427</td>\n",
       "      <td>3760</td>\n",
       "      <td>4112</td>\n",
       "      <td>2769</td>\n",
       "      <td>4432</td>\n",
       "      <td>3643</td>\n",
       "      <td>3698</td>\n",
       "      <td>1</td>\n",
       "      <td>5.896093e+03</td>\n",
       "    </tr>\n",
       "    <tr>\n",
       "      <th>4</th>\n",
       "      <td>3215</td>\n",
       "      <td>7731</td>\n",
       "      <td>4156</td>\n",
       "      <td>2802</td>\n",
       "      <td>5628</td>\n",
       "      <td>6522</td>\n",
       "      <td>2374</td>\n",
       "      <td>3054</td>\n",
       "      <td>2975</td>\n",
       "      <td>3524</td>\n",
       "      <td>...</td>\n",
       "      <td>3725</td>\n",
       "      <td>2130</td>\n",
       "      <td>3952</td>\n",
       "      <td>10694</td>\n",
       "      <td>3231</td>\n",
       "      <td>3604</td>\n",
       "      <td>1950</td>\n",
       "      <td>6265</td>\n",
       "      <td>3</td>\n",
       "      <td>3.800116e+03</td>\n",
       "    </tr>\n",
       "    <tr>\n",
       "      <th>6</th>\n",
       "      <td>4325</td>\n",
       "      <td>4009</td>\n",
       "      <td>3604</td>\n",
       "      <td>4826</td>\n",
       "      <td>2842</td>\n",
       "      <td>2342</td>\n",
       "      <td>9018</td>\n",
       "      <td>3717</td>\n",
       "      <td>7023</td>\n",
       "      <td>3312</td>\n",
       "      <td>...</td>\n",
       "      <td>8044</td>\n",
       "      <td>2242</td>\n",
       "      <td>3951</td>\n",
       "      <td>2272</td>\n",
       "      <td>3398</td>\n",
       "      <td>5101</td>\n",
       "      <td>93656</td>\n",
       "      <td>84607</td>\n",
       "      <td>2</td>\n",
       "      <td>1.057165e+06</td>\n",
       "    </tr>\n",
       "    <tr>\n",
       "      <th>7</th>\n",
       "      <td>4796</td>\n",
       "      <td>2618</td>\n",
       "      <td>5823</td>\n",
       "      <td>6596</td>\n",
       "      <td>7635</td>\n",
       "      <td>7384</td>\n",
       "      <td>11570</td>\n",
       "      <td>2958</td>\n",
       "      <td>12300</td>\n",
       "      <td>3605</td>\n",
       "      <td>...</td>\n",
       "      <td>10145</td>\n",
       "      <td>3675</td>\n",
       "      <td>5432</td>\n",
       "      <td>2897</td>\n",
       "      <td>2732</td>\n",
       "      <td>9251</td>\n",
       "      <td>2954</td>\n",
       "      <td>8665</td>\n",
       "      <td>0</td>\n",
       "      <td>5.388465e+03</td>\n",
       "    </tr>\n",
       "    <tr>\n",
       "      <th>8</th>\n",
       "      <td>3470</td>\n",
       "      <td>2139</td>\n",
       "      <td>11043</td>\n",
       "      <td>1829</td>\n",
       "      <td>5847</td>\n",
       "      <td>3529</td>\n",
       "      <td>1855</td>\n",
       "      <td>3000</td>\n",
       "      <td>6066</td>\n",
       "      <td>2539</td>\n",
       "      <td>...</td>\n",
       "      <td>8033</td>\n",
       "      <td>2036</td>\n",
       "      <td>3868</td>\n",
       "      <td>3682</td>\n",
       "      <td>2751</td>\n",
       "      <td>7497</td>\n",
       "      <td>2179</td>\n",
       "      <td>3662</td>\n",
       "      <td>3</td>\n",
       "      <td>4.467233e+03</td>\n",
       "    </tr>\n",
       "  </tbody>\n",
       "</table>\n",
       "<p>5 rows × 44 columns</p>\n",
       "</div>"
      ],
      "text/plain": [
       "    Q1E   Q2E    Q3E   Q4E   Q5E   Q6E    Q7E   Q8E    Q9E  Q10E  ...   Q35E  \\\n",
       "3  5081  6837   5521  4556  3269  3231   7138  3079   9650  4179  ...  16760   \n",
       "4  3215  7731   4156  2802  5628  6522   2374  3054   2975  3524  ...   3725   \n",
       "6  4325  4009   3604  4826  2842  2342   9018  3717   7023  3312  ...   8044   \n",
       "7  4796  2618   5823  6596  7635  7384  11570  2958  12300  3605  ...  10145   \n",
       "8  3470  2139  11043  1829  5847  3529   1855  3000   6066  2539  ...   8033   \n",
       "\n",
       "   Q36E  Q37E   Q38E  Q39E  Q40E   Q41E   Q42E  depr_level_q     mean_time  \n",
       "3  6427  3760   4112  2769  4432   3643   3698             1  5.896093e+03  \n",
       "4  2130  3952  10694  3231  3604   1950   6265             3  3.800116e+03  \n",
       "6  2242  3951   2272  3398  5101  93656  84607             2  1.057165e+06  \n",
       "7  3675  5432   2897  2732  9251   2954   8665             0  5.388465e+03  \n",
       "8  2036  3868   3682  2751  7497   2179   3662             3  4.467233e+03  \n",
       "\n",
       "[5 rows x 44 columns]"
      ]
     },
     "execution_count": 30,
     "metadata": {},
     "output_type": "execute_result"
    }
   ],
   "source": [
    "res=scales_q_time.mean(axis=1)\n",
    "res.name='mean_time'\n",
    "scales_q_time=pd.concat([scales_q_time, res], axis=1)\n",
    "scales_q_time.head()"
   ]
  },
  {
   "cell_type": "code",
   "execution_count": 23,
   "id": "killing-norman",
   "metadata": {},
   "outputs": [
    {
     "data": {
      "text/plain": [
       "<AxesSubplot:xlabel='depr_level_q', ylabel='mean_time'>"
      ]
     },
     "execution_count": 23,
     "metadata": {},
     "output_type": "execute_result"
    },
    {
     "data": {
      "image/png": "[encoded data removed]",
      "text/plain": [
       "<Figure size 432x288 with 1 Axes>"
      ]
     },
     "metadata": {
      "needs_background": "light"
     },
     "output_type": "display_data"
    }
   ],
   "source": [
    "sns.boxplot(x='depr_level_q', y='mean_time', data=scales_q_time)"
   ]
  },
  {
   "cell_type": "code",
   "execution_count": 35,
   "id": "likely-breed",
   "metadata": {},
   "outputs": [],
   "source": [
    "scales_q_time=scales_q_time.drop(list(scales_q_time[scales_q_time['mean_time']>=20000].index))"
   ]
  },
  {
   "cell_type": "code",
   "execution_count": 36,
   "id": "mineral-motorcycle",
   "metadata": {},
   "outputs": [
    {
     "data": {
      "text/plain": [
       "<AxesSubplot:xlabel='depr_level_q', ylabel='mean_time'>"
      ]
     },
     "execution_count": 36,
     "metadata": {},
     "output_type": "execute_result"
    },
    {
     "data": {
      "image/png": "[encoded data removed]",
      "text/plain": [
       "<Figure size 432x288 with 1 Axes>"
      ]
     },
     "metadata": {
      "needs_background": "light"
     },
     "output_type": "display_data"
    }
   ],
   "source": [
    "sns.boxplot(x='depr_level_q', y='mean_time', data=scales_q_time)"
   ]
  },
  {
   "cell_type": "markdown",
   "id": "martial-prevention",
   "metadata": {},
   "source": [
    "Большое количество выбросов, в среднем люди с разным уровнем депрессивности отвечают с одинаковой скоростью.\n",
    "\n",
    "Макс время (в среднем и с учётом выбросов) показывают люди с небольшим уровнем депрессии. Возможно, они сомневаются в выборе ответа и оценке своего состояния (вроде всё не так плохо но и не так хорошо)"
   ]
  },
  {
   "cell_type": "markdown",
   "id": "844775ca",
   "metadata": {},
   "source": [
    "!!!\n",
    "\n",
    "зависимость между тем, как одинаковые люди отвечали на разные вопросы"
   ]
  },
  {
   "cell_type": "code",
   "execution_count": null,
   "id": "848d2f33",
   "metadata": {},
   "outputs": [],
   "source": []
  }
 ],
 "metadata": {
  "kernelspec": {
   "display_name": "Python 3",
   "language": "python",
   "name": "python3"
  },
  "language_info": {
   "codemirror_mode": {
    "name": "ipython",
    "version": 3
   },
   "file_extension": ".py",
   "mimetype": "text/x-python",
   "name": "python",
   "nbconvert_exporter": "python",
   "pygments_lexer": "ipython3",
   "version": "3.8.8"
  }
 },
 "nbformat": 4,
 "nbformat_minor": 5
}
