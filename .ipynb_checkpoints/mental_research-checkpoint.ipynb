{
 "cells": [
  {
   "cell_type": "markdown",
   "id": "abstract-ecuador",
   "metadata": {},
   "source": [
    "### Тестирование психического здоровья\n",
    "\n",
    "В данных содержатся ответы скольки-то людей на тесты на наличие депрессии, особенности характера и грамотность??, а также их персональные данные.\n",
    "\n",
    "В ходе работы с данными выполнены следующие задачи:\n",
    "\n",
    "- [ ] очистка данных от выбросов и ошибок\n",
    "- [ ] предложена простая модель оценки депрессивности на основе теста Q\n",
    "- [ ] проанализированы связи между уровнем депрессивности и особенностями характера\n",
    "- [ ] проанализированы свсязи между возрастом, образованием и другими личными данными и результатами психологических тестов\n",
    "- [ ] \n",
    "- [ ] \n",
    "- [ ] \n",
    "\n"
   ]
  },
  {
   "cell_type": "markdown",
   "id": "55bf132a",
   "metadata": {},
   "source": [
    "Тест на психическое состояние: депрессия, тревога, стресс\n",
    "\n",
    "Тест на черты характера\n",
    "\n",
    "Тест на грамотность\n",
    "\n",
    "Демографические данные\n",
    "\n",
    "Что посмотреть/сравнить:\n",
    "\n",
    "- Как 3 вида психических проблем соотносятся между собой (корреляция между результатами, какие вопросы наиболее решающие для диагностики каждого состояния и как на них отвечают в зависимости от других состояний)\n",
    "\n",
    "- Как черты характера соотносятся с психическим состоянием\n",
    "\n",
    "- Есть ли связь с грамотностью\n",
    "\n",
    "- Зависимость между возрастом, образованием, местом рождения, полом, религией, страной и психическим состоянием (для смеха можно и на правшу левшу обратить внимание)\n",
    "\n",
    "- Выделить группы схожих людей и посмотреть, как они отвечают"
   ]
  },
  {
   "cell_type": "code",
   "execution_count": 1,
   "id": "expected-gambling",
   "metadata": {},
   "outputs": [],
   "source": [
    "import pandas as pd\n",
    "import seaborn as sns\n",
    "import numpy as np\n",
    "import matplotlib.pyplot as plt"
   ]
  },
  {
   "cell_type": "code",
   "execution_count": 167,
   "id": "hybrid-richards",
   "metadata": {},
   "outputs": [],
   "source": [
    "file1=pd.read_csv('data.csv', sep='\\t')"
   ]
  },
  {
   "cell_type": "markdown",
   "id": "436fae54",
   "metadata": {},
   "source": [
    "### Описание данных\n",
    "\n",
    "**1. Тест DASS** - включает в себя 42 вопроса, каждый из которых ориентирован на диагностику уровня депрессии, тревоги или стресса. В каждом вопросе дано утверждение и предлагается оценить, насколько часто описанное состояние возникает у тестируемого.\n",
    "\n",
    "**2. Тест TIPI** - предложено 10 черт характера, для каждого необходимо оценить, как сильно оно характерно для тестируемого.\n",
    "\n",
    "**3. Тест VCL** - необходимо отметить среди 16 слов те, значение которых участник точно знает\n",
    "\n",
    "**4. Персональные данные** (возраст, уровень образования, данные об устройстве, с которого проходили тест, и др.)"
   ]
  },
  {
   "cell_type": "markdown",
   "id": "genetic-parameter",
   "metadata": {},
   "source": [
    "### Очистка данных"
   ]
  },
  {
   "cell_type": "markdown",
   "id": "54a5e458",
   "metadata": {},
   "source": [
    "##### Проверим наличие пропущенных данных (датасет слишком большой чтобы использовать info())"
   ]
  },
  {
   "cell_type": "code",
   "execution_count": 3,
   "id": "genetic-connecticut",
   "metadata": {},
   "outputs": [
    {
     "data": {
      "text/plain": [
       "(39775, 171)"
      ]
     },
     "execution_count": 3,
     "metadata": {},
     "output_type": "execute_result"
    }
   ],
   "source": [
    "file1.shape"
   ]
  },
  {
   "cell_type": "code",
   "execution_count": 4,
   "id": "integral-wagon",
   "metadata": {},
   "outputs": [
    {
     "data": {
      "text/plain": [
       "100"
      ]
     },
     "execution_count": 4,
     "metadata": {},
     "output_type": "execute_result"
    }
   ],
   "source": [
    "pd.options.display.max_info_columns"
   ]
  },
  {
   "cell_type": "code",
   "execution_count": 3,
   "id": "2c61ff62",
   "metadata": {},
   "outputs": [
    {
     "name": "stdout",
     "output_type": "stream",
     "text": [
      "country 2\n",
      "major 11403\n"
     ]
    }
   ],
   "source": [
    "n=file1.shape[0]\n",
    "for col in file1.columns:\n",
    "    a=file1[col].isnull().value_counts()[False]\n",
    "    if a!=n:\n",
    "        print(col, n-a)"
   ]
  },
  {
   "cell_type": "code",
   "execution_count": 168,
   "id": "348860bb",
   "metadata": {},
   "outputs": [],
   "source": [
    "file1['major']=file1['major'].fillna('no')\n",
    "file1['country']=file1['country'].fillna('no')"
   ]
  },
  {
   "cell_type": "markdown",
   "id": "edc9d5cc",
   "metadata": {},
   "source": [
    "### Выбросы и опечатки\n",
    "\n",
    "#### Тест DASS\n",
    "\n",
    "***Q_i_A*** - ответ на i вопрос от 1 до 4, где 1 - никогда, 4 - очень часто или постоянно. Вопросы делятся на 3 группы, измеряющие уровень стресса, тревоги и депрессии. Вопросы из каждой группы:\n",
    "\n",
    "стресс - 1,6,8,11,12,14,18,\n",
    "\n",
    "тревога - 2,4,7,9, 15,19,20\n",
    "\n",
    "депрессия - 3,5,10,13,16,17,21\n",
    "\n",
    "\n",
    "***Q_i_E*** - количество милисекунд, потраченных на ответ на i вопрос\n",
    "\n",
    "***Q_i_I*** - порядковый номер i вопроса для данного участника\n",
    "\n",
    "***introelapse*** - время в секундах, потраченное на начальную страницу\n",
    "\n",
    "***testelapse*** - время в секундах, потраченное на весь тест\t\n",
    "\n",
    "***surveyelapse***\t- время, потраченное на вопросы о личных данных и другие тесты\n"
   ]
  },
  {
   "cell_type": "code",
   "execution_count": 169,
   "id": "da1b92a6",
   "metadata": {},
   "outputs": [],
   "source": [
    "def find_err(df, values):\n",
    "    bad_ans=[]\n",
    "    for col in df.columns:\n",
    "        bad_ans+=(list(df[~df[col].isin(values)].index))\n",
    "    return bad_ans"
   ]
  },
  {
   "cell_type": "code",
   "execution_count": 170,
   "id": "molecular-advantage",
   "metadata": {},
   "outputs": [
    {
     "data": {
      "text/plain": [
       "[]"
      ]
     },
     "execution_count": 170,
     "metadata": {},
     "output_type": "execute_result"
    }
   ],
   "source": [
    "find_err(file1[['Q'+str(i)+'A' for i in range(1,43)]], range(1,5))"
   ]
  },
  {
   "cell_type": "code",
   "execution_count": 171,
   "id": "textile-silly",
   "metadata": {},
   "outputs": [],
   "source": [
    "#Переведём время ответов в секунды\n",
    "file1[['Q'+str(i)+'E' for i in range(1,43)]]=file1[['Q'+str(i)+'E' for i in range(1,43)]]/1000"
   ]
  },
  {
   "cell_type": "code",
   "execution_count": 172,
   "id": "stretch-arbitration",
   "metadata": {},
   "outputs": [
    {
     "data": {
      "text/plain": [
       "count    3.977500e+04\n",
       "mean     2.684843e+03\n",
       "std      1.482418e+05\n",
       "min      1.200000e+01\n",
       "25%      1.650000e+02\n",
       "50%      2.130000e+02\n",
       "75%      2.960000e+02\n",
       "max      2.082972e+07\n",
       "Name: testelapse, dtype: float64"
      ]
     },
     "execution_count": 172,
     "metadata": {},
     "output_type": "execute_result"
    }
   ],
   "source": [
    "file1['testelapse'].describe() #нет отрицательных значений, есть явные выбросы"
   ]
  },
  {
   "cell_type": "code",
   "execution_count": 173,
   "id": "recovered-essex",
   "metadata": {},
   "outputs": [],
   "source": [
    "qe_names=['Q'+str(_) + 'E' for _ in range(1,43)]"
   ]
  },
  {
   "cell_type": "code",
   "execution_count": 10,
   "id": "banner-crime",
   "metadata": {},
   "outputs": [
    {
     "data": {
      "text/html": [
       "<div>\n",
       "<style scoped>\n",
       "    .dataframe tbody tr th:only-of-type {\n",
       "        vertical-align: middle;\n",
       "    }\n",
       "\n",
       "    .dataframe tbody tr th {\n",
       "        vertical-align: top;\n",
       "    }\n",
       "\n",
       "    .dataframe thead th {\n",
       "        text-align: right;\n",
       "    }\n",
       "</style>\n",
       "<table border=\"1\" class=\"dataframe\">\n",
       "  <thead>\n",
       "    <tr style=\"text-align: right;\">\n",
       "      <th></th>\n",
       "      <th>Q1E</th>\n",
       "      <th>Q2E</th>\n",
       "      <th>Q3E</th>\n",
       "      <th>Q4E</th>\n",
       "      <th>Q5E</th>\n",
       "      <th>Q6E</th>\n",
       "      <th>Q7E</th>\n",
       "      <th>Q8E</th>\n",
       "      <th>Q9E</th>\n",
       "      <th>Q10E</th>\n",
       "      <th>...</th>\n",
       "      <th>Q33E</th>\n",
       "      <th>Q34E</th>\n",
       "      <th>Q35E</th>\n",
       "      <th>Q36E</th>\n",
       "      <th>Q37E</th>\n",
       "      <th>Q38E</th>\n",
       "      <th>Q39E</th>\n",
       "      <th>Q40E</th>\n",
       "      <th>Q41E</th>\n",
       "      <th>Q42E</th>\n",
       "    </tr>\n",
       "  </thead>\n",
       "  <tbody>\n",
       "    <tr>\n",
       "      <th>count</th>\n",
       "      <td>39775.000000</td>\n",
       "      <td>39775.000000</td>\n",
       "      <td>39775.000000</td>\n",
       "      <td>39775.000000</td>\n",
       "      <td>39775.000000</td>\n",
       "      <td>39775.000000</td>\n",
       "      <td>39775.000000</td>\n",
       "      <td>39775.000000</td>\n",
       "      <td>39775.000000</td>\n",
       "      <td>39775.000000</td>\n",
       "      <td>...</td>\n",
       "      <td>39775.000000</td>\n",
       "      <td>39775.000000</td>\n",
       "      <td>39775.000000</td>\n",
       "      <td>39775.000000</td>\n",
       "      <td>39775.000000</td>\n",
       "      <td>39775.000000</td>\n",
       "      <td>39775.000000</td>\n",
       "      <td>39775.000000</td>\n",
       "      <td>39775.000000</td>\n",
       "      <td>39775.000000</td>\n",
       "    </tr>\n",
       "    <tr>\n",
       "      <th>mean</th>\n",
       "      <td>6.970591</td>\n",
       "      <td>5.332376</td>\n",
       "      <td>7.426446</td>\n",
       "      <td>7.128728</td>\n",
       "      <td>5.919306</td>\n",
       "      <td>5.724097</td>\n",
       "      <td>9.776971</td>\n",
       "      <td>4.444627</td>\n",
       "      <td>18.330829</td>\n",
       "      <td>9.157494</td>\n",
       "      <td>...</td>\n",
       "      <td>5.272239</td>\n",
       "      <td>4.871684</td>\n",
       "      <td>14.105871</td>\n",
       "      <td>4.335748</td>\n",
       "      <td>6.811023</td>\n",
       "      <td>5.838114</td>\n",
       "      <td>8.472124</td>\n",
       "      <td>10.274100</td>\n",
       "      <td>5.540696</td>\n",
       "      <td>8.300695</td>\n",
       "    </tr>\n",
       "    <tr>\n",
       "      <th>std</th>\n",
       "      <td>86.705132</td>\n",
       "      <td>26.513611</td>\n",
       "      <td>158.702353</td>\n",
       "      <td>75.984858</td>\n",
       "      <td>64.282067</td>\n",
       "      <td>50.195831</td>\n",
       "      <td>442.758756</td>\n",
       "      <td>22.916182</td>\n",
       "      <td>1409.724444</td>\n",
       "      <td>418.635469</td>\n",
       "      <td>...</td>\n",
       "      <td>51.466986</td>\n",
       "      <td>108.623401</td>\n",
       "      <td>376.000379</td>\n",
       "      <td>30.703420</td>\n",
       "      <td>76.601331</td>\n",
       "      <td>301.126024</td>\n",
       "      <td>168.614116</td>\n",
       "      <td>320.856859</td>\n",
       "      <td>59.782867</td>\n",
       "      <td>77.650779</td>\n",
       "    </tr>\n",
       "    <tr>\n",
       "      <th>min</th>\n",
       "      <td>0.180000</td>\n",
       "      <td>0.176000</td>\n",
       "      <td>-10.814000</td>\n",
       "      <td>0.176000</td>\n",
       "      <td>0.178000</td>\n",
       "      <td>0.178000</td>\n",
       "      <td>0.178000</td>\n",
       "      <td>0.179000</td>\n",
       "      <td>0.177000</td>\n",
       "      <td>-19.695000</td>\n",
       "      <td>...</td>\n",
       "      <td>0.179000</td>\n",
       "      <td>-1.615000</td>\n",
       "      <td>0.183000</td>\n",
       "      <td>0.178000</td>\n",
       "      <td>-0.165000</td>\n",
       "      <td>-8.921000</td>\n",
       "      <td>-0.144000</td>\n",
       "      <td>0.178000</td>\n",
       "      <td>-0.159000</td>\n",
       "      <td>0.178000</td>\n",
       "    </tr>\n",
       "    <tr>\n",
       "      <th>25%</th>\n",
       "      <td>2.664000</td>\n",
       "      <td>2.477000</td>\n",
       "      <td>2.857000</td>\n",
       "      <td>2.949000</td>\n",
       "      <td>2.327000</td>\n",
       "      <td>2.369000</td>\n",
       "      <td>2.641500</td>\n",
       "      <td>2.104500</td>\n",
       "      <td>4.218000</td>\n",
       "      <td>2.427000</td>\n",
       "      <td>...</td>\n",
       "      <td>2.162000</td>\n",
       "      <td>1.922000</td>\n",
       "      <td>4.317500</td>\n",
       "      <td>1.681000</td>\n",
       "      <td>2.883000</td>\n",
       "      <td>1.897000</td>\n",
       "      <td>2.130500</td>\n",
       "      <td>3.393500</td>\n",
       "      <td>2.237000</td>\n",
       "      <td>3.070000</td>\n",
       "    </tr>\n",
       "    <tr>\n",
       "      <th>50%</th>\n",
       "      <td>3.609000</td>\n",
       "      <td>3.511000</td>\n",
       "      <td>3.898000</td>\n",
       "      <td>4.258000</td>\n",
       "      <td>3.237000</td>\n",
       "      <td>3.248000</td>\n",
       "      <td>3.702000</td>\n",
       "      <td>2.871000</td>\n",
       "      <td>6.139000</td>\n",
       "      <td>3.375000</td>\n",
       "      <td>...</td>\n",
       "      <td>2.993000</td>\n",
       "      <td>2.653000</td>\n",
       "      <td>6.499000</td>\n",
       "      <td>2.254000</td>\n",
       "      <td>4.054000</td>\n",
       "      <td>2.602000</td>\n",
       "      <td>2.930000</td>\n",
       "      <td>4.629000</td>\n",
       "      <td>3.052000</td>\n",
       "      <td>4.373000</td>\n",
       "    </tr>\n",
       "    <tr>\n",
       "      <th>75%</th>\n",
       "      <td>5.358000</td>\n",
       "      <td>5.216000</td>\n",
       "      <td>5.766000</td>\n",
       "      <td>6.285000</td>\n",
       "      <td>4.849000</td>\n",
       "      <td>4.788000</td>\n",
       "      <td>5.362000</td>\n",
       "      <td>4.239500</td>\n",
       "      <td>9.245000</td>\n",
       "      <td>5.027000</td>\n",
       "      <td>...</td>\n",
       "      <td>4.608000</td>\n",
       "      <td>4.003500</td>\n",
       "      <td>10.388000</td>\n",
       "      <td>3.484000</td>\n",
       "      <td>5.924000</td>\n",
       "      <td>3.934500</td>\n",
       "      <td>4.940000</td>\n",
       "      <td>6.733000</td>\n",
       "      <td>4.518000</td>\n",
       "      <td>6.681000</td>\n",
       "    </tr>\n",
       "    <tr>\n",
       "      <th>max</th>\n",
       "      <td>12102.282000</td>\n",
       "      <td>2161.057000</td>\n",
       "      <td>28582.689000</td>\n",
       "      <td>9488.330000</td>\n",
       "      <td>9467.497000</td>\n",
       "      <td>5426.858000</td>\n",
       "      <td>74124.488000</td>\n",
       "      <td>2103.626000</td>\n",
       "      <td>279772.213000</td>\n",
       "      <td>74471.124000</td>\n",
       "      <td>...</td>\n",
       "      <td>8658.903000</td>\n",
       "      <td>21328.973000</td>\n",
       "      <td>72970.668000</td>\n",
       "      <td>4133.123000</td>\n",
       "      <td>12710.289000</td>\n",
       "      <td>59401.008000</td>\n",
       "      <td>31773.217000</td>\n",
       "      <td>56297.555000</td>\n",
       "      <td>8021.110000</td>\n",
       "      <td>7750.098000</td>\n",
       "    </tr>\n",
       "  </tbody>\n",
       "</table>\n",
       "<p>8 rows × 42 columns</p>\n",
       "</div>"
      ],
      "text/plain": [
       "                Q1E           Q2E           Q3E           Q4E           Q5E  \\\n",
       "count  39775.000000  39775.000000  39775.000000  39775.000000  39775.000000   \n",
       "mean       6.970591      5.332376      7.426446      7.128728      5.919306   \n",
       "std       86.705132     26.513611    158.702353     75.984858     64.282067   \n",
       "min        0.180000      0.176000    -10.814000      0.176000      0.178000   \n",
       "25%        2.664000      2.477000      2.857000      2.949000      2.327000   \n",
       "50%        3.609000      3.511000      3.898000      4.258000      3.237000   \n",
       "75%        5.358000      5.216000      5.766000      6.285000      4.849000   \n",
       "max    12102.282000   2161.057000  28582.689000   9488.330000   9467.497000   \n",
       "\n",
       "                Q6E           Q7E           Q8E            Q9E          Q10E  \\\n",
       "count  39775.000000  39775.000000  39775.000000   39775.000000  39775.000000   \n",
       "mean       5.724097      9.776971      4.444627      18.330829      9.157494   \n",
       "std       50.195831    442.758756     22.916182    1409.724444    418.635469   \n",
       "min        0.178000      0.178000      0.179000       0.177000    -19.695000   \n",
       "25%        2.369000      2.641500      2.104500       4.218000      2.427000   \n",
       "50%        3.248000      3.702000      2.871000       6.139000      3.375000   \n",
       "75%        4.788000      5.362000      4.239500       9.245000      5.027000   \n",
       "max     5426.858000  74124.488000   2103.626000  279772.213000  74471.124000   \n",
       "\n",
       "       ...          Q33E          Q34E          Q35E          Q36E  \\\n",
       "count  ...  39775.000000  39775.000000  39775.000000  39775.000000   \n",
       "mean   ...      5.272239      4.871684     14.105871      4.335748   \n",
       "std    ...     51.466986    108.623401    376.000379     30.703420   \n",
       "min    ...      0.179000     -1.615000      0.183000      0.178000   \n",
       "25%    ...      2.162000      1.922000      4.317500      1.681000   \n",
       "50%    ...      2.993000      2.653000      6.499000      2.254000   \n",
       "75%    ...      4.608000      4.003500     10.388000      3.484000   \n",
       "max    ...   8658.903000  21328.973000  72970.668000   4133.123000   \n",
       "\n",
       "               Q37E          Q38E          Q39E          Q40E          Q41E  \\\n",
       "count  39775.000000  39775.000000  39775.000000  39775.000000  39775.000000   \n",
       "mean       6.811023      5.838114      8.472124     10.274100      5.540696   \n",
       "std       76.601331    301.126024    168.614116    320.856859     59.782867   \n",
       "min       -0.165000     -8.921000     -0.144000      0.178000     -0.159000   \n",
       "25%        2.883000      1.897000      2.130500      3.393500      2.237000   \n",
       "50%        4.054000      2.602000      2.930000      4.629000      3.052000   \n",
       "75%        5.924000      3.934500      4.940000      6.733000      4.518000   \n",
       "max    12710.289000  59401.008000  31773.217000  56297.555000   8021.110000   \n",
       "\n",
       "               Q42E  \n",
       "count  39775.000000  \n",
       "mean       8.300695  \n",
       "std       77.650779  \n",
       "min        0.178000  \n",
       "25%        3.070000  \n",
       "50%        4.373000  \n",
       "75%        6.681000  \n",
       "max     7750.098000  \n",
       "\n",
       "[8 rows x 42 columns]"
      ]
     },
     "execution_count": 10,
     "metadata": {},
     "output_type": "execute_result"
    }
   ],
   "source": [
    "file1[qe_names].describe() #есть отрицательные значения - поменяем на противоположные\n",
    "#есть явные выбросы"
   ]
  },
  {
   "cell_type": "code",
   "execution_count": 174,
   "id": "chicken-attachment",
   "metadata": {},
   "outputs": [],
   "source": [
    "for col in qe_names:\n",
    "    file1.loc[file1[col]<0, col]*=-1"
   ]
  },
  {
   "cell_type": "code",
   "execution_count": 175,
   "id": "ordinary-memphis",
   "metadata": {},
   "outputs": [],
   "source": [
    "file1['total_time']=file1[qe_names].sum(axis=1)"
   ]
  },
  {
   "cell_type": "code",
   "execution_count": 176,
   "id": "expressed-salem",
   "metadata": {},
   "outputs": [
    {
     "data": {
      "text/plain": [
       "count     39775.000000\n",
       "mean        320.033395\n",
       "std        2090.782587\n",
       "min          11.148000\n",
       "25%         156.829000\n",
       "50%         202.192000\n",
       "75%         274.344000\n",
       "max      280008.689000\n",
       "Name: total_time, dtype: float64"
      ]
     },
     "execution_count": 176,
     "metadata": {},
     "output_type": "execute_result"
    }
   ],
   "source": [
    "file1['total_time'].describe()"
   ]
  },
  {
   "cell_type": "markdown",
   "id": "exempt-philip",
   "metadata": {},
   "source": [
    "Маловероятно, что люди тратили меньше секунды на прочтение вопросов и выбор ответа, даже если человек просто наугад ставил ответы, не читая вопросы. Допустим, время должно быть в 10 раз больше (хотя бы секунда)"
   ]
  },
  {
   "cell_type": "code",
   "execution_count": 177,
   "id": "herbal-patient",
   "metadata": {},
   "outputs": [],
   "source": [
    "for col in qe_names:\n",
    "    mask=(file1[col]<1)\n",
    "    file1.loc[mask,col]*=10"
   ]
  },
  {
   "cell_type": "markdown",
   "id": "focal-breach",
   "metadata": {},
   "source": [
    "Среди значений QE есть и очень большие величины порядка 10^5 секунд (27 часов на один вопрос), что вряд ли возможно. Так как не указано, что тест можно было проходить отвлекаясь в течение недели, предполагаем, что тест проходился полностью за один раз. Допустим, больше 8 часов на весь тест из 43 вопросов никто не тратил, то есть на один вопрос в среднем можно было потратить 669 секунд. Будем считать данные больше 700 - выбросами."
   ]
  },
  {
   "cell_type": "code",
   "execution_count": 178,
   "id": "suspected-person",
   "metadata": {},
   "outputs": [],
   "source": [
    "def dec_time(data):\n",
    "    if data<100: return data\n",
    "    else: return dec_time(data/10)"
   ]
  },
  {
   "cell_type": "code",
   "execution_count": 179,
   "id": "educated-military",
   "metadata": {},
   "outputs": [],
   "source": [
    "for col in qe_names:\n",
    "    file1[col]=file1[col].apply(dec_time)"
   ]
  },
  {
   "cell_type": "code",
   "execution_count": 17,
   "id": "assisted-shower",
   "metadata": {},
   "outputs": [
    {
     "data": {
      "text/html": [
       "<div>\n",
       "<style scoped>\n",
       "    .dataframe tbody tr th:only-of-type {\n",
       "        vertical-align: middle;\n",
       "    }\n",
       "\n",
       "    .dataframe tbody tr th {\n",
       "        vertical-align: top;\n",
       "    }\n",
       "\n",
       "    .dataframe thead th {\n",
       "        text-align: right;\n",
       "    }\n",
       "</style>\n",
       "<table border=\"1\" class=\"dataframe\">\n",
       "  <thead>\n",
       "    <tr style=\"text-align: right;\">\n",
       "      <th></th>\n",
       "      <th>Q1E</th>\n",
       "      <th>Q2E</th>\n",
       "      <th>Q3E</th>\n",
       "      <th>Q4E</th>\n",
       "      <th>Q5E</th>\n",
       "      <th>Q6E</th>\n",
       "      <th>Q7E</th>\n",
       "      <th>Q8E</th>\n",
       "      <th>Q9E</th>\n",
       "      <th>Q10E</th>\n",
       "      <th>...</th>\n",
       "      <th>Q33E</th>\n",
       "      <th>Q34E</th>\n",
       "      <th>Q35E</th>\n",
       "      <th>Q36E</th>\n",
       "      <th>Q37E</th>\n",
       "      <th>Q38E</th>\n",
       "      <th>Q39E</th>\n",
       "      <th>Q40E</th>\n",
       "      <th>Q41E</th>\n",
       "      <th>Q42E</th>\n",
       "    </tr>\n",
       "  </thead>\n",
       "  <tbody>\n",
       "    <tr>\n",
       "      <th>count</th>\n",
       "      <td>39775.000000</td>\n",
       "      <td>39775.000000</td>\n",
       "      <td>39775.000000</td>\n",
       "      <td>39775.000000</td>\n",
       "      <td>39775.000000</td>\n",
       "      <td>39775.000000</td>\n",
       "      <td>39775.000000</td>\n",
       "      <td>39775.000000</td>\n",
       "      <td>39775.000000</td>\n",
       "      <td>39775.000000</td>\n",
       "      <td>...</td>\n",
       "      <td>39775.000000</td>\n",
       "      <td>39775.000000</td>\n",
       "      <td>39775.000000</td>\n",
       "      <td>39775.000000</td>\n",
       "      <td>39775.000000</td>\n",
       "      <td>39775.000000</td>\n",
       "      <td>39775.000000</td>\n",
       "      <td>39775.000000</td>\n",
       "      <td>39775.000000</td>\n",
       "      <td>39775.000000</td>\n",
       "    </tr>\n",
       "    <tr>\n",
       "      <th>mean</th>\n",
       "      <td>5.483691</td>\n",
       "      <td>4.872191</td>\n",
       "      <td>5.531221</td>\n",
       "      <td>5.771915</td>\n",
       "      <td>4.844152</td>\n",
       "      <td>4.703867</td>\n",
       "      <td>5.070244</td>\n",
       "      <td>4.077815</td>\n",
       "      <td>8.504698</td>\n",
       "      <td>4.871151</td>\n",
       "      <td>...</td>\n",
       "      <td>4.462093</td>\n",
       "      <td>3.992915</td>\n",
       "      <td>9.551248</td>\n",
       "      <td>3.891542</td>\n",
       "      <td>5.605781</td>\n",
       "      <td>3.870153</td>\n",
       "      <td>6.433091</td>\n",
       "      <td>6.372881</td>\n",
       "      <td>4.739526</td>\n",
       "      <td>6.400569</td>\n",
       "    </tr>\n",
       "    <tr>\n",
       "      <th>std</th>\n",
       "      <td>6.830208</td>\n",
       "      <td>5.299667</td>\n",
       "      <td>6.131977</td>\n",
       "      <td>6.217228</td>\n",
       "      <td>6.177413</td>\n",
       "      <td>5.616568</td>\n",
       "      <td>5.734056</td>\n",
       "      <td>4.711599</td>\n",
       "      <td>8.597437</td>\n",
       "      <td>5.805801</td>\n",
       "      <td>...</td>\n",
       "      <td>5.410820</td>\n",
       "      <td>5.006681</td>\n",
       "      <td>10.236173</td>\n",
       "      <td>5.442053</td>\n",
       "      <td>6.273624</td>\n",
       "      <td>4.659465</td>\n",
       "      <td>9.877015</td>\n",
       "      <td>6.809826</td>\n",
       "      <td>6.092162</td>\n",
       "      <td>7.421336</td>\n",
       "    </tr>\n",
       "    <tr>\n",
       "      <th>min</th>\n",
       "      <td>1.000000</td>\n",
       "      <td>1.000000</td>\n",
       "      <td>1.000000</td>\n",
       "      <td>1.000000</td>\n",
       "      <td>1.000000</td>\n",
       "      <td>1.000000</td>\n",
       "      <td>1.000000</td>\n",
       "      <td>1.000000</td>\n",
       "      <td>1.004000</td>\n",
       "      <td>1.000000</td>\n",
       "      <td>...</td>\n",
       "      <td>1.000000</td>\n",
       "      <td>1.000000</td>\n",
       "      <td>1.002000</td>\n",
       "      <td>1.000000</td>\n",
       "      <td>1.000000</td>\n",
       "      <td>1.000000</td>\n",
       "      <td>1.000000</td>\n",
       "      <td>1.000000</td>\n",
       "      <td>1.000000</td>\n",
       "      <td>1.003000</td>\n",
       "    </tr>\n",
       "    <tr>\n",
       "      <th>25%</th>\n",
       "      <td>2.696000</td>\n",
       "      <td>2.522000</td>\n",
       "      <td>2.900000</td>\n",
       "      <td>3.000000</td>\n",
       "      <td>2.367000</td>\n",
       "      <td>2.407000</td>\n",
       "      <td>2.684000</td>\n",
       "      <td>2.143000</td>\n",
       "      <td>4.286000</td>\n",
       "      <td>2.468500</td>\n",
       "      <td>...</td>\n",
       "      <td>2.199000</td>\n",
       "      <td>1.964000</td>\n",
       "      <td>4.382000</td>\n",
       "      <td>1.728000</td>\n",
       "      <td>2.931000</td>\n",
       "      <td>1.935000</td>\n",
       "      <td>2.162000</td>\n",
       "      <td>3.435000</td>\n",
       "      <td>2.283000</td>\n",
       "      <td>3.128000</td>\n",
       "    </tr>\n",
       "    <tr>\n",
       "      <th>50%</th>\n",
       "      <td>3.645000</td>\n",
       "      <td>3.560000</td>\n",
       "      <td>3.947000</td>\n",
       "      <td>4.307000</td>\n",
       "      <td>3.282000</td>\n",
       "      <td>3.298000</td>\n",
       "      <td>3.744000</td>\n",
       "      <td>2.921000</td>\n",
       "      <td>6.194000</td>\n",
       "      <td>3.417000</td>\n",
       "      <td>...</td>\n",
       "      <td>3.043000</td>\n",
       "      <td>2.704000</td>\n",
       "      <td>6.550000</td>\n",
       "      <td>2.316000</td>\n",
       "      <td>4.101000</td>\n",
       "      <td>2.655000</td>\n",
       "      <td>2.977000</td>\n",
       "      <td>4.676000</td>\n",
       "      <td>3.104000</td>\n",
       "      <td>4.429000</td>\n",
       "    </tr>\n",
       "    <tr>\n",
       "      <th>75%</th>\n",
       "      <td>5.416000</td>\n",
       "      <td>5.312000</td>\n",
       "      <td>5.862000</td>\n",
       "      <td>6.358000</td>\n",
       "      <td>4.949500</td>\n",
       "      <td>4.886000</td>\n",
       "      <td>5.440000</td>\n",
       "      <td>4.326000</td>\n",
       "      <td>9.264500</td>\n",
       "      <td>5.100000</td>\n",
       "      <td>...</td>\n",
       "      <td>4.704000</td>\n",
       "      <td>4.124000</td>\n",
       "      <td>10.381000</td>\n",
       "      <td>3.667000</td>\n",
       "      <td>5.997000</td>\n",
       "      <td>4.040000</td>\n",
       "      <td>5.085000</td>\n",
       "      <td>6.806500</td>\n",
       "      <td>4.628000</td>\n",
       "      <td>6.762000</td>\n",
       "    </tr>\n",
       "    <tr>\n",
       "      <th>max</th>\n",
       "      <td>99.846000</td>\n",
       "      <td>95.711000</td>\n",
       "      <td>98.807000</td>\n",
       "      <td>99.028000</td>\n",
       "      <td>98.138000</td>\n",
       "      <td>96.163000</td>\n",
       "      <td>99.515000</td>\n",
       "      <td>99.603000</td>\n",
       "      <td>99.776000</td>\n",
       "      <td>99.959000</td>\n",
       "      <td>...</td>\n",
       "      <td>99.591000</td>\n",
       "      <td>98.970000</td>\n",
       "      <td>99.062000</td>\n",
       "      <td>96.684000</td>\n",
       "      <td>99.926000</td>\n",
       "      <td>98.914000</td>\n",
       "      <td>99.470000</td>\n",
       "      <td>99.297000</td>\n",
       "      <td>99.912800</td>\n",
       "      <td>99.991000</td>\n",
       "    </tr>\n",
       "  </tbody>\n",
       "</table>\n",
       "<p>8 rows × 42 columns</p>\n",
       "</div>"
      ],
      "text/plain": [
       "                Q1E           Q2E           Q3E           Q4E           Q5E  \\\n",
       "count  39775.000000  39775.000000  39775.000000  39775.000000  39775.000000   \n",
       "mean       5.483691      4.872191      5.531221      5.771915      4.844152   \n",
       "std        6.830208      5.299667      6.131977      6.217228      6.177413   \n",
       "min        1.000000      1.000000      1.000000      1.000000      1.000000   \n",
       "25%        2.696000      2.522000      2.900000      3.000000      2.367000   \n",
       "50%        3.645000      3.560000      3.947000      4.307000      3.282000   \n",
       "75%        5.416000      5.312000      5.862000      6.358000      4.949500   \n",
       "max       99.846000     95.711000     98.807000     99.028000     98.138000   \n",
       "\n",
       "                Q6E           Q7E           Q8E           Q9E          Q10E  \\\n",
       "count  39775.000000  39775.000000  39775.000000  39775.000000  39775.000000   \n",
       "mean       4.703867      5.070244      4.077815      8.504698      4.871151   \n",
       "std        5.616568      5.734056      4.711599      8.597437      5.805801   \n",
       "min        1.000000      1.000000      1.000000      1.004000      1.000000   \n",
       "25%        2.407000      2.684000      2.143000      4.286000      2.468500   \n",
       "50%        3.298000      3.744000      2.921000      6.194000      3.417000   \n",
       "75%        4.886000      5.440000      4.326000      9.264500      5.100000   \n",
       "max       96.163000     99.515000     99.603000     99.776000     99.959000   \n",
       "\n",
       "       ...          Q33E          Q34E          Q35E          Q36E  \\\n",
       "count  ...  39775.000000  39775.000000  39775.000000  39775.000000   \n",
       "mean   ...      4.462093      3.992915      9.551248      3.891542   \n",
       "std    ...      5.410820      5.006681     10.236173      5.442053   \n",
       "min    ...      1.000000      1.000000      1.002000      1.000000   \n",
       "25%    ...      2.199000      1.964000      4.382000      1.728000   \n",
       "50%    ...      3.043000      2.704000      6.550000      2.316000   \n",
       "75%    ...      4.704000      4.124000     10.381000      3.667000   \n",
       "max    ...     99.591000     98.970000     99.062000     96.684000   \n",
       "\n",
       "               Q37E          Q38E          Q39E          Q40E          Q41E  \\\n",
       "count  39775.000000  39775.000000  39775.000000  39775.000000  39775.000000   \n",
       "mean       5.605781      3.870153      6.433091      6.372881      4.739526   \n",
       "std        6.273624      4.659465      9.877015      6.809826      6.092162   \n",
       "min        1.000000      1.000000      1.000000      1.000000      1.000000   \n",
       "25%        2.931000      1.935000      2.162000      3.435000      2.283000   \n",
       "50%        4.101000      2.655000      2.977000      4.676000      3.104000   \n",
       "75%        5.997000      4.040000      5.085000      6.806500      4.628000   \n",
       "max       99.926000     98.914000     99.470000     99.297000     99.912800   \n",
       "\n",
       "               Q42E  \n",
       "count  39775.000000  \n",
       "mean       6.400569  \n",
       "std        7.421336  \n",
       "min        1.003000  \n",
       "25%        3.128000  \n",
       "50%        4.429000  \n",
       "75%        6.762000  \n",
       "max       99.991000  \n",
       "\n",
       "[8 rows x 42 columns]"
      ]
     },
     "execution_count": 17,
     "metadata": {},
     "output_type": "execute_result"
    }
   ],
   "source": [
    "file1[qe_names].describe()"
   ]
  },
  {
   "cell_type": "code",
   "execution_count": 180,
   "id": "assisted-single",
   "metadata": {},
   "outputs": [],
   "source": [
    "file1['testelapse']=file1[qe_names].sum(axis=1)"
   ]
  },
  {
   "cell_type": "code",
   "execution_count": 19,
   "id": "fdb1034c",
   "metadata": {},
   "outputs": [
    {
     "data": {
      "text/plain": [
       "count    3.977500e+04\n",
       "mean     2.432594e+03\n",
       "std      1.383138e+05\n",
       "min      0.000000e+00\n",
       "25%      3.000000e+00\n",
       "50%      7.000000e+00\n",
       "75%      2.000000e+01\n",
       "max      2.082974e+07\n",
       "Name: introelapse, dtype: float64"
      ]
     },
     "execution_count": 19,
     "metadata": {},
     "output_type": "execute_result"
    }
   ],
   "source": [
    "file1['introelapse'].describe()"
   ]
  },
  {
   "cell_type": "code",
   "execution_count": 181,
   "id": "e09dff35",
   "metadata": {},
   "outputs": [],
   "source": [
    "file1['introelapse']=file1['introelapse'].apply(dec_time)"
   ]
  },
  {
   "cell_type": "code",
   "execution_count": 21,
   "id": "c4460665",
   "metadata": {},
   "outputs": [
    {
     "data": {
      "text/plain": [
       "<AxesSubplot:xlabel='introelapse'>"
      ]
     },
     "execution_count": 21,
     "metadata": {},
     "output_type": "execute_result"
    },
    {
     "data": {
      "image/png": "[encoded data removed]",
      "text/plain": [
       "<Figure size 720x288 with 1 Axes>"
      ]
     },
     "metadata": {
      "needs_background": "light"
     },
     "output_type": "display_data"
    }
   ],
   "source": [
    "fig=plt.figure(figsize=(10,4))\n",
    "sns.boxplot(data=file1, x='introelapse',fliersize=0.5)"
   ]
  },
  {
   "cell_type": "markdown",
   "id": "9a117acc",
   "metadata": {},
   "source": [
    "100 секунд - вполне допустимое время, чтобы потратить на начальную страницу тестирования (в принципе, большие значения тоже допустимы, но считаем их выбросами из-за редкости таких случаев)"
   ]
  },
  {
   "cell_type": "code",
   "execution_count": 22,
   "id": "220b55ac",
   "metadata": {},
   "outputs": [
    {
     "data": {
      "text/plain": [
       "count    3.977500e+04\n",
       "mean     4.673672e+03\n",
       "std      1.842179e+05\n",
       "min      1.000000e+00\n",
       "25%      1.450000e+02\n",
       "50%      1.860000e+02\n",
       "75%      2.480000e+02\n",
       "max      2.082845e+07\n",
       "Name: surveyelapse, dtype: float64"
      ]
     },
     "execution_count": 22,
     "metadata": {},
     "output_type": "execute_result"
    }
   ],
   "source": [
    "file1['surveyelapse'].describe()"
   ]
  },
  {
   "cell_type": "code",
   "execution_count": 182,
   "id": "b74a8571",
   "metadata": {},
   "outputs": [],
   "source": [
    "file1['surveyelapse']=file1['surveyelapse'].apply(dec_time)"
   ]
  },
  {
   "cell_type": "code",
   "execution_count": 24,
   "id": "2ab0e200",
   "metadata": {},
   "outputs": [
    {
     "data": {
      "text/plain": [
       "<AxesSubplot:xlabel='surveyelapse'>"
      ]
     },
     "execution_count": 24,
     "metadata": {},
     "output_type": "execute_result"
    },
    {
     "data": {
      "image/png": "[encoded data removed]",
      "text/plain": [
       "<Figure size 720x288 with 1 Axes>"
      ]
     },
     "metadata": {
      "needs_background": "light"
     },
     "output_type": "display_data"
    }
   ],
   "source": [
    "fig=plt.figure(figsize=(10,4))\n",
    "sns.boxplot(data=file1, x='surveyelapse',fliersize=0.5)"
   ]
  },
  {
   "cell_type": "markdown",
   "id": "096a252f",
   "metadata": {},
   "source": [
    "Ситуация, аналогичная introelapse"
   ]
  },
  {
   "cell_type": "code",
   "execution_count": 183,
   "id": "incorporate-amateur",
   "metadata": {},
   "outputs": [],
   "source": [
    "q_i=['Q'+str(i)+'I' for i in range(1,43)]"
   ]
  },
  {
   "cell_type": "code",
   "execution_count": 184,
   "id": "random-divorce",
   "metadata": {},
   "outputs": [
    {
     "data": {
      "text/plain": [
       "[]"
      ]
     },
     "execution_count": 184,
     "metadata": {},
     "output_type": "execute_result"
    }
   ],
   "source": [
    "find_err(file1[q_i], range(1,43))"
   ]
  },
  {
   "cell_type": "markdown",
   "id": "incorporated-landing",
   "metadata": {},
   "source": [
    "В признаках Q_i_I нет ошибочных значений"
   ]
  },
  {
   "cell_type": "code",
   "execution_count": 27,
   "id": "enormous-circus",
   "metadata": {},
   "outputs": [
    {
     "data": {
      "text/plain": [
       "[]"
      ]
     },
     "execution_count": 27,
     "metadata": {},
     "output_type": "execute_result"
    }
   ],
   "source": [
    "aa=[]\n",
    "for i in range(file1.shape[0]):\n",
    "    a=len(file1.iloc[i][q_i].unique())\n",
    "    if a!=42: aa.append(a)\n",
    "aa"
   ]
  },
  {
   "cell_type": "markdown",
   "id": "fdd1c22f",
   "metadata": {},
   "source": [
    "Для каждого i Q_j_I - очерёдность, в которой предлагались вопросы, то есть для каждого испытуемого они должны не повторяться и соответствовать величинам от 1 до 42"
   ]
  },
  {
   "cell_type": "markdown",
   "id": "existing-shannon",
   "metadata": {},
   "source": [
    "#### Тест TIPI\n",
    "\n",
    "Набор ответов на тест TIPI - 10 утверждений, предлагается оценить, насколько учатник согласен с каждым из них, по шкале от 1 - абсолютно не согласен, 7 - абсолютно согласен\n"
   ]
  },
  {
   "cell_type": "code",
   "execution_count": 185,
   "id": "0713c40c",
   "metadata": {},
   "outputs": [],
   "source": [
    "bad_ans=find_err(file1[['TIPI'+str(i) for i in range(1,11)]], range(1,8))"
   ]
  },
  {
   "cell_type": "code",
   "execution_count": 186,
   "id": "numerical-queensland",
   "metadata": {},
   "outputs": [
    {
     "data": {
      "text/plain": [
       "[array([0, 6, 5, 1, 2, 3, 4, 7], dtype=int64),\n",
       " array([0, 3, 1, 7, 6, 4, 2, 5], dtype=int64),\n",
       " array([0, 7, 6, 2, 5, 3, 4, 1], dtype=int64),\n",
       " array([0, 7, 6, 1, 2, 5, 4, 3], dtype=int64),\n",
       " array([0, 1, 6, 2, 5, 4, 7, 3], dtype=int64),\n",
       " array([0, 7, 6, 1, 4, 5, 3, 2], dtype=int64),\n",
       " array([0, 5, 1, 7, 6, 4, 2, 3], dtype=int64),\n",
       " array([0, 5, 1, 2, 6, 4, 7, 3], dtype=int64),\n",
       " array([0, 3, 7, 1, 4, 5, 2, 6], dtype=int64),\n",
       " array([0, 7, 6, 5, 1, 4, 2, 3], dtype=int64)]"
      ]
     },
     "execution_count": 186,
     "metadata": {},
     "output_type": "execute_result"
    }
   ],
   "source": [
    "[file1.loc[bad_ans,'TIPI'+str(i) ].unique()for i in range(1,11)]"
   ]
  },
  {
   "cell_type": "markdown",
   "id": "pointed-prediction",
   "metadata": {},
   "source": [
    "Есть значения ответов - 0, что недопустимо, будем считать, что ответ пропущен. В некоторых случаях это может быть ошибкой и необходимое значение можно попробовать восстановить по имеющимся ответам человека, но для некоторых участников существенная доля ответов пропущена и это сделать невозможно, поэтому удалим такие записи"
   ]
  },
  {
   "cell_type": "code",
   "execution_count": 187,
   "id": "6ac2f135",
   "metadata": {},
   "outputs": [],
   "source": [
    "ind_to_delete=[]\n",
    "for j in list(set(bad_ans)):\n",
    "    if file1[['TIPI'+str(i) for i in range(1,11)]].iloc[j].value_counts(normalize=True)[0]>=0.4:\n",
    "        ind_to_delete.append(j)\n",
    "file1=file1.drop(ind_to_delete)\n",
    "#удалили записи, где большая часть информации потеряна"
   ]
  },
  {
   "cell_type": "markdown",
   "id": "da1d10ab",
   "metadata": {},
   "source": [
    "Остальные ошибки в ответах попробуем восстановить. Но сначала следует обратить внимание на структуру теста.\n",
    "\n",
    "Предлагается 10 черт характера/особенностей поведения, при этом из них можно выбрать пары попарно противоположных (1 и 6, 2 и 7, и тд). Необходимо оценить от 1 (совсем не согласен) до 7 (полностью согласен) присутствие каждой черты в себе. \n",
    "\n",
    "Ответы на вопросы 2, 4, 6, 8, 10 переведём к противоположным значениям: |8-ответ|\n",
    "\n",
    "Взяв полусуммы для каждой пары, получим оценки характеристик: экстравертности, доброжелательности, осознанности, эмоциональная стабильности, открытости (новому)."
   ]
  },
  {
   "cell_type": "code",
   "execution_count": 188,
   "id": "affected-modern",
   "metadata": {},
   "outputs": [],
   "source": [
    "res=file1.loc[:, ['TIPI'+str(i*2) for i in range(1,6)]].apply(lambda x: 8-x)"
   ]
  },
  {
   "cell_type": "code",
   "execution_count": 189,
   "id": "stock-paradise",
   "metadata": {},
   "outputs": [],
   "source": [
    "file1.loc[:, ['TIPI'+str(i*2) for i in range(1,6)]]=res.copy()"
   ]
  },
  {
   "cell_type": "code",
   "execution_count": 190,
   "id": "hollow-referral",
   "metadata": {},
   "outputs": [],
   "source": [
    "#в оставшихся случаях заменим нулевые значения медианными по каждому участнику\n",
    "for col in ['TIPI'+str(i) for i in range(1,11)]:\n",
    "    mask=((file1[col]==0)|(file1[col]==8))\n",
    "    file1.loc[mask, col]=file1.loc[mask, ['TIPI'+str(i) for i in range(1,11)]].median(axis=1)\n",
    "file1.loc[:,['TIPI'+str(i) for i in range(1,11)]]=file1.loc[:,['TIPI'+str(i) for i in range(1,11)]].astype('int')"
   ]
  },
  {
   "cell_type": "code",
   "execution_count": 48,
   "id": "potential-employer",
   "metadata": {},
   "outputs": [],
   "source": [
    "# ПЕРЕДЕЛАТЬ ^^"
   ]
  },
  {
   "cell_type": "code",
   "execution_count": 191,
   "id": "coordinate-architecture",
   "metadata": {},
   "outputs": [],
   "source": [
    "res=file1['TIPI1']+file1['TIPI6']\n",
    "res.name='Extraversion'\n",
    "file1=pd.concat([file1, res], axis=1)\n",
    "\n",
    "res=file1['TIPI2']+file1['TIPI7']\n",
    "res.name='Agreeableness'\n",
    "file1=pd.concat([file1, res], axis=1)\n",
    "\n",
    "res=file1['TIPI3']+file1['TIPI8']\n",
    "res.name='Conscientiousness'\n",
    "file1=pd.concat([file1, res], axis=1)\n",
    "\n",
    "res=file1['TIPI4']+file1['TIPI9']\n",
    "res.name='Em_stability'\n",
    "file1=pd.concat([file1, res], axis=1)\n",
    "\n",
    "res=file1['TIPI5']+file1['TIPI10']\n",
    "res.name='Openness'\n",
    "file1=pd.concat([file1, res], axis=1)"
   ]
  },
  {
   "cell_type": "markdown",
   "id": "frozen-highland",
   "metadata": {},
   "source": [
    "#### Тест VCL\n",
    "\n",
    "16 вопросов, варианты ответа: 1 - значение слова знакомо, 0 - иначе"
   ]
  },
  {
   "cell_type": "code",
   "execution_count": 51,
   "id": "0d234f44",
   "metadata": {},
   "outputs": [
    {
     "data": {
      "text/plain": [
       "[]"
      ]
     },
     "execution_count": 51,
     "metadata": {},
     "output_type": "execute_result"
    }
   ],
   "source": [
    "find_err(file1[['VCL'+str(_) for _ in range(1,17)]], [0,1])"
   ]
  },
  {
   "cell_type": "markdown",
   "id": "90aa5369",
   "metadata": {},
   "source": [
    "Нет ошибок в заполнении анкет"
   ]
  },
  {
   "cell_type": "markdown",
   "id": "11b81c4c",
   "metadata": {},
   "source": [
    "#### Личная информация\n",
    "\n",
    "***education*** - 1=основное общее, 2=среднее общее, 3=бакалариат, 4=магистр\t \n",
    "\n",
    "***urban (где провёл детство)***\t- 1=деревня, 2=пригород, 3=город\n",
    "\n",
    "***gender*** - 1=мужчина, 2=женщина, 3=другое\n",
    "\n",
    "***engnat*** - 1=английский - родной язык, 2=иначе\n",
    "\n",
    "***age***\t\t\t\t\t\n",
    "\n",
    "***hand***\t- 1=правша, 2=левша, 3=амбидекстр\n",
    "\n",
    "***religion***\t- 1=агностик, 2=атеист, 3=буддист, 4=католик, 5=мормон, 6=протестант, 7=другие виды христианства, 8=хинди, 9=иудаизм, 10=мусульманство, 11=сикхи, 12=другое\t\n",
    "\n",
    "***race*** 10=азиат, 20=араб, 30=афроамериканец, 40=коренное население Австралии, 50=коренное население Америки, 60=европейцы, 70=другое\t\n",
    "\n",
    "***voted***\t\t\t\t1=Yes, 2=No\n",
    "\n",
    "***married***\t\t\t\t1=Never married, 2=Currently married, 3=Previously married\n",
    "\n",
    "***familysize***\t(количество детей у матери)\t\t\n",
    "\n",
    "***major***\t\t\t\t\n",
    "\n",
    "**Технические данные**\n",
    "\n",
    "***country***\t\t\t\t\n",
    "\n",
    "***screensize***\t\t\t1=device with small screen (phone, etc), 2=device with big screen (laptop, desktop, etc)\n",
    "\n",
    "***uniquenetworklocation***\t\t1=only one survey from user's specific network in dataset, 2=multiple surveys submitted from the network of this user  (2 does not necessarily imply duplicate records for an individual, as it could be different students at a single school or different memebers of the same household; and even if 1 there still could be duplicate records from a single individual e.g. if they took it once on their wifi and once on their phone)\n",
    "\n",
    "***source***\t\t\t1=from the front page of the site hosting the survey, 2=from google, 0=other or unknown"
   ]
  },
  {
   "cell_type": "code",
   "execution_count": 52,
   "id": "59e787e4",
   "metadata": {},
   "outputs": [
    {
     "data": {
      "text/plain": [
       "array([2, 1, 3, 4, 0], dtype=int64)"
      ]
     },
     "execution_count": 52,
     "metadata": {},
     "output_type": "execute_result"
    }
   ],
   "source": [
    "file1['education'].unique()"
   ]
  },
  {
   "cell_type": "code",
   "execution_count": 192,
   "id": "ac31c70c",
   "metadata": {},
   "outputs": [],
   "source": [
    "file1['education']=file1['education'].replace(0,1)"
   ]
  },
  {
   "cell_type": "code",
   "execution_count": 193,
   "id": "sunrise-hamburg",
   "metadata": {},
   "outputs": [
    {
     "data": {
      "text/plain": [
       "5340      223\n",
       "10231    1996\n",
       "30027    1993\n",
       "33730    1991\n",
       "Name: age, dtype: int64"
      ]
     },
     "execution_count": 193,
     "metadata": {},
     "output_type": "execute_result"
    }
   ],
   "source": [
    "mask=((file1['age']>150)|(file1['age']<=0))\n",
    "file1.loc[mask,'age']"
   ]
  },
  {
   "cell_type": "code",
   "execution_count": 194,
   "id": "4086c4de",
   "metadata": {},
   "outputs": [],
   "source": [
    "file1.loc[5340, 'age']=23#видимо ошибка ввода, должно быть 22 или 23\n",
    "mask=((file1['age']>150)&(file1['age']!=223))\n",
    "#3 человека видимо написали свои года рождения"
   ]
  },
  {
   "cell_type": "code",
   "execution_count": 195,
   "id": "alpha-circle",
   "metadata": {},
   "outputs": [],
   "source": [
    "file1.loc[mask,'age']=2023-file1.loc[mask,'age']"
   ]
  },
  {
   "cell_type": "code",
   "execution_count": 57,
   "id": "28af03ed",
   "metadata": {},
   "outputs": [
    {
     "data": {
      "text/plain": [
       "count    39272.000000\n",
       "mean        23.420350\n",
       "std          8.617472\n",
       "min         13.000000\n",
       "25%         18.000000\n",
       "50%         21.000000\n",
       "75%         25.000000\n",
       "max        117.000000\n",
       "Name: age, dtype: float64"
      ]
     },
     "execution_count": 57,
     "metadata": {},
     "output_type": "execute_result"
    }
   ],
   "source": [
    "file1['age'].describe()"
   ]
  },
  {
   "cell_type": "code",
   "execution_count": 58,
   "id": "c2f78922",
   "metadata": {},
   "outputs": [
    {
     "data": {
      "text/plain": [
       "array([12,  7,  4, 10,  2,  6,  1,  8,  3,  0,  5, 11,  9], dtype=int64)"
      ]
     },
     "execution_count": 58,
     "metadata": {},
     "output_type": "execute_result"
    }
   ],
   "source": [
    "file1.religion.unique()"
   ]
  },
  {
   "cell_type": "code",
   "execution_count": 196,
   "id": "1c91ced7",
   "metadata": {},
   "outputs": [],
   "source": [
    "mask=(file1['religion']==0)\n",
    "file1.loc[mask,'religion']=12     "
   ]
  },
  {
   "cell_type": "code",
   "execution_count": 60,
   "id": "6b4d261d",
   "metadata": {},
   "outputs": [
    {
     "data": {
      "text/plain": [
       "[3    0.447647\n",
       " 2    0.334513\n",
       " 1    0.208826\n",
       " 0    0.009014\n",
       " Name: urban, dtype: float64,\n",
       " 2    0.762630\n",
       " 1    0.221863\n",
       " 3    0.013878\n",
       " 0    0.001630\n",
       " Name: gender, dtype: float64,\n",
       " 1    0.873778\n",
       " 2    0.104451\n",
       " 3    0.017442\n",
       " 0    0.004329\n",
       " Name: hand, dtype: float64,\n",
       " 1    0.858907\n",
       " 2    0.109391\n",
       " 3    0.027348\n",
       " 0    0.004354\n",
       " Name: married, dtype: float64]"
      ]
     },
     "execution_count": 60,
     "metadata": {},
     "output_type": "execute_result"
    }
   ],
   "source": [
    "[file1[col].value_counts(normalize=True) for col in ['urban', 'gender','hand', 'married']]"
   ]
  },
  {
   "cell_type": "code",
   "execution_count": 197,
   "id": "0e219172",
   "metadata": {},
   "outputs": [],
   "source": [
    "for col in ['urban', 'gender','hand', 'married']:\n",
    "    file1[col]=file1[col].replace(0, int(file1[col].median()))"
   ]
  },
  {
   "cell_type": "code",
   "execution_count": 198,
   "id": "6859335b",
   "metadata": {},
   "outputs": [
    {
     "data": {
      "text/plain": [
       "[2    0.636229\n",
       " 1    0.362752\n",
       " 0    0.001019\n",
       " Name: engnat, dtype: float64,\n",
       " 2    0.713816\n",
       " 1    0.278672\n",
       " 0    0.007512\n",
       " Name: voted, dtype: float64,\n",
       " 1    0.723569\n",
       " 2    0.276431\n",
       " Name: screensize, dtype: float64,\n",
       " 1    0.800672\n",
       " 2    0.199328\n",
       " Name: uniquenetworklocation, dtype: float64]"
      ]
     },
     "execution_count": 198,
     "metadata": {},
     "output_type": "execute_result"
    }
   ],
   "source": [
    "[file1[col].value_counts(normalize=True) for col in ['engnat', 'voted','screensize','uniquenetworklocation']]"
   ]
  },
  {
   "cell_type": "markdown",
   "id": "8fe18fd3",
   "metadata": {},
   "source": [
    "Для локации и размера экрана всё ок"
   ]
  },
  {
   "cell_type": "code",
   "execution_count": 199,
   "id": "c195c78a",
   "metadata": {},
   "outputs": [],
   "source": [
    "for col in ['engnat', 'voted']:\n",
    "    file1[col]=file1[col].replace(0, int(file1[col].median()))"
   ]
  },
  {
   "cell_type": "code",
   "execution_count": 200,
   "id": "damaged-computer",
   "metadata": {},
   "outputs": [
    {
     "data": {
      "text/plain": [
       "8      664\n",
       "9      325\n",
       "10     192\n",
       "11     108\n",
       "12      54\n",
       "13      18\n",
       "14       8\n",
       "15       6\n",
       "16       5\n",
       "17       3\n",
       "54       1\n",
       "99       1\n",
       "65       1\n",
       "62       1\n",
       "19       1\n",
       "26       1\n",
       "24       1\n",
       "23       1\n",
       "21       1\n",
       "133      1\n",
       "Name: familysize, dtype: int64"
      ]
     },
     "execution_count": 200,
     "metadata": {},
     "output_type": "execute_result"
    }
   ],
   "source": [
    "file1[file1['familysize']>7]['familysize'].value_counts()"
   ]
  },
  {
   "cell_type": "code",
   "execution_count": 201,
   "id": "72edafb0",
   "metadata": {},
   "outputs": [],
   "source": [
    "file1['familysize']=file1['familysize'].replace(list(file1[file1['familysize']>54]['familysize']),\\\n",
    "                                                int(file1['familysize'].median()))"
   ]
  },
  {
   "cell_type": "code",
   "execution_count": 202,
   "id": "b09fa181",
   "metadata": {},
   "outputs": [
    {
     "data": {
      "text/plain": [
       "10    22733\n",
       "60    10612\n",
       "70     4763\n",
       "30      597\n",
       "20      325\n",
       "50      220\n",
       "40       22\n",
       "Name: race, dtype: int64"
      ]
     },
     "execution_count": 202,
     "metadata": {},
     "output_type": "execute_result"
    }
   ],
   "source": [
    "file1.race.value_counts()"
   ]
  },
  {
   "cell_type": "code",
   "execution_count": 203,
   "id": "cde3f8f9",
   "metadata": {},
   "outputs": [
    {
     "data": {
      "text/plain": [
       "0    14312\n",
       "1    13977\n",
       "2    10983\n",
       "Name: source, dtype: int64"
      ]
     },
     "execution_count": 203,
     "metadata": {},
     "output_type": "execute_result"
    }
   ],
   "source": [
    "file1.source.value_counts()"
   ]
  },
  {
   "cell_type": "markdown",
   "id": "inclusive-sierra",
   "metadata": {},
   "source": [
    "### Анализ ответов на тесты"
   ]
  },
  {
   "cell_type": "code",
   "execution_count": 204,
   "id": "exclusive-result",
   "metadata": {},
   "outputs": [],
   "source": [
    "columns_names=file1.columns\n",
    "scale_q_names=list(columns_names[:126])+['introelapse', 'testelapse', 'surveyelapse']\n",
    "scale_q_data=file1[scale_q_names].copy()"
   ]
  },
  {
   "cell_type": "code",
   "execution_count": 206,
   "id": "driven-festival",
   "metadata": {},
   "outputs": [],
   "source": [
    "tech_names=['country', 'source','screensize', 'uniquenetworklocation']\n",
    "data_tech=file1[tech_names].copy()\n",
    "\n",
    "scale_v_names=['VCL'+str(i) for i in range(1,17)]\n",
    "scale_v_data=file1[scale_v_names].copy()\n",
    "\n",
    "personal_info_names=list(columns_names[157:162])+list(columns_names[164:171])\n",
    "personal_info=file1[personal_info_names].copy()"
   ]
  },
  {
   "cell_type": "code",
   "execution_count": 207,
   "id": "ecological-volunteer",
   "metadata": {},
   "outputs": [],
   "source": [
    "personal_info_names=list(columns_names[157:162])+list(columns_names[164:171])\n",
    "personal_info=file1[personal_info_names].copy()"
   ]
  },
  {
   "cell_type": "markdown",
   "id": "after-economics",
   "metadata": {},
   "source": [
    "Вопросы из теста DASS делятся на 3 группы: депрессия, тревожность, стресс"
   ]
  },
  {
   "cell_type": "code",
   "execution_count": 208,
   "id": "29edb187",
   "metadata": {},
   "outputs": [],
   "source": [
    "q_a=['Q'+str(i)+'A' for i in range(1,43)]\n",
    "q_depr=[3,5,10,13,16,17,21]\n",
    "q_depr+=[21+i for i in q_depr]\n",
    "q_anx=[2,4,7,9, 15,19,20]\n",
    "q_anx+=[21+i for i in q_anx]\n",
    "q_str=[1,6,8,11,12,14,18]\n",
    "q_str+=[21+i for i in q_str]\n",
    "q_depr=['Q'+str(i)+'A' for i in q_depr]\n",
    "q_anx=['Q'+str(i)+'A' for i in q_anx]\n",
    "q_str=['Q'+str(i)+'A' for i in q_str]"
   ]
  },
  {
   "cell_type": "code",
   "execution_count": 209,
   "id": "97d6357c",
   "metadata": {},
   "outputs": [],
   "source": [
    "res=scale_q_data[q_depr].sum(axis=1)\n",
    "res.name='res_depr'\n",
    "scale_q_data=pd.concat([scale_q_data, res], axis=1)\n",
    "\n",
    "res=scale_q_data[q_anx].sum(axis=1)\n",
    "res.name='res_anx'\n",
    "scale_q_data=pd.concat([scale_q_data, res], axis=1)\n",
    "\n",
    "res=scale_q_data[q_str].sum(axis=1)\n",
    "res.name='res_str'\n",
    "scale_q_data=pd.concat([scale_q_data, res], axis=1)"
   ]
  },
  {
   "cell_type": "code",
   "execution_count": 210,
   "id": "d01cbf34",
   "metadata": {},
   "outputs": [
    {
     "data": {
      "text/html": [
       "<div>\n",
       "<style scoped>\n",
       "    .dataframe tbody tr th:only-of-type {\n",
       "        vertical-align: middle;\n",
       "    }\n",
       "\n",
       "    .dataframe tbody tr th {\n",
       "        vertical-align: top;\n",
       "    }\n",
       "\n",
       "    .dataframe thead th {\n",
       "        text-align: right;\n",
       "    }\n",
       "</style>\n",
       "<table border=\"1\" class=\"dataframe\">\n",
       "  <thead>\n",
       "    <tr style=\"text-align: right;\">\n",
       "      <th></th>\n",
       "      <th>Q1A</th>\n",
       "      <th>Q1I</th>\n",
       "      <th>Q1E</th>\n",
       "      <th>Q2A</th>\n",
       "      <th>Q2I</th>\n",
       "      <th>Q2E</th>\n",
       "      <th>Q3A</th>\n",
       "      <th>Q3I</th>\n",
       "      <th>Q3E</th>\n",
       "      <th>Q4A</th>\n",
       "      <th>...</th>\n",
       "      <th>Q41E</th>\n",
       "      <th>Q42A</th>\n",
       "      <th>Q42I</th>\n",
       "      <th>Q42E</th>\n",
       "      <th>introelapse</th>\n",
       "      <th>testelapse</th>\n",
       "      <th>surveyelapse</th>\n",
       "      <th>res_depr</th>\n",
       "      <th>res_anx</th>\n",
       "      <th>res_str</th>\n",
       "    </tr>\n",
       "  </thead>\n",
       "  <tbody>\n",
       "    <tr>\n",
       "      <th>0</th>\n",
       "      <td>4</td>\n",
       "      <td>28</td>\n",
       "      <td>3.890</td>\n",
       "      <td>4</td>\n",
       "      <td>25</td>\n",
       "      <td>2.122</td>\n",
       "      <td>2</td>\n",
       "      <td>16</td>\n",
       "      <td>1.944</td>\n",
       "      <td>4</td>\n",
       "      <td>...</td>\n",
       "      <td>1.574</td>\n",
       "      <td>4</td>\n",
       "      <td>15</td>\n",
       "      <td>2.969</td>\n",
       "      <td>19.00</td>\n",
       "      <td>157.622</td>\n",
       "      <td>16.6</td>\n",
       "      <td>41</td>\n",
       "      <td>48</td>\n",
       "      <td>54</td>\n",
       "    </tr>\n",
       "    <tr>\n",
       "      <th>1</th>\n",
       "      <td>4</td>\n",
       "      <td>2</td>\n",
       "      <td>8.118</td>\n",
       "      <td>1</td>\n",
       "      <td>36</td>\n",
       "      <td>2.890</td>\n",
       "      <td>2</td>\n",
       "      <td>35</td>\n",
       "      <td>4.777</td>\n",
       "      <td>3</td>\n",
       "      <td>...</td>\n",
       "      <td>1.334</td>\n",
       "      <td>2</td>\n",
       "      <td>29</td>\n",
       "      <td>5.562</td>\n",
       "      <td>1.00</td>\n",
       "      <td>177.171</td>\n",
       "      <td>18.6</td>\n",
       "      <td>38</td>\n",
       "      <td>31</td>\n",
       "      <td>41</td>\n",
       "    </tr>\n",
       "    <tr>\n",
       "      <th>2</th>\n",
       "      <td>3</td>\n",
       "      <td>7</td>\n",
       "      <td>5.784</td>\n",
       "      <td>1</td>\n",
       "      <td>33</td>\n",
       "      <td>4.373</td>\n",
       "      <td>4</td>\n",
       "      <td>41</td>\n",
       "      <td>3.242</td>\n",
       "      <td>1</td>\n",
       "      <td>...</td>\n",
       "      <td>2.203</td>\n",
       "      <td>4</td>\n",
       "      <td>31</td>\n",
       "      <td>5.768</td>\n",
       "      <td>5.00</td>\n",
       "      <td>270.194</td>\n",
       "      <td>12.2</td>\n",
       "      <td>53</td>\n",
       "      <td>26</td>\n",
       "      <td>31</td>\n",
       "    </tr>\n",
       "    <tr>\n",
       "      <th>3</th>\n",
       "      <td>2</td>\n",
       "      <td>23</td>\n",
       "      <td>5.081</td>\n",
       "      <td>3</td>\n",
       "      <td>11</td>\n",
       "      <td>6.837</td>\n",
       "      <td>2</td>\n",
       "      <td>37</td>\n",
       "      <td>5.521</td>\n",
       "      <td>1</td>\n",
       "      <td>...</td>\n",
       "      <td>3.643</td>\n",
       "      <td>2</td>\n",
       "      <td>36</td>\n",
       "      <td>3.698</td>\n",
       "      <td>3.00</td>\n",
       "      <td>253.531</td>\n",
       "      <td>33.6</td>\n",
       "      <td>30</td>\n",
       "      <td>31</td>\n",
       "      <td>30</td>\n",
       "    </tr>\n",
       "    <tr>\n",
       "      <th>4</th>\n",
       "      <td>2</td>\n",
       "      <td>36</td>\n",
       "      <td>3.215</td>\n",
       "      <td>2</td>\n",
       "      <td>13</td>\n",
       "      <td>7.731</td>\n",
       "      <td>3</td>\n",
       "      <td>5</td>\n",
       "      <td>4.156</td>\n",
       "      <td>4</td>\n",
       "      <td>...</td>\n",
       "      <td>1.950</td>\n",
       "      <td>3</td>\n",
       "      <td>6</td>\n",
       "      <td>6.265</td>\n",
       "      <td>17.66</td>\n",
       "      <td>163.402</td>\n",
       "      <td>15.7</td>\n",
       "      <td>46</td>\n",
       "      <td>54</td>\n",
       "      <td>43</td>\n",
       "    </tr>\n",
       "  </tbody>\n",
       "</table>\n",
       "<p>5 rows × 132 columns</p>\n",
       "</div>"
      ],
      "text/plain": [
       "   Q1A  Q1I    Q1E  Q2A  Q2I    Q2E  Q3A  Q3I    Q3E  Q4A  ...   Q41E  Q42A  \\\n",
       "0    4   28  3.890    4   25  2.122    2   16  1.944    4  ...  1.574     4   \n",
       "1    4    2  8.118    1   36  2.890    2   35  4.777    3  ...  1.334     2   \n",
       "2    3    7  5.784    1   33  4.373    4   41  3.242    1  ...  2.203     4   \n",
       "3    2   23  5.081    3   11  6.837    2   37  5.521    1  ...  3.643     2   \n",
       "4    2   36  3.215    2   13  7.731    3    5  4.156    4  ...  1.950     3   \n",
       "\n",
       "   Q42I   Q42E  introelapse  testelapse  surveyelapse  res_depr  res_anx  \\\n",
       "0    15  2.969        19.00     157.622          16.6        41       48   \n",
       "1    29  5.562         1.00     177.171          18.6        38       31   \n",
       "2    31  5.768         5.00     270.194          12.2        53       26   \n",
       "3    36  3.698         3.00     253.531          33.6        30       31   \n",
       "4     6  6.265        17.66     163.402          15.7        46       54   \n",
       "\n",
       "   res_str  \n",
       "0       54  \n",
       "1       41  \n",
       "2       31  \n",
       "3       30  \n",
       "4       43  \n",
       "\n",
       "[5 rows x 132 columns]"
      ]
     },
     "execution_count": 210,
     "metadata": {},
     "output_type": "execute_result"
    }
   ],
   "source": [
    "scale_q_data.head()"
   ]
  },
  {
   "cell_type": "code",
   "execution_count": 211,
   "id": "bd814065",
   "metadata": {},
   "outputs": [],
   "source": [
    "def levels(x, arr):\n",
    "    for el in arr:\n",
    "        if x<=el:\n",
    "            return arr.index(el)\n",
    "    return 'error'"
   ]
  },
  {
   "cell_type": "code",
   "execution_count": 212,
   "id": "42be3ec3",
   "metadata": {},
   "outputs": [],
   "source": [
    "res2=scale_q_data['res_depr'].apply(levels, arr=list(scale_q_data['res_depr'].describe()[-4:]))\n",
    "res2.name='depr_level'"
   ]
  },
  {
   "cell_type": "code",
   "execution_count": 213,
   "id": "6127090c",
   "metadata": {},
   "outputs": [],
   "source": [
    "scale_q_data=pd.concat([scale_q_data,res2], axis=1)"
   ]
  },
  {
   "cell_type": "code",
   "execution_count": 214,
   "id": "d66e1f9c",
   "metadata": {},
   "outputs": [],
   "source": [
    "res2=scale_q_data['res_anx'].apply(levels, arr=list(scale_q_data['res_anx'].describe()[-4:]))\n",
    "res2.name='anx_level'\n",
    "scale_q_data=pd.concat([scale_q_data,res2], axis=1)"
   ]
  },
  {
   "cell_type": "code",
   "execution_count": 215,
   "id": "bd9bc768",
   "metadata": {},
   "outputs": [
    {
     "data": {
      "text/html": [
       "<div>\n",
       "<style scoped>\n",
       "    .dataframe tbody tr th:only-of-type {\n",
       "        vertical-align: middle;\n",
       "    }\n",
       "\n",
       "    .dataframe tbody tr th {\n",
       "        vertical-align: top;\n",
       "    }\n",
       "\n",
       "    .dataframe thead th {\n",
       "        text-align: right;\n",
       "    }\n",
       "</style>\n",
       "<table border=\"1\" class=\"dataframe\">\n",
       "  <thead>\n",
       "    <tr style=\"text-align: right;\">\n",
       "      <th></th>\n",
       "      <th>Q1A</th>\n",
       "      <th>Q1I</th>\n",
       "      <th>Q1E</th>\n",
       "      <th>Q2A</th>\n",
       "      <th>Q2I</th>\n",
       "      <th>Q2E</th>\n",
       "      <th>Q3A</th>\n",
       "      <th>Q3I</th>\n",
       "      <th>Q3E</th>\n",
       "      <th>Q4A</th>\n",
       "      <th>...</th>\n",
       "      <th>Q42E</th>\n",
       "      <th>introelapse</th>\n",
       "      <th>testelapse</th>\n",
       "      <th>surveyelapse</th>\n",
       "      <th>res_depr</th>\n",
       "      <th>res_anx</th>\n",
       "      <th>res_str</th>\n",
       "      <th>depr_level</th>\n",
       "      <th>anx_level</th>\n",
       "      <th>str_level</th>\n",
       "    </tr>\n",
       "  </thead>\n",
       "  <tbody>\n",
       "    <tr>\n",
       "      <th>0</th>\n",
       "      <td>4</td>\n",
       "      <td>28</td>\n",
       "      <td>3.890</td>\n",
       "      <td>4</td>\n",
       "      <td>25</td>\n",
       "      <td>2.122</td>\n",
       "      <td>2</td>\n",
       "      <td>16</td>\n",
       "      <td>1.944</td>\n",
       "      <td>4</td>\n",
       "      <td>...</td>\n",
       "      <td>2.969</td>\n",
       "      <td>19.00</td>\n",
       "      <td>157.622</td>\n",
       "      <td>16.6</td>\n",
       "      <td>41</td>\n",
       "      <td>48</td>\n",
       "      <td>54</td>\n",
       "      <td>2</td>\n",
       "      <td>3</td>\n",
       "      <td>3</td>\n",
       "    </tr>\n",
       "    <tr>\n",
       "      <th>1</th>\n",
       "      <td>4</td>\n",
       "      <td>2</td>\n",
       "      <td>8.118</td>\n",
       "      <td>1</td>\n",
       "      <td>36</td>\n",
       "      <td>2.890</td>\n",
       "      <td>2</td>\n",
       "      <td>35</td>\n",
       "      <td>4.777</td>\n",
       "      <td>3</td>\n",
       "      <td>...</td>\n",
       "      <td>5.562</td>\n",
       "      <td>1.00</td>\n",
       "      <td>177.171</td>\n",
       "      <td>18.6</td>\n",
       "      <td>38</td>\n",
       "      <td>31</td>\n",
       "      <td>41</td>\n",
       "      <td>2</td>\n",
       "      <td>2</td>\n",
       "      <td>2</td>\n",
       "    </tr>\n",
       "    <tr>\n",
       "      <th>2</th>\n",
       "      <td>3</td>\n",
       "      <td>7</td>\n",
       "      <td>5.784</td>\n",
       "      <td>1</td>\n",
       "      <td>33</td>\n",
       "      <td>4.373</td>\n",
       "      <td>4</td>\n",
       "      <td>41</td>\n",
       "      <td>3.242</td>\n",
       "      <td>1</td>\n",
       "      <td>...</td>\n",
       "      <td>5.768</td>\n",
       "      <td>5.00</td>\n",
       "      <td>270.194</td>\n",
       "      <td>12.2</td>\n",
       "      <td>53</td>\n",
       "      <td>26</td>\n",
       "      <td>31</td>\n",
       "      <td>3</td>\n",
       "      <td>1</td>\n",
       "      <td>1</td>\n",
       "    </tr>\n",
       "    <tr>\n",
       "      <th>3</th>\n",
       "      <td>2</td>\n",
       "      <td>23</td>\n",
       "      <td>5.081</td>\n",
       "      <td>3</td>\n",
       "      <td>11</td>\n",
       "      <td>6.837</td>\n",
       "      <td>2</td>\n",
       "      <td>37</td>\n",
       "      <td>5.521</td>\n",
       "      <td>1</td>\n",
       "      <td>...</td>\n",
       "      <td>3.698</td>\n",
       "      <td>3.00</td>\n",
       "      <td>253.531</td>\n",
       "      <td>33.6</td>\n",
       "      <td>30</td>\n",
       "      <td>31</td>\n",
       "      <td>30</td>\n",
       "      <td>1</td>\n",
       "      <td>2</td>\n",
       "      <td>1</td>\n",
       "    </tr>\n",
       "    <tr>\n",
       "      <th>4</th>\n",
       "      <td>2</td>\n",
       "      <td>36</td>\n",
       "      <td>3.215</td>\n",
       "      <td>2</td>\n",
       "      <td>13</td>\n",
       "      <td>7.731</td>\n",
       "      <td>3</td>\n",
       "      <td>5</td>\n",
       "      <td>4.156</td>\n",
       "      <td>4</td>\n",
       "      <td>...</td>\n",
       "      <td>6.265</td>\n",
       "      <td>17.66</td>\n",
       "      <td>163.402</td>\n",
       "      <td>15.7</td>\n",
       "      <td>46</td>\n",
       "      <td>54</td>\n",
       "      <td>43</td>\n",
       "      <td>2</td>\n",
       "      <td>3</td>\n",
       "      <td>2</td>\n",
       "    </tr>\n",
       "  </tbody>\n",
       "</table>\n",
       "<p>5 rows × 135 columns</p>\n",
       "</div>"
      ],
      "text/plain": [
       "   Q1A  Q1I    Q1E  Q2A  Q2I    Q2E  Q3A  Q3I    Q3E  Q4A  ...   Q42E  \\\n",
       "0    4   28  3.890    4   25  2.122    2   16  1.944    4  ...  2.969   \n",
       "1    4    2  8.118    1   36  2.890    2   35  4.777    3  ...  5.562   \n",
       "2    3    7  5.784    1   33  4.373    4   41  3.242    1  ...  5.768   \n",
       "3    2   23  5.081    3   11  6.837    2   37  5.521    1  ...  3.698   \n",
       "4    2   36  3.215    2   13  7.731    3    5  4.156    4  ...  6.265   \n",
       "\n",
       "   introelapse  testelapse  surveyelapse  res_depr  res_anx  res_str  \\\n",
       "0        19.00     157.622          16.6        41       48       54   \n",
       "1         1.00     177.171          18.6        38       31       41   \n",
       "2         5.00     270.194          12.2        53       26       31   \n",
       "3         3.00     253.531          33.6        30       31       30   \n",
       "4        17.66     163.402          15.7        46       54       43   \n",
       "\n",
       "   depr_level  anx_level  str_level  \n",
       "0           2          3          3  \n",
       "1           2          2          2  \n",
       "2           3          1          1  \n",
       "3           1          2          1  \n",
       "4           2          3          2  \n",
       "\n",
       "[5 rows x 135 columns]"
      ]
     },
     "execution_count": 215,
     "metadata": {},
     "output_type": "execute_result"
    }
   ],
   "source": [
    "res2=scale_q_data['res_str'].apply(levels, arr=list(scale_q_data['res_str'].describe()[-4:]))\n",
    "res2.name='str_level'\n",
    "scale_q_data=pd.concat([scale_q_data,res2], axis=1)\n",
    "scale_q_data.head()"
   ]
  },
  {
   "cell_type": "markdown",
   "id": "50aa25f3",
   "metadata": {},
   "source": [
    "Как соотносятся между собой результаты этого теста\n",
    "\n",
    "Какие признаки наиболее характерны для людей с выраженной депрессией?\n",
    "\n",
    "Какие признаки наименее характерны для людей с выраженной депрессией?\n",
    "\n",
    "Аналогичные вопросы про стресс и тревогу\n",
    "\n",
    "Есть ли зависимость между очерёдностью вопросов и скоростью ответа/результатом\n",
    "\n",
    "Есть ли зависимость между скоростью ответа и результатом"
   ]
  },
  {
   "cell_type": "markdown",
   "id": "declared-software",
   "metadata": {},
   "source": [
    "Найдём вопрос, на который тратят больше/меньше всех времени, посмотрим график времени от его номера очерёдности"
   ]
  },
  {
   "cell_type": "code",
   "execution_count": 79,
   "id": "amazing-configuration",
   "metadata": {},
   "outputs": [
    {
     "data": {
      "text/plain": [
       "24"
      ]
     },
     "execution_count": 79,
     "metadata": {},
     "output_type": "execute_result"
    }
   ],
   "source": [
    "np.argmax(scale_q_data[qe_names].median()) #вопрос 25 из блока на тревожность"
   ]
  },
  {
   "cell_type": "code",
   "execution_count": 83,
   "id": "important-leader",
   "metadata": {},
   "outputs": [
    {
     "data": {
      "text/plain": [
       "<AxesSubplot:title={'center':'Q25E'}, xlabel='Q25I'>"
      ]
     },
     "execution_count": 83,
     "metadata": {},
     "output_type": "execute_result"
    },
    {
     "data": {
      "image/png": "[encoded data removed]",
      "text/plain": [
       "<Figure size 2160x864 with 1 Axes>"
      ]
     },
     "metadata": {
      "needs_background": "light"
     },
     "output_type": "display_data"
    }
   ],
   "source": [
    "scale_q_data.boxplot(column='Q25E', by='Q25I',figsize=(30,12), fontsize=15)"
   ]
  },
  {
   "cell_type": "code",
   "execution_count": 84,
   "id": "stretch-classification",
   "metadata": {},
   "outputs": [
    {
     "data": {
      "text/plain": [
       "35"
      ]
     },
     "execution_count": 84,
     "metadata": {},
     "output_type": "execute_result"
    }
   ],
   "source": [
    "np.argmin(scale_q_data[qe_names].median()) #36 вопрос тоже из блока про тревожность"
   ]
  },
  {
   "cell_type": "code",
   "execution_count": 85,
   "id": "respected-pathology",
   "metadata": {},
   "outputs": [
    {
     "data": {
      "text/plain": [
       "<AxesSubplot:title={'center':'Q36E'}, xlabel='Q36I'>"
      ]
     },
     "execution_count": 85,
     "metadata": {},
     "output_type": "execute_result"
    },
    {
     "data": {
      "image/png": "[encoded data removed]",
      "text/plain": [
       "<Figure size 2160x864 with 1 Axes>"
      ]
     },
     "metadata": {
      "needs_background": "light"
     },
     "output_type": "display_data"
    }
   ],
   "source": [
    "scale_q_data.boxplot(column='Q36E', by='Q36I',figsize=(30,12), fontsize=15)"
   ]
  },
  {
   "cell_type": "markdown",
   "id": "naughty-priority",
   "metadata": {},
   "source": [
    "Q25 I was aware of the action of my heart in the absence of physical exertion (eg, sense of heart rate increase, heart missing a beat)\n",
    "\n",
    "Q36 I felt terrified"
   ]
  },
  {
   "cell_type": "code",
   "execution_count": 102,
   "id": "desirable-tuning",
   "metadata": {},
   "outputs": [
    {
     "data": {
      "text/plain": [
       "Q36A\n",
       "1    2.134\n",
       "2    2.766\n",
       "3    2.463\n",
       "4    1.887\n",
       "Name: Q36E, dtype: float64"
      ]
     },
     "execution_count": 102,
     "metadata": {},
     "output_type": "execute_result"
    }
   ],
   "source": [
    "scale_q_data.groupby('Q36A')['Q36E'].median()"
   ]
  },
  {
   "cell_type": "code",
   "execution_count": 103,
   "id": "passive-wednesday",
   "metadata": {},
   "outputs": [
    {
     "data": {
      "text/plain": [
       "Q25A\n",
       "1    6.5565\n",
       "2    7.4640\n",
       "3    6.8495\n",
       "4    5.7505\n",
       "Name: Q25E, dtype: float64"
      ]
     },
     "execution_count": 103,
     "metadata": {},
     "output_type": "execute_result"
    }
   ],
   "source": [
    "scale_q_data.groupby('Q25A')['Q25E'].median()"
   ]
  },
  {
   "cell_type": "code",
   "execution_count": 104,
   "id": "exotic-selling",
   "metadata": {},
   "outputs": [
    {
     "data": {
      "text/html": [
       "<div>\n",
       "<style scoped>\n",
       "    .dataframe tbody tr th:only-of-type {\n",
       "        vertical-align: middle;\n",
       "    }\n",
       "\n",
       "    .dataframe tbody tr th {\n",
       "        vertical-align: top;\n",
       "    }\n",
       "\n",
       "    .dataframe thead th {\n",
       "        text-align: right;\n",
       "    }\n",
       "</style>\n",
       "<table border=\"1\" class=\"dataframe\">\n",
       "  <thead>\n",
       "    <tr style=\"text-align: right;\">\n",
       "      <th></th>\n",
       "      <th></th>\n",
       "      <th>Q25E</th>\n",
       "      <th>Q36E</th>\n",
       "    </tr>\n",
       "    <tr>\n",
       "      <th>depr_level</th>\n",
       "      <th>str_level</th>\n",
       "      <th></th>\n",
       "      <th></th>\n",
       "    </tr>\n",
       "  </thead>\n",
       "  <tbody>\n",
       "    <tr>\n",
       "      <th rowspan=\"4\" valign=\"top\">0</th>\n",
       "      <th>0</th>\n",
       "      <td>6.8220</td>\n",
       "      <td>2.1680</td>\n",
       "    </tr>\n",
       "    <tr>\n",
       "      <th>1</th>\n",
       "      <td>7.0590</td>\n",
       "      <td>2.5100</td>\n",
       "    </tr>\n",
       "    <tr>\n",
       "      <th>2</th>\n",
       "      <td>6.7190</td>\n",
       "      <td>2.3970</td>\n",
       "    </tr>\n",
       "    <tr>\n",
       "      <th>3</th>\n",
       "      <td>5.8050</td>\n",
       "      <td>2.4060</td>\n",
       "    </tr>\n",
       "    <tr>\n",
       "      <th rowspan=\"4\" valign=\"top\">1</th>\n",
       "      <th>0</th>\n",
       "      <td>6.9465</td>\n",
       "      <td>2.3970</td>\n",
       "    </tr>\n",
       "    <tr>\n",
       "      <th>1</th>\n",
       "      <td>7.2560</td>\n",
       "      <td>2.5325</td>\n",
       "    </tr>\n",
       "    <tr>\n",
       "      <th>2</th>\n",
       "      <td>6.9665</td>\n",
       "      <td>2.5205</td>\n",
       "    </tr>\n",
       "    <tr>\n",
       "      <th>3</th>\n",
       "      <td>6.4630</td>\n",
       "      <td>2.3260</td>\n",
       "    </tr>\n",
       "    <tr>\n",
       "      <th rowspan=\"4\" valign=\"top\">2</th>\n",
       "      <th>0</th>\n",
       "      <td>6.5715</td>\n",
       "      <td>2.4715</td>\n",
       "    </tr>\n",
       "    <tr>\n",
       "      <th>1</th>\n",
       "      <td>6.8630</td>\n",
       "      <td>2.4940</td>\n",
       "    </tr>\n",
       "    <tr>\n",
       "      <th>2</th>\n",
       "      <td>6.8255</td>\n",
       "      <td>2.3775</td>\n",
       "    </tr>\n",
       "    <tr>\n",
       "      <th>3</th>\n",
       "      <td>6.6475</td>\n",
       "      <td>2.2335</td>\n",
       "    </tr>\n",
       "    <tr>\n",
       "      <th rowspan=\"4\" valign=\"top\">3</th>\n",
       "      <th>0</th>\n",
       "      <td>6.3440</td>\n",
       "      <td>2.4390</td>\n",
       "    </tr>\n",
       "    <tr>\n",
       "      <th>1</th>\n",
       "      <td>6.6990</td>\n",
       "      <td>2.4670</td>\n",
       "    </tr>\n",
       "    <tr>\n",
       "      <th>2</th>\n",
       "      <td>6.7350</td>\n",
       "      <td>2.2980</td>\n",
       "    </tr>\n",
       "    <tr>\n",
       "      <th>3</th>\n",
       "      <td>6.0500</td>\n",
       "      <td>1.9740</td>\n",
       "    </tr>\n",
       "  </tbody>\n",
       "</table>\n",
       "</div>"
      ],
      "text/plain": [
       "                        Q25E    Q36E\n",
       "depr_level str_level                \n",
       "0          0          6.8220  2.1680\n",
       "           1          7.0590  2.5100\n",
       "           2          6.7190  2.3970\n",
       "           3          5.8050  2.4060\n",
       "1          0          6.9465  2.3970\n",
       "           1          7.2560  2.5325\n",
       "           2          6.9665  2.5205\n",
       "           3          6.4630  2.3260\n",
       "2          0          6.5715  2.4715\n",
       "           1          6.8630  2.4940\n",
       "           2          6.8255  2.3775\n",
       "           3          6.6475  2.2335\n",
       "3          0          6.3440  2.4390\n",
       "           1          6.6990  2.4670\n",
       "           2          6.7350  2.2980\n",
       "           3          6.0500  1.9740"
      ]
     },
     "execution_count": 104,
     "metadata": {},
     "output_type": "execute_result"
    }
   ],
   "source": [
    "pd.pivot_table(scale_q_data, index=['depr_level', 'str_level'], values=['Q25E', 'Q36E'], aggfunc='median')"
   ]
  },
  {
   "cell_type": "markdown",
   "id": "heard-mason",
   "metadata": {},
   "source": [
    "Медленнее выбирают 2 вариант ответа, возможно из-за сложности оценки невыраженного состояния (возможно также что такие результаты завышены или занижены в отдельных случаях, так как кто-то боится неправильно себя оценить и приуменьшает свои проблемы, а кто-то склонен к мнительности)"
   ]
  },
  {
   "cell_type": "code",
   "execution_count": 105,
   "id": "compatible-playing",
   "metadata": {},
   "outputs": [
    {
     "data": {
      "text/plain": [
       "1    0.315517\n",
       "2    0.302073\n",
       "4    0.199862\n",
       "3    0.182547\n",
       "Name: Q36A, dtype: float64"
      ]
     },
     "execution_count": 105,
     "metadata": {},
     "output_type": "execute_result"
    }
   ],
   "source": [
    "scale_q_data['Q36A'].value_counts(normalize=True)"
   ]
  },
  {
   "cell_type": "code",
   "execution_count": 106,
   "id": "mexican-imaging",
   "metadata": {},
   "outputs": [
    {
     "data": {
      "text/plain": [
       "1    0.341363\n",
       "2    0.299552\n",
       "3    0.192860\n",
       "4    0.166225\n",
       "Name: Q25A, dtype: float64"
      ]
     },
     "execution_count": 106,
     "metadata": {},
     "output_type": "execute_result"
    }
   ],
   "source": [
    "scale_q_data['Q25A'].value_counts(normalize=True)"
   ]
  },
  {
   "cell_type": "code",
   "execution_count": 107,
   "id": "twelve-obligation",
   "metadata": {},
   "outputs": [
    {
     "data": {
      "text/html": [
       "<div>\n",
       "<style scoped>\n",
       "    .dataframe tbody tr th:only-of-type {\n",
       "        vertical-align: middle;\n",
       "    }\n",
       "\n",
       "    .dataframe tbody tr th {\n",
       "        vertical-align: top;\n",
       "    }\n",
       "\n",
       "    .dataframe thead tr th {\n",
       "        text-align: left;\n",
       "    }\n",
       "\n",
       "    .dataframe thead tr:last-of-type th {\n",
       "        text-align: right;\n",
       "    }\n",
       "</style>\n",
       "<table border=\"1\" class=\"dataframe\">\n",
       "  <thead>\n",
       "    <tr>\n",
       "      <th></th>\n",
       "      <th colspan=\"8\" halign=\"left\">anx_level</th>\n",
       "      <th colspan=\"8\" halign=\"left\">str_level</th>\n",
       "    </tr>\n",
       "    <tr>\n",
       "      <th></th>\n",
       "      <th>count</th>\n",
       "      <th>mean</th>\n",
       "      <th>std</th>\n",
       "      <th>min</th>\n",
       "      <th>25%</th>\n",
       "      <th>50%</th>\n",
       "      <th>75%</th>\n",
       "      <th>max</th>\n",
       "      <th>count</th>\n",
       "      <th>mean</th>\n",
       "      <th>std</th>\n",
       "      <th>min</th>\n",
       "      <th>25%</th>\n",
       "      <th>50%</th>\n",
       "      <th>75%</th>\n",
       "      <th>max</th>\n",
       "    </tr>\n",
       "    <tr>\n",
       "      <th>depr_level</th>\n",
       "      <th></th>\n",
       "      <th></th>\n",
       "      <th></th>\n",
       "      <th></th>\n",
       "      <th></th>\n",
       "      <th></th>\n",
       "      <th></th>\n",
       "      <th></th>\n",
       "      <th></th>\n",
       "      <th></th>\n",
       "      <th></th>\n",
       "      <th></th>\n",
       "      <th></th>\n",
       "      <th></th>\n",
       "      <th></th>\n",
       "      <th></th>\n",
       "    </tr>\n",
       "  </thead>\n",
       "  <tbody>\n",
       "    <tr>\n",
       "      <th>0</th>\n",
       "      <td>10553.0</td>\n",
       "      <td>0.462523</td>\n",
       "      <td>0.732350</td>\n",
       "      <td>0.0</td>\n",
       "      <td>0.0</td>\n",
       "      <td>0.0</td>\n",
       "      <td>1.0</td>\n",
       "      <td>3.0</td>\n",
       "      <td>10553.0</td>\n",
       "      <td>0.417038</td>\n",
       "      <td>0.698586</td>\n",
       "      <td>0.0</td>\n",
       "      <td>0.0</td>\n",
       "      <td>0.0</td>\n",
       "      <td>1.0</td>\n",
       "      <td>3.0</td>\n",
       "    </tr>\n",
       "    <tr>\n",
       "      <th>1</th>\n",
       "      <td>9801.0</td>\n",
       "      <td>1.247220</td>\n",
       "      <td>0.948575</td>\n",
       "      <td>0.0</td>\n",
       "      <td>1.0</td>\n",
       "      <td>1.0</td>\n",
       "      <td>2.0</td>\n",
       "      <td>3.0</td>\n",
       "      <td>9801.0</td>\n",
       "      <td>1.232833</td>\n",
       "      <td>0.892638</td>\n",
       "      <td>0.0</td>\n",
       "      <td>1.0</td>\n",
       "      <td>1.0</td>\n",
       "      <td>2.0</td>\n",
       "      <td>3.0</td>\n",
       "    </tr>\n",
       "    <tr>\n",
       "      <th>2</th>\n",
       "      <td>9941.0</td>\n",
       "      <td>1.840157</td>\n",
       "      <td>0.988007</td>\n",
       "      <td>0.0</td>\n",
       "      <td>1.0</td>\n",
       "      <td>2.0</td>\n",
       "      <td>3.0</td>\n",
       "      <td>3.0</td>\n",
       "      <td>9941.0</td>\n",
       "      <td>1.881400</td>\n",
       "      <td>0.902443</td>\n",
       "      <td>0.0</td>\n",
       "      <td>1.0</td>\n",
       "      <td>2.0</td>\n",
       "      <td>3.0</td>\n",
       "      <td>3.0</td>\n",
       "    </tr>\n",
       "    <tr>\n",
       "      <th>3</th>\n",
       "      <td>8977.0</td>\n",
       "      <td>2.364821</td>\n",
       "      <td>0.887388</td>\n",
       "      <td>0.0</td>\n",
       "      <td>2.0</td>\n",
       "      <td>3.0</td>\n",
       "      <td>3.0</td>\n",
       "      <td>3.0</td>\n",
       "      <td>8977.0</td>\n",
       "      <td>2.483458</td>\n",
       "      <td>0.782766</td>\n",
       "      <td>0.0</td>\n",
       "      <td>2.0</td>\n",
       "      <td>3.0</td>\n",
       "      <td>3.0</td>\n",
       "      <td>3.0</td>\n",
       "    </tr>\n",
       "  </tbody>\n",
       "</table>\n",
       "</div>"
      ],
      "text/plain": [
       "           anx_level                                              str_level  \\\n",
       "               count      mean       std  min  25%  50%  75%  max     count   \n",
       "depr_level                                                                    \n",
       "0            10553.0  0.462523  0.732350  0.0  0.0  0.0  1.0  3.0   10553.0   \n",
       "1             9801.0  1.247220  0.948575  0.0  1.0  1.0  2.0  3.0    9801.0   \n",
       "2             9941.0  1.840157  0.988007  0.0  1.0  2.0  3.0  3.0    9941.0   \n",
       "3             8977.0  2.364821  0.887388  0.0  2.0  3.0  3.0  3.0    8977.0   \n",
       "\n",
       "                                                         \n",
       "                mean       std  min  25%  50%  75%  max  \n",
       "depr_level                                               \n",
       "0           0.417038  0.698586  0.0  0.0  0.0  1.0  3.0  \n",
       "1           1.232833  0.892638  0.0  1.0  1.0  2.0  3.0  \n",
       "2           1.881400  0.902443  0.0  1.0  2.0  3.0  3.0  \n",
       "3           2.483458  0.782766  0.0  2.0  3.0  3.0  3.0  "
      ]
     },
     "execution_count": 107,
     "metadata": {},
     "output_type": "execute_result"
    }
   ],
   "source": [
    "scale_q_data.groupby('depr_level')[['anx_level','str_level']].describe()"
   ]
  },
  {
   "cell_type": "markdown",
   "id": "included-logging",
   "metadata": {},
   "source": [
    "Чем выше уровень депрессии, тем чаще встречаются серьёзные проявления тревожности и стресса"
   ]
  },
  {
   "cell_type": "code",
   "execution_count": 108,
   "id": "5b648d81",
   "metadata": {},
   "outputs": [
    {
     "data": {
      "text/html": [
       "<div>\n",
       "<style scoped>\n",
       "    .dataframe tbody tr th:only-of-type {\n",
       "        vertical-align: middle;\n",
       "    }\n",
       "\n",
       "    .dataframe tbody tr th {\n",
       "        vertical-align: top;\n",
       "    }\n",
       "\n",
       "    .dataframe thead th {\n",
       "        text-align: right;\n",
       "    }\n",
       "</style>\n",
       "<table border=\"1\" class=\"dataframe\">\n",
       "  <thead>\n",
       "    <tr style=\"text-align: right;\">\n",
       "      <th></th>\n",
       "      <th>depr_level</th>\n",
       "      <th>anx_level</th>\n",
       "      <th>str_level</th>\n",
       "    </tr>\n",
       "  </thead>\n",
       "  <tbody>\n",
       "    <tr>\n",
       "      <th>depr_level</th>\n",
       "      <td>1.000000</td>\n",
       "      <td>0.619237</td>\n",
       "      <td>0.680725</td>\n",
       "    </tr>\n",
       "    <tr>\n",
       "      <th>anx_level</th>\n",
       "      <td>0.619237</td>\n",
       "      <td>1.000000</td>\n",
       "      <td>0.747659</td>\n",
       "    </tr>\n",
       "    <tr>\n",
       "      <th>str_level</th>\n",
       "      <td>0.680725</td>\n",
       "      <td>0.747659</td>\n",
       "      <td>1.000000</td>\n",
       "    </tr>\n",
       "  </tbody>\n",
       "</table>\n",
       "</div>"
      ],
      "text/plain": [
       "            depr_level  anx_level  str_level\n",
       "depr_level    1.000000   0.619237   0.680725\n",
       "anx_level     0.619237   1.000000   0.747659\n",
       "str_level     0.680725   0.747659   1.000000"
      ]
     },
     "execution_count": 108,
     "metadata": {},
     "output_type": "execute_result"
    }
   ],
   "source": [
    "scale_q_data[['depr_level','anx_level','str_level']].corr()"
   ]
  },
  {
   "cell_type": "markdown",
   "id": "451ee7ee",
   "metadata": {},
   "source": [
    "Видно, что наиболее существенная корреляция между уровнями стресса и тревоги. Между депрессией и тревожностью тоже есть корреляция, пусть и более слабая"
   ]
  },
  {
   "cell_type": "code",
   "execution_count": 109,
   "id": "df2098bd",
   "metadata": {},
   "outputs": [
    {
     "data": {
      "text/plain": [
       "<AxesSubplot:>"
      ]
     },
     "execution_count": 109,
     "metadata": {},
     "output_type": "execute_result"
    },
    {
     "data": {
      "image/png": "[encoded data removed]",
      "text/plain": [
       "<Figure size 432x288 with 2 Axes>"
      ]
     },
     "metadata": {
      "needs_background": "light"
     },
     "output_type": "display_data"
    }
   ],
   "source": [
    "sns.heatmap(scale_q_data[q_depr+['depr_level']].corr())"
   ]
  },
  {
   "cell_type": "markdown",
   "id": "d854b463",
   "metadata": {},
   "source": [
    "Наиболее взаимосвязаны вопросы 17 и 34, 21 и 38, при этом связь вопроса 42 со всеми остальными - наименьшая.\n",
    "Также наибольшая корреляция заметна между итоговым результатом и вопросами 10, 21 и 38. Ответ на 42 вопрос возможно оказывает наименьшее влияние на результат теста."
   ]
  },
  {
   "cell_type": "code",
   "execution_count": 110,
   "id": "492ad462",
   "metadata": {},
   "outputs": [
    {
     "data": {
      "text/plain": [
       "Q3A           0.764733\n",
       "Q5A           0.735018\n",
       "Q10A          0.811211\n",
       "Q13A          0.788118\n",
       "Q16A          0.778457\n",
       "Q17A          0.791406\n",
       "Q21A          0.827988\n",
       "Q24A          0.750481\n",
       "Q26A          0.752851\n",
       "Q31A          0.739372\n",
       "Q34A          0.800785\n",
       "Q37A          0.784188\n",
       "Q38A          0.822317\n",
       "Q42A          0.646780\n",
       "depr_level    1.000000\n",
       "Name: depr_level, dtype: float64"
      ]
     },
     "execution_count": 110,
     "metadata": {},
     "output_type": "execute_result"
    }
   ],
   "source": [
    "scale_q_data[q_depr+['depr_level']].corr()['depr_level']"
   ]
  },
  {
   "cell_type": "code",
   "execution_count": 111,
   "id": "intelligent-saudi",
   "metadata": {},
   "outputs": [
    {
     "data": {
      "text/plain": [
       "<AxesSubplot:xlabel='Q21A', ylabel='count'>"
      ]
     },
     "execution_count": 111,
     "metadata": {},
     "output_type": "execute_result"
    },
    {
     "data": {
      "image/png": "[encoded data removed]",
      "text/plain": [
       "<Figure size 1080x360 with 3 Axes>"
      ]
     },
     "metadata": {
      "needs_background": "light"
     },
     "output_type": "display_data"
    }
   ],
   "source": [
    "fig,ax=plt.subplots(1,3, figsize=(15,5), sharey=True)\n",
    "sns.countplot(x=scale_q_data['Q42A'], hue=scale_q_data['depr_level'], ax=ax[0])\n",
    "sns.countplot(x=scale_q_data['Q10A'], hue=scale_q_data['depr_level'], ax=ax[1])\n",
    "sns.countplot(x=scale_q_data['Q21A'], hue=scale_q_data['depr_level'], ax=ax[2])"
   ]
  },
  {
   "cell_type": "markdown",
   "id": "latter-traffic",
   "metadata": {},
   "source": [
    "Вопрос 42 нельзя убрать из рассмотрения, так как в целом прослеживается связь между ответом на него и выраженностью депрессии, но стоит обратить внимание на то, что отсутствие этого симптома встречается при депрессии разной степени тяжести чаще, чем в случае с другими вопросами. "
   ]
  },
  {
   "cell_type": "markdown",
   "id": "a3790da7",
   "metadata": {},
   "source": [
    "Вопрос 42 касается способности проявлять инициативу, что зависит от многих факторов и не обязательно свидетельствует о психологических проблемах"
   ]
  },
  {
   "cell_type": "code",
   "execution_count": 112,
   "id": "c225cbd8",
   "metadata": {},
   "outputs": [
    {
     "data": {
      "text/plain": [
       "<AxesSubplot:xlabel='str_level', ylabel='count'>"
      ]
     },
     "execution_count": 112,
     "metadata": {},
     "output_type": "execute_result"
    },
    {
     "data": {
      "image/png": "[encoded data removed]",
      "text/plain": [
       "<Figure size 1080x360 with 3 Axes>"
      ]
     },
     "metadata": {
      "needs_background": "light"
     },
     "output_type": "display_data"
    }
   ],
   "source": [
    "fig,ax=plt.subplots(1,3, figsize=(15,5), sharey=True)\n",
    "sns.countplot(x=scale_q_data['depr_level'], hue=scale_q_data['Q42A'], ax=ax[0])\n",
    "sns.countplot(x=scale_q_data['anx_level'], hue=scale_q_data['Q42A'], ax=ax[1])\n",
    "sns.countplot(x=scale_q_data['str_level'], hue=scale_q_data['Q42A'], ax=ax[2])"
   ]
  },
  {
   "cell_type": "markdown",
   "id": "add6f9ba",
   "metadata": {},
   "source": [
    "Среди людей с тяжёлым течением депрессии большинство отмечает у себя серьёзные проблемы с инициативностью, для людей с высокими уровнями стресса или тревожности тоже характерна эта проблема. Однако эта проблема встречается и среди людей с низким уровнем тревоги и стресса."
   ]
  },
  {
   "cell_type": "code",
   "execution_count": 113,
   "id": "176abc22",
   "metadata": {},
   "outputs": [
    {
     "data": {
      "text/plain": [
       "(array(['Q19A', 'Q15A', 'Q23A'], dtype='<U4'),\n",
       " array([0.11063874, 0.1110535 , 0.22666943]))"
      ]
     },
     "execution_count": 113,
     "metadata": {},
     "output_type": "execute_result"
    }
   ],
   "source": [
    "names=[]\n",
    "for name in q_anx:\n",
    "    names.append(scale_q_data[scale_q_data.anx_level==3][name].value_counts(normalize=True,sort=True)[1])       \n",
    "np.array(q_anx)[np.argsort(names)[-3:]], np.array(names)[np.argsort(names)[-3:]]"
   ]
  },
  {
   "cell_type": "markdown",
   "id": "inclusive-radar",
   "metadata": {},
   "source": [
    "Люди с выраженной тревожностью иногда отмечают у себя отсутствие некоторых симптомов, особенно часто это происходит для вопросов 19, 15, 23:\n",
    "\n",
    "Q15\tI had a feeling of faintness (11% участников с высокой тревожностью)\n",
    "\n",
    "Q19\tI perspired noticeably (eg, hands sweaty) in the absence of high temperatures or physical exertion (11% участников с высокой тревожностью)\n",
    "\n",
    "Q23\tI had difficulty in swallowing (22% участников с высокой тревожностью)\n",
    "\n",
    "В основном это физические проявления тревоги"
   ]
  },
  {
   "cell_type": "code",
   "execution_count": 114,
   "id": "307e13c5",
   "metadata": {},
   "outputs": [
    {
     "data": {
      "text/plain": [
       "(array(['Q20A', 'Q9A', 'Q40A'], dtype='<U4'),\n",
       " array([0.59695147, 0.68851099, 0.71443384]))"
      ]
     },
     "execution_count": 114,
     "metadata": {},
     "output_type": "execute_result"
    }
   ],
   "source": [
    "names=[]\n",
    "for name in q_anx:\n",
    "    names.append(scale_q_data[scale_q_data.anx_level==3][name].value_counts(normalize=True,sort=True)[4])       \n",
    "np.array(q_anx)[np.argsort(names)[-3:]], np.array(names)[np.argsort(names)[-3:]]"
   ]
  },
  {
   "cell_type": "markdown",
   "id": "equal-daughter",
   "metadata": {},
   "source": [
    "При этом наиболее распространённые симптомы тревожности сильной выраженности:\n",
    "\n",
    "Q9\tI found myself in situations that made me so anxious I was most relieved when they ended\n",
    "\n",
    "Q20\tI felt scared without any good reason\n",
    "\n",
    "Q40\tI was worried about situations in which I might panic and make a fool of myself"
   ]
  },
  {
   "cell_type": "code",
   "execution_count": 73,
   "id": "together-interest",
   "metadata": {
    "scrolled": false
   },
   "outputs": [
    {
     "data": {
      "image/png": "[encoded data removed]",
      "text/plain": [
       "<Figure size 1500x700 with 2 Axes>"
      ]
     },
     "metadata": {},
     "output_type": "display_data"
    }
   ],
   "source": [
    "fig, ax=plt.subplots(1,2, figsize=(15,7), sharey=True)\n",
    "i,j=0,0\n",
    "names4=['Q23A', 'Q40A']\n",
    "for name in names4:\n",
    "    sns.countplot(x=scale_q_data[name], ax=ax[j], hue=scale_q_data['depr_level'])\n",
    "    j+=1"
   ]
  },
  {
   "cell_type": "markdown",
   "id": "nervous-lambda",
   "metadata": {},
   "source": [
    "Хотя есть связь между симптомом 23 и выраженностью депрессии (большинство людей с заметным проявлением этого симптома в целом имеют высокий уровень депрессии), большинство людей не замечают его у себя независимо от уровня депрессии."
   ]
  },
  {
   "cell_type": "code",
   "execution_count": 115,
   "id": "844b2e8d",
   "metadata": {},
   "outputs": [
    {
     "data": {
      "text/plain": [
       "(array(['Q11A', 'Q29A', 'Q1A'], dtype='<U4'),\n",
       " array([0.00199224, 0.00450876, 0.00461361]))"
      ]
     },
     "execution_count": 115,
     "metadata": {},
     "output_type": "execute_result"
    }
   ],
   "source": [
    "names=[]\n",
    "for name in q_str:\n",
    "    names.append(scale_q_data[scale_q_data.str_level==3][name].value_counts(normalize=True,sort=True)[1])       \n",
    "np.array(q_str)[np.argsort(names)[:3]], np.array(names)[np.argsort(names)[:3]]"
   ]
  },
  {
   "cell_type": "markdown",
   "id": "occupational-thomas",
   "metadata": {},
   "source": [
    "Среди людей с высоким уровнем стресса максимальное количество отсутствия каких-то проявлений стресса - 0.4% для вопроса 1:\n",
    "\n",
    "Q1\tI found myself getting upset by quite trivial things"
   ]
  },
  {
   "cell_type": "code",
   "execution_count": 116,
   "id": "335b41b2",
   "metadata": {},
   "outputs": [
    {
     "data": {
      "text/plain": [
       "<AxesSubplot:xlabel='Q1A', ylabel='count'>"
      ]
     },
     "execution_count": 116,
     "metadata": {},
     "output_type": "execute_result"
    },
    {
     "data": {
      "image/png": "[encoded data removed]",
      "text/plain": [
       "<Figure size 432x288 with 1 Axes>"
      ]
     },
     "metadata": {
      "needs_background": "light"
     },
     "output_type": "display_data"
    }
   ],
   "source": [
    "sns.countplot(x=scale_q_data['Q1A'])"
   ]
  },
  {
   "cell_type": "code",
   "execution_count": 117,
   "id": "be81c8e9",
   "metadata": {},
   "outputs": [
    {
     "data": {
      "text/plain": [
       "<AxesSubplot:xlabel='Q1A', ylabel='count'>"
      ]
     },
     "execution_count": 117,
     "metadata": {},
     "output_type": "execute_result"
    },
    {
     "data": {
      "image/png": "[encoded data removed]",
      "text/plain": [
       "<Figure size 432x288 with 1 Axes>"
      ]
     },
     "metadata": {
      "needs_background": "light"
     },
     "output_type": "display_data"
    }
   ],
   "source": [
    "sns.countplot(x=scale_q_data['Q1A'], hue=scale_q_data['depr_level'])"
   ]
  },
  {
   "cell_type": "code",
   "execution_count": 118,
   "id": "7ac062f2",
   "metadata": {},
   "outputs": [
    {
     "data": {
      "text/plain": [
       "(array(['Q27A', 'Q29A', 'Q11A'], dtype='<U4'),\n",
       " array([0.71469015, 0.73912132, 0.8298207 ]))"
      ]
     },
     "execution_count": 118,
     "metadata": {},
     "output_type": "execute_result"
    }
   ],
   "source": [
    "names=[]\n",
    "for name in q_str:\n",
    "    names.append(scale_q_data[scale_q_data.str_level==3][name].value_counts(normalize=True,sort=True)[4])       \n",
    "np.array(q_str)[np.argsort(names)[-3:]], np.array(names)[np.argsort(names)[-3:]]"
   ]
  },
  {
   "cell_type": "markdown",
   "id": "graphic-texas",
   "metadata": {},
   "source": [
    "При этом большинство (больше 71%) людей с высоким уровнем стресса отмечают серьёзное проявление симптомов:\n",
    "\n",
    "Q11\tI found myself getting upset rather easily\n",
    "\n",
    "Q27\tI found that I was very irritable\n",
    "\n",
    "Q29\tI found it hard to calm down after something upset me"
   ]
  },
  {
   "cell_type": "code",
   "execution_count": 119,
   "id": "alpha-minutes",
   "metadata": {},
   "outputs": [
    {
     "data": {
      "image/png": "[encoded data removed]",
      "text/plain": [
       "<Figure size 1080x504 with 2 Axes>"
      ]
     },
     "metadata": {
      "needs_background": "light"
     },
     "output_type": "display_data"
    }
   ],
   "source": [
    "fig, ax=plt.subplots(1,2, figsize=(15,7), sharey=True)\n",
    "i,j=0,0\n",
    "names4=['Q1A', 'Q11A']\n",
    "for name in names4:\n",
    "    sns.countplot(x=scale_q_data[name], ax=ax[j], hue=scale_q_data['str_level'])\n",
    "    j+=1"
   ]
  },
  {
   "cell_type": "markdown",
   "id": "61ca8840",
   "metadata": {},
   "source": [
    "### Анализ теста VCL"
   ]
  },
  {
   "cell_type": "markdown",
   "id": "cb6c818d",
   "metadata": {},
   "source": [
    "Слова, предложенные в вопросах 6, 9, 12 - несуществующие, поэтому меняем ответы на противоположные"
   ]
  },
  {
   "cell_type": "code",
   "execution_count": 216,
   "id": "40a78605",
   "metadata": {},
   "outputs": [],
   "source": [
    "scale_v_data['VCL6']=scale_v_data['VCL6'].replace({0:1, 1:0})\n",
    "scale_v_data['VCL9']=scale_v_data['VCL9'].replace({0:1, 1:0})\n",
    "scale_v_data['VCL12']=scale_v_data['VCL12'].replace({0:1, 1:0})"
   ]
  },
  {
   "cell_type": "code",
   "execution_count": 217,
   "id": "6da4dba7",
   "metadata": {},
   "outputs": [
    {
     "data": {
      "text/html": [
       "<div>\n",
       "<style scoped>\n",
       "    .dataframe tbody tr th:only-of-type {\n",
       "        vertical-align: middle;\n",
       "    }\n",
       "\n",
       "    .dataframe tbody tr th {\n",
       "        vertical-align: top;\n",
       "    }\n",
       "\n",
       "    .dataframe thead th {\n",
       "        text-align: right;\n",
       "    }\n",
       "</style>\n",
       "<table border=\"1\" class=\"dataframe\">\n",
       "  <thead>\n",
       "    <tr style=\"text-align: right;\">\n",
       "      <th></th>\n",
       "      <th>VCL1</th>\n",
       "      <th>VCL2</th>\n",
       "      <th>VCL3</th>\n",
       "      <th>VCL4</th>\n",
       "      <th>VCL5</th>\n",
       "      <th>VCL6</th>\n",
       "      <th>VCL7</th>\n",
       "      <th>VCL8</th>\n",
       "      <th>VCL9</th>\n",
       "      <th>VCL10</th>\n",
       "      <th>VCL11</th>\n",
       "      <th>VCL12</th>\n",
       "      <th>VCL13</th>\n",
       "      <th>VCL14</th>\n",
       "      <th>VCL15</th>\n",
       "      <th>VCL16</th>\n",
       "      <th>result</th>\n",
       "    </tr>\n",
       "  </thead>\n",
       "  <tbody>\n",
       "    <tr>\n",
       "      <th>count</th>\n",
       "      <td>39272.000000</td>\n",
       "      <td>39272.000000</td>\n",
       "      <td>39272.000000</td>\n",
       "      <td>39272.000000</td>\n",
       "      <td>39272.000000</td>\n",
       "      <td>39272.000000</td>\n",
       "      <td>39272.000000</td>\n",
       "      <td>39272.000000</td>\n",
       "      <td>39272.000000</td>\n",
       "      <td>39272.000000</td>\n",
       "      <td>39272.000000</td>\n",
       "      <td>39272.000000</td>\n",
       "      <td>39272.000000</td>\n",
       "      <td>39272.000000</td>\n",
       "      <td>39272.000000</td>\n",
       "      <td>39272.000000</td>\n",
       "      <td>39272.000000</td>\n",
       "    </tr>\n",
       "    <tr>\n",
       "      <th>mean</th>\n",
       "      <td>0.816409</td>\n",
       "      <td>0.584921</td>\n",
       "      <td>0.153774</td>\n",
       "      <td>0.871002</td>\n",
       "      <td>0.690466</td>\n",
       "      <td>0.959539</td>\n",
       "      <td>0.084157</td>\n",
       "      <td>0.170554</td>\n",
       "      <td>0.956610</td>\n",
       "      <td>0.874745</td>\n",
       "      <td>0.074430</td>\n",
       "      <td>0.915079</td>\n",
       "      <td>0.294205</td>\n",
       "      <td>0.570483</td>\n",
       "      <td>0.851548</td>\n",
       "      <td>0.935246</td>\n",
       "      <td>9.803168</td>\n",
       "    </tr>\n",
       "    <tr>\n",
       "      <th>std</th>\n",
       "      <td>0.387156</td>\n",
       "      <td>0.492742</td>\n",
       "      <td>0.360736</td>\n",
       "      <td>0.335202</td>\n",
       "      <td>0.462307</td>\n",
       "      <td>0.197041</td>\n",
       "      <td>0.277626</td>\n",
       "      <td>0.376124</td>\n",
       "      <td>0.203735</td>\n",
       "      <td>0.331012</td>\n",
       "      <td>0.262472</td>\n",
       "      <td>0.278767</td>\n",
       "      <td>0.455690</td>\n",
       "      <td>0.495014</td>\n",
       "      <td>0.355552</td>\n",
       "      <td>0.246094</td>\n",
       "      <td>2.702549</td>\n",
       "    </tr>\n",
       "    <tr>\n",
       "      <th>min</th>\n",
       "      <td>0.000000</td>\n",
       "      <td>0.000000</td>\n",
       "      <td>0.000000</td>\n",
       "      <td>0.000000</td>\n",
       "      <td>0.000000</td>\n",
       "      <td>0.000000</td>\n",
       "      <td>0.000000</td>\n",
       "      <td>0.000000</td>\n",
       "      <td>0.000000</td>\n",
       "      <td>0.000000</td>\n",
       "      <td>0.000000</td>\n",
       "      <td>0.000000</td>\n",
       "      <td>0.000000</td>\n",
       "      <td>0.000000</td>\n",
       "      <td>0.000000</td>\n",
       "      <td>0.000000</td>\n",
       "      <td>0.000000</td>\n",
       "    </tr>\n",
       "    <tr>\n",
       "      <th>25%</th>\n",
       "      <td>1.000000</td>\n",
       "      <td>0.000000</td>\n",
       "      <td>0.000000</td>\n",
       "      <td>1.000000</td>\n",
       "      <td>0.000000</td>\n",
       "      <td>1.000000</td>\n",
       "      <td>0.000000</td>\n",
       "      <td>0.000000</td>\n",
       "      <td>1.000000</td>\n",
       "      <td>1.000000</td>\n",
       "      <td>0.000000</td>\n",
       "      <td>1.000000</td>\n",
       "      <td>0.000000</td>\n",
       "      <td>0.000000</td>\n",
       "      <td>1.000000</td>\n",
       "      <td>1.000000</td>\n",
       "      <td>8.000000</td>\n",
       "    </tr>\n",
       "    <tr>\n",
       "      <th>50%</th>\n",
       "      <td>1.000000</td>\n",
       "      <td>1.000000</td>\n",
       "      <td>0.000000</td>\n",
       "      <td>1.000000</td>\n",
       "      <td>1.000000</td>\n",
       "      <td>1.000000</td>\n",
       "      <td>0.000000</td>\n",
       "      <td>0.000000</td>\n",
       "      <td>1.000000</td>\n",
       "      <td>1.000000</td>\n",
       "      <td>0.000000</td>\n",
       "      <td>1.000000</td>\n",
       "      <td>0.000000</td>\n",
       "      <td>1.000000</td>\n",
       "      <td>1.000000</td>\n",
       "      <td>1.000000</td>\n",
       "      <td>10.000000</td>\n",
       "    </tr>\n",
       "    <tr>\n",
       "      <th>75%</th>\n",
       "      <td>1.000000</td>\n",
       "      <td>1.000000</td>\n",
       "      <td>0.000000</td>\n",
       "      <td>1.000000</td>\n",
       "      <td>1.000000</td>\n",
       "      <td>1.000000</td>\n",
       "      <td>0.000000</td>\n",
       "      <td>0.000000</td>\n",
       "      <td>1.000000</td>\n",
       "      <td>1.000000</td>\n",
       "      <td>0.000000</td>\n",
       "      <td>1.000000</td>\n",
       "      <td>1.000000</td>\n",
       "      <td>1.000000</td>\n",
       "      <td>1.000000</td>\n",
       "      <td>1.000000</td>\n",
       "      <td>12.000000</td>\n",
       "    </tr>\n",
       "    <tr>\n",
       "      <th>max</th>\n",
       "      <td>1.000000</td>\n",
       "      <td>1.000000</td>\n",
       "      <td>1.000000</td>\n",
       "      <td>1.000000</td>\n",
       "      <td>1.000000</td>\n",
       "      <td>1.000000</td>\n",
       "      <td>1.000000</td>\n",
       "      <td>1.000000</td>\n",
       "      <td>1.000000</td>\n",
       "      <td>1.000000</td>\n",
       "      <td>1.000000</td>\n",
       "      <td>1.000000</td>\n",
       "      <td>1.000000</td>\n",
       "      <td>1.000000</td>\n",
       "      <td>1.000000</td>\n",
       "      <td>1.000000</td>\n",
       "      <td>16.000000</td>\n",
       "    </tr>\n",
       "  </tbody>\n",
       "</table>\n",
       "</div>"
      ],
      "text/plain": [
       "               VCL1          VCL2          VCL3          VCL4          VCL5  \\\n",
       "count  39272.000000  39272.000000  39272.000000  39272.000000  39272.000000   \n",
       "mean       0.816409      0.584921      0.153774      0.871002      0.690466   \n",
       "std        0.387156      0.492742      0.360736      0.335202      0.462307   \n",
       "min        0.000000      0.000000      0.000000      0.000000      0.000000   \n",
       "25%        1.000000      0.000000      0.000000      1.000000      0.000000   \n",
       "50%        1.000000      1.000000      0.000000      1.000000      1.000000   \n",
       "75%        1.000000      1.000000      0.000000      1.000000      1.000000   \n",
       "max        1.000000      1.000000      1.000000      1.000000      1.000000   \n",
       "\n",
       "               VCL6          VCL7          VCL8          VCL9         VCL10  \\\n",
       "count  39272.000000  39272.000000  39272.000000  39272.000000  39272.000000   \n",
       "mean       0.959539      0.084157      0.170554      0.956610      0.874745   \n",
       "std        0.197041      0.277626      0.376124      0.203735      0.331012   \n",
       "min        0.000000      0.000000      0.000000      0.000000      0.000000   \n",
       "25%        1.000000      0.000000      0.000000      1.000000      1.000000   \n",
       "50%        1.000000      0.000000      0.000000      1.000000      1.000000   \n",
       "75%        1.000000      0.000000      0.000000      1.000000      1.000000   \n",
       "max        1.000000      1.000000      1.000000      1.000000      1.000000   \n",
       "\n",
       "              VCL11         VCL12         VCL13         VCL14         VCL15  \\\n",
       "count  39272.000000  39272.000000  39272.000000  39272.000000  39272.000000   \n",
       "mean       0.074430      0.915079      0.294205      0.570483      0.851548   \n",
       "std        0.262472      0.278767      0.455690      0.495014      0.355552   \n",
       "min        0.000000      0.000000      0.000000      0.000000      0.000000   \n",
       "25%        0.000000      1.000000      0.000000      0.000000      1.000000   \n",
       "50%        0.000000      1.000000      0.000000      1.000000      1.000000   \n",
       "75%        0.000000      1.000000      1.000000      1.000000      1.000000   \n",
       "max        1.000000      1.000000      1.000000      1.000000      1.000000   \n",
       "\n",
       "              VCL16        result  \n",
       "count  39272.000000  39272.000000  \n",
       "mean       0.935246      9.803168  \n",
       "std        0.246094      2.702549  \n",
       "min        0.000000      0.000000  \n",
       "25%        1.000000      8.000000  \n",
       "50%        1.000000     10.000000  \n",
       "75%        1.000000     12.000000  \n",
       "max        1.000000     16.000000  "
      ]
     },
     "execution_count": 217,
     "metadata": {},
     "output_type": "execute_result"
    }
   ],
   "source": [
    "res=scale_v_data.sum(axis=1)\n",
    "res.name='result'\n",
    "scale_v_data=pd.concat([scale_v_data, res], axis=1)\n",
    "scale_v_data.describe()"
   ]
  },
  {
   "cell_type": "code",
   "execution_count": 218,
   "id": "b4c53f1e",
   "metadata": {},
   "outputs": [
    {
     "data": {
      "text/html": [
       "<div>\n",
       "<style scoped>\n",
       "    .dataframe tbody tr th:only-of-type {\n",
       "        vertical-align: middle;\n",
       "    }\n",
       "\n",
       "    .dataframe tbody tr th {\n",
       "        vertical-align: top;\n",
       "    }\n",
       "\n",
       "    .dataframe thead th {\n",
       "        text-align: right;\n",
       "    }\n",
       "</style>\n",
       "<table border=\"1\" class=\"dataframe\">\n",
       "  <thead>\n",
       "    <tr style=\"text-align: right;\">\n",
       "      <th></th>\n",
       "      <th>VCL1</th>\n",
       "      <th>VCL2</th>\n",
       "      <th>VCL3</th>\n",
       "      <th>VCL4</th>\n",
       "      <th>VCL5</th>\n",
       "      <th>VCL6</th>\n",
       "      <th>VCL7</th>\n",
       "      <th>VCL8</th>\n",
       "      <th>VCL9</th>\n",
       "      <th>VCL10</th>\n",
       "      <th>VCL11</th>\n",
       "      <th>VCL12</th>\n",
       "      <th>VCL13</th>\n",
       "      <th>VCL14</th>\n",
       "      <th>VCL15</th>\n",
       "      <th>VCL16</th>\n",
       "      <th>result</th>\n",
       "      <th>level_v</th>\n",
       "    </tr>\n",
       "  </thead>\n",
       "  <tbody>\n",
       "    <tr>\n",
       "      <th>0</th>\n",
       "      <td>1</td>\n",
       "      <td>0</td>\n",
       "      <td>0</td>\n",
       "      <td>1</td>\n",
       "      <td>1</td>\n",
       "      <td>1</td>\n",
       "      <td>1</td>\n",
       "      <td>0</td>\n",
       "      <td>1</td>\n",
       "      <td>1</td>\n",
       "      <td>0</td>\n",
       "      <td>1</td>\n",
       "      <td>0</td>\n",
       "      <td>1</td>\n",
       "      <td>1</td>\n",
       "      <td>1</td>\n",
       "      <td>11</td>\n",
       "      <td>2</td>\n",
       "    </tr>\n",
       "    <tr>\n",
       "      <th>1</th>\n",
       "      <td>1</td>\n",
       "      <td>1</td>\n",
       "      <td>0</td>\n",
       "      <td>1</td>\n",
       "      <td>1</td>\n",
       "      <td>1</td>\n",
       "      <td>0</td>\n",
       "      <td>0</td>\n",
       "      <td>1</td>\n",
       "      <td>1</td>\n",
       "      <td>0</td>\n",
       "      <td>1</td>\n",
       "      <td>0</td>\n",
       "      <td>1</td>\n",
       "      <td>1</td>\n",
       "      <td>1</td>\n",
       "      <td>11</td>\n",
       "      <td>2</td>\n",
       "    </tr>\n",
       "    <tr>\n",
       "      <th>2</th>\n",
       "      <td>1</td>\n",
       "      <td>0</td>\n",
       "      <td>0</td>\n",
       "      <td>1</td>\n",
       "      <td>1</td>\n",
       "      <td>1</td>\n",
       "      <td>0</td>\n",
       "      <td>0</td>\n",
       "      <td>1</td>\n",
       "      <td>0</td>\n",
       "      <td>1</td>\n",
       "      <td>1</td>\n",
       "      <td>0</td>\n",
       "      <td>1</td>\n",
       "      <td>1</td>\n",
       "      <td>1</td>\n",
       "      <td>10</td>\n",
       "      <td>1</td>\n",
       "    </tr>\n",
       "    <tr>\n",
       "      <th>3</th>\n",
       "      <td>1</td>\n",
       "      <td>0</td>\n",
       "      <td>0</td>\n",
       "      <td>1</td>\n",
       "      <td>1</td>\n",
       "      <td>1</td>\n",
       "      <td>0</td>\n",
       "      <td>0</td>\n",
       "      <td>1</td>\n",
       "      <td>1</td>\n",
       "      <td>0</td>\n",
       "      <td>1</td>\n",
       "      <td>0</td>\n",
       "      <td>1</td>\n",
       "      <td>1</td>\n",
       "      <td>1</td>\n",
       "      <td>10</td>\n",
       "      <td>1</td>\n",
       "    </tr>\n",
       "    <tr>\n",
       "      <th>4</th>\n",
       "      <td>1</td>\n",
       "      <td>1</td>\n",
       "      <td>0</td>\n",
       "      <td>1</td>\n",
       "      <td>1</td>\n",
       "      <td>1</td>\n",
       "      <td>0</td>\n",
       "      <td>1</td>\n",
       "      <td>1</td>\n",
       "      <td>1</td>\n",
       "      <td>0</td>\n",
       "      <td>1</td>\n",
       "      <td>1</td>\n",
       "      <td>1</td>\n",
       "      <td>1</td>\n",
       "      <td>1</td>\n",
       "      <td>13</td>\n",
       "      <td>3</td>\n",
       "    </tr>\n",
       "  </tbody>\n",
       "</table>\n",
       "</div>"
      ],
      "text/plain": [
       "   VCL1  VCL2  VCL3  VCL4  VCL5  VCL6  VCL7  VCL8  VCL9  VCL10  VCL11  VCL12  \\\n",
       "0     1     0     0     1     1     1     1     0     1      1      0      1   \n",
       "1     1     1     0     1     1     1     0     0     1      1      0      1   \n",
       "2     1     0     0     1     1     1     0     0     1      0      1      1   \n",
       "3     1     0     0     1     1     1     0     0     1      1      0      1   \n",
       "4     1     1     0     1     1     1     0     1     1      1      0      1   \n",
       "\n",
       "   VCL13  VCL14  VCL15  VCL16  result  level_v  \n",
       "0      0      1      1      1      11        2  \n",
       "1      0      1      1      1      11        2  \n",
       "2      0      1      1      1      10        1  \n",
       "3      0      1      1      1      10        1  \n",
       "4      1      1      1      1      13        3  "
      ]
     },
     "execution_count": 218,
     "metadata": {},
     "output_type": "execute_result"
    }
   ],
   "source": [
    "res2=scale_v_data['result'].apply(levels, arr=list(res.describe()[4:]))\n",
    "res2.name='level_v'\n",
    "scale_v_data=pd.concat([scale_v_data,res2], axis=1)\n",
    "scale_v_data.head()"
   ]
  },
  {
   "cell_type": "markdown",
   "id": "unsigned-church",
   "metadata": {},
   "source": [
    "#### Проверим, какие слова вызывают наибольшее/наименьшее затруднение"
   ]
  },
  {
   "cell_type": "code",
   "execution_count": 123,
   "id": "63f26c5b",
   "metadata": {},
   "outputs": [
    {
     "data": {
      "text/plain": [
       "VCL9       0.011442\n",
       "VCL6       0.067652\n",
       "VCL12      0.108715\n",
       "VCL7       0.305364\n",
       "VCL11      0.333470\n",
       "VCL8       0.418235\n",
       "VCL16      0.447174\n",
       "VCL3       0.499135\n",
       "VCL10      0.569151\n",
       "VCL15      0.609547\n",
       "VCL4       0.610190\n",
       "VCL13      0.625666\n",
       "VCL1       0.642739\n",
       "VCL5       0.675695\n",
       "VCL14      0.676572\n",
       "VCL2       0.685764\n",
       "level_v    0.920333\n",
       "result     1.000000\n",
       "dtype: float64"
      ]
     },
     "execution_count": 123,
     "metadata": {},
     "output_type": "execute_result"
    }
   ],
   "source": [
    "scale_v_data.corr().unstack()['result'].abs().sort_values()"
   ]
  },
  {
   "cell_type": "markdown",
   "id": "2b6bf6c1",
   "metadata": {},
   "source": [
    "результат зависит в основном от 2,5,14\n",
    "не особо зависит от 6,9,12\n",
    "\n",
    "При этом несуществующие слова - 6, 9, 12\n",
    "\n",
    "- Посмотреть зависимость этих результатов от возраста и образования"
   ]
  },
  {
   "cell_type": "code",
   "execution_count": 124,
   "id": "bb4304f0",
   "metadata": {},
   "outputs": [
    {
     "data": {
      "text/plain": [
       "<AxesSubplot:xlabel='VCL12', ylabel='count'>"
      ]
     },
     "execution_count": 124,
     "metadata": {},
     "output_type": "execute_result"
    },
    {
     "data": {
      "image/png": "[encoded data removed]",
      "text/plain": [
       "<Figure size 1296x360 with 3 Axes>"
      ]
     },
     "metadata": {
      "needs_background": "light"
     },
     "output_type": "display_data"
    }
   ],
   "source": [
    "fig, ax=plt.subplots(1,3, figsize=(18,5))\n",
    "sns.countplot(x=scale_v_data['VCL6'],hue=scale_v_data['level_v'], ax=ax[0])\n",
    "sns.countplot(x=scale_v_data['VCL9'],hue=scale_v_data['level_v'], ax=ax[1])\n",
    "sns.countplot(x=scale_v_data['VCL12'],hue=scale_v_data['level_v'], ax=ax[2])"
   ]
  },
  {
   "cell_type": "markdown",
   "id": "da50c39f",
   "metadata": {},
   "source": [
    "Предложенные в данном случае слова - cuivocal, florted, verdid\n",
    "\n",
    "Большинство людей правильно отметили, что не знают эти слова"
   ]
  },
  {
   "cell_type": "code",
   "execution_count": 125,
   "id": "adult-wealth",
   "metadata": {},
   "outputs": [
    {
     "data": {
      "text/plain": [
       "count    5162.000000\n",
       "mean        1.629407\n",
       "std         0.994663\n",
       "min         0.000000\n",
       "25%         1.000000\n",
       "50%         2.000000\n",
       "75%         2.000000\n",
       "max         3.000000\n",
       "Name: level_v, dtype: float64"
      ]
     },
     "execution_count": 125,
     "metadata": {},
     "output_type": "execute_result"
    }
   ],
   "source": [
    "mask=((scale_v_data['VCL6']==0)|(scale_v_data['VCL9']==0)|(scale_v_data['VCL12']==0))\n",
    "scale_v_data.loc[mask, 'level_v'].describe()"
   ]
  },
  {
   "cell_type": "code",
   "execution_count": 126,
   "id": "23a09a8b",
   "metadata": {},
   "outputs": [
    {
     "data": {
      "text/plain": [
       "<AxesSubplot:xlabel='VCL5', ylabel='count'>"
      ]
     },
     "execution_count": 126,
     "metadata": {},
     "output_type": "execute_result"
    },
    {
     "data": {
      "image/png": "[encoded data removed]",
      "text/plain": [
       "<Figure size 1296x360 with 3 Axes>"
      ]
     },
     "metadata": {
      "needs_background": "light"
     },
     "output_type": "display_data"
    }
   ],
   "source": [
    "fig, ax=plt.subplots(1,3, figsize=(18,5))\n",
    "sns.countplot(x=scale_v_data['VCL2'],hue=scale_v_data['level_v'], ax=ax[0])\n",
    "sns.countplot(x=scale_v_data['VCL14'],hue=scale_v_data['level_v'], ax=ax[1])\n",
    "sns.countplot(x=scale_v_data['VCL5'],hue=scale_v_data['level_v'], ax=ax[2])"
   ]
  },
  {
   "cell_type": "markdown",
   "id": "developed-fortune",
   "metadata": {},
   "source": [
    "Проверим, как отвечают на наиболее решающие вопросы те, кто якобы знают слова из вопросов 6,9,12"
   ]
  },
  {
   "cell_type": "code",
   "execution_count": 128,
   "id": "activated-roommate",
   "metadata": {},
   "outputs": [
    {
     "data": {
      "text/plain": [
       "<AxesSubplot:xlabel='VCL5', ylabel='count'>"
      ]
     },
     "execution_count": 128,
     "metadata": {},
     "output_type": "execute_result"
    },
    {
     "data": {
      "image/png": "[encoded data removed]",
      "text/plain": [
       "<Figure size 1296x360 with 3 Axes>"
      ]
     },
     "metadata": {
      "needs_background": "light"
     },
     "output_type": "display_data"
    }
   ],
   "source": [
    "fig, ax=plt.subplots(1,3, figsize=(18,5))\n",
    "sns.countplot(x=scale_v_data.loc[mask,'VCL2'],hue=scale_v_data.loc[mask,'level_v'], ax=ax[0])\n",
    "sns.countplot(x=scale_v_data.loc[mask,'VCL14'],hue=scale_v_data.loc[mask,'level_v'], ax=ax[1])\n",
    "sns.countplot(x=scale_v_data.loc[mask,'VCL5'],hue=scale_v_data.loc[mask,'level_v'], ax=ax[2])"
   ]
  },
  {
   "cell_type": "markdown",
   "id": "laden-vocabulary",
   "metadata": {},
   "source": [
    "Примерно каждый пятый из тех, кто правильно ответил на вопросы 2, 5, 14, ошибались в вопросах 6, 9, 12, то есть скорее всего отвечали наугад или привирали. \n",
    "\n",
    "При этом те, кто ошибся в словах 2, 5, 14 чаще правильно указывали незнание слов 6, 9, 12"
   ]
  },
  {
   "cell_type": "markdown",
   "id": "impressive-salem",
   "metadata": {},
   "source": [
    "### Анализ участников тестирования"
   ]
  },
  {
   "cell_type": "markdown",
   "id": "integral-handy",
   "metadata": {},
   "source": [
    "Объединим персональные данные участников и их результаты тестов"
   ]
  },
  {
   "cell_type": "code",
   "execution_count": 219,
   "id": "7d371c45",
   "metadata": {},
   "outputs": [],
   "source": [
    "personal_info=personal_info.merge(scale_v_data['level_v'], left_index=True,right_index=True)"
   ]
  },
  {
   "cell_type": "code",
   "execution_count": 220,
   "id": "67e30c61",
   "metadata": {},
   "outputs": [],
   "source": [
    "personal_info=personal_info.merge(data_tech['country'], left_index=True,right_index=True)"
   ]
  },
  {
   "cell_type": "code",
   "execution_count": 147,
   "id": "7644341a",
   "metadata": {},
   "outputs": [
    {
     "data": {
      "text/plain": [
       "<AxesSubplot:xlabel='age', ylabel='count'>"
      ]
     },
     "execution_count": 147,
     "metadata": {},
     "output_type": "execute_result"
    },
    {
     "data": {
      "image/png": "[encoded data removed]",
      "text/plain": [
       "<Figure size 1080x360 with 1 Axes>"
      ]
     },
     "metadata": {
      "needs_background": "light"
     },
     "output_type": "display_data"
    }
   ],
   "source": [
    "fig=plt.figure(figsize=(15,5))\n",
    "sns.countplot(x=personal_info[personal_info['age']<40]['age'], hue=personal_info['level_v'])"
   ]
  },
  {
   "cell_type": "code",
   "execution_count": 148,
   "id": "03e3bc2d",
   "metadata": {},
   "outputs": [
    {
     "data": {
      "text/plain": [
       "<AxesSubplot:xlabel='age', ylabel='count'>"
      ]
     },
     "execution_count": 148,
     "metadata": {},
     "output_type": "execute_result"
    },
    {
     "data": {
      "image/png": "[encoded data removed]",
      "text/plain": [
       "<Figure size 1080x360 with 1 Axes>"
      ]
     },
     "metadata": {
      "needs_background": "light"
     },
     "output_type": "display_data"
    }
   ],
   "source": [
    "fig=plt.figure(figsize=(15,5))\n",
    "sns.countplot(x=personal_info[personal_info['age']>=40]['age'], hue=personal_info['level_v'])"
   ]
  },
  {
   "cell_type": "markdown",
   "id": "extreme-inflation",
   "metadata": {},
   "source": [
    "С возрастом доля \"грамотных\" увеличивается"
   ]
  },
  {
   "cell_type": "code",
   "execution_count": 149,
   "id": "ca1069eb",
   "metadata": {},
   "outputs": [
    {
     "data": {
      "text/plain": [
       "3    0.521169\n",
       "2    0.284505\n",
       "1    0.113040\n",
       "0    0.081287\n",
       "Name: level_v, dtype: float64"
      ]
     },
     "execution_count": 149,
     "metadata": {},
     "output_type": "execute_result"
    }
   ],
   "source": [
    "personal_info[personal_info['age']>=40]['level_v'].value_counts(normalize=True)"
   ]
  },
  {
   "cell_type": "code",
   "execution_count": 150,
   "id": "south-adolescent",
   "metadata": {},
   "outputs": [
    {
     "data": {
      "text/plain": [
       "0    0.301463\n",
       "1    0.292333\n",
       "2    0.286670\n",
       "3    0.119534\n",
       "Name: level_v, dtype: float64"
      ]
     },
     "execution_count": 150,
     "metadata": {},
     "output_type": "execute_result"
    }
   ],
   "source": [
    "personal_info[personal_info['age']<40]['level_v'].value_counts(normalize=True)"
   ]
  },
  {
   "cell_type": "code",
   "execution_count": 221,
   "id": "ac0f5a63",
   "metadata": {},
   "outputs": [],
   "source": [
    "personal_info=personal_info.merge(scale_q_data['depr_level'], left_index=True,right_index=True)"
   ]
  },
  {
   "cell_type": "code",
   "execution_count": 222,
   "id": "structured-joshua",
   "metadata": {},
   "outputs": [],
   "source": [
    "personal_info=personal_info.merge(scale_q_data['anx_level'], left_index=True,right_index=True)\n",
    "personal_info=personal_info.merge(scale_q_data['str_level'], left_index=True,right_index=True)"
   ]
  },
  {
   "cell_type": "code",
   "execution_count": 223,
   "id": "a52d6997",
   "metadata": {},
   "outputs": [],
   "source": [
    "personal_info=personal_info.merge(file1[['Extraversion', 'Agreeableness','Conscientiousness',\\\n",
    "                                                   'Em_stability','Openness']], left_index=True,right_index=True)\n"
   ]
  },
  {
   "cell_type": "code",
   "execution_count": 224,
   "id": "3494dc95",
   "metadata": {},
   "outputs": [
    {
     "data": {
      "text/plain": [
       "<AxesSubplot:xlabel='depr_level', ylabel='count'>"
      ]
     },
     "execution_count": 224,
     "metadata": {},
     "output_type": "execute_result"
    },
    {
     "data": {
      "image/png": "[encoded data removed]",
      "text/plain": [
       "<Figure size 432x288 with 1 Axes>"
      ]
     },
     "metadata": {
      "needs_background": "light"
     },
     "output_type": "display_data"
    }
   ],
   "source": [
    "sns.countplot(x=personal_info['depr_level'], hue=personal_info['level_v'])"
   ]
  },
  {
   "cell_type": "markdown",
   "id": "b1ad3663",
   "metadata": {},
   "source": [
    "Грамотность не зависит от степени депрессивности"
   ]
  },
  {
   "cell_type": "code",
   "execution_count": 155,
   "id": "electoral-partner",
   "metadata": {},
   "outputs": [
    {
     "data": {
      "text/plain": [
       "<AxesSubplot:xlabel='str_level', ylabel='count'>"
      ]
     },
     "execution_count": 155,
     "metadata": {},
     "output_type": "execute_result"
    },
    {
     "data": {
      "image/png": "[encoded data removed]",
      "text/plain": [
       "<Figure size 432x288 with 1 Axes>"
      ]
     },
     "metadata": {
      "needs_background": "light"
     },
     "output_type": "display_data"
    }
   ],
   "source": [
    "sns.countplot(x=personal_info['str_level'], hue=personal_info['level_v'])"
   ]
  },
  {
   "cell_type": "markdown",
   "id": "8830d4c8",
   "metadata": {},
   "source": [
    "С повышением уровня стресса доля наиболее грамотных уменьшается, остальных количество примерно одинаковое вне зависимости от количества стресса "
   ]
  },
  {
   "cell_type": "code",
   "execution_count": 156,
   "id": "79d19789",
   "metadata": {},
   "outputs": [
    {
     "data": {
      "text/plain": [
       "<AxesSubplot:xlabel='anx_level', ylabel='count'>"
      ]
     },
     "execution_count": 156,
     "metadata": {},
     "output_type": "execute_result"
    },
    {
     "data": {
      "image/png": "[encoded data removed]",
      "text/plain": [
       "<Figure size 432x288 with 1 Axes>"
      ]
     },
     "metadata": {
      "needs_background": "light"
     },
     "output_type": "display_data"
    }
   ],
   "source": [
    "sns.countplot(x=personal_info['anx_level'], hue=personal_info['level_v'])"
   ]
  },
  {
   "cell_type": "markdown",
   "id": "6e6137c7",
   "metadata": {},
   "source": [
    "Тенденция, обозначенная для уровня стресса, сохраняется в более выраженном виде и для тревожности, при этом при высоком уровне тревожности - наибольшее число \"малограмотных\"."
   ]
  },
  {
   "cell_type": "code",
   "execution_count": 225,
   "id": "medical-scholarship",
   "metadata": {},
   "outputs": [
    {
     "data": {
      "text/html": [
       "<div>\n",
       "<style scoped>\n",
       "    .dataframe tbody tr th:only-of-type {\n",
       "        vertical-align: middle;\n",
       "    }\n",
       "\n",
       "    .dataframe tbody tr th {\n",
       "        vertical-align: top;\n",
       "    }\n",
       "\n",
       "    .dataframe thead th {\n",
       "        text-align: right;\n",
       "    }\n",
       "</style>\n",
       "<table border=\"1\" class=\"dataframe\">\n",
       "  <thead>\n",
       "    <tr style=\"text-align: right;\">\n",
       "      <th></th>\n",
       "      <th>education</th>\n",
       "      <th>urban</th>\n",
       "      <th>gender</th>\n",
       "      <th>engnat</th>\n",
       "      <th>age</th>\n",
       "      <th>hand</th>\n",
       "      <th>religion</th>\n",
       "      <th>race</th>\n",
       "      <th>voted</th>\n",
       "      <th>married</th>\n",
       "      <th>...</th>\n",
       "      <th>level_v</th>\n",
       "      <th>country</th>\n",
       "      <th>depr_level</th>\n",
       "      <th>anx_level</th>\n",
       "      <th>str_level</th>\n",
       "      <th>Extraversion</th>\n",
       "      <th>Agreeableness</th>\n",
       "      <th>Conscientiousness</th>\n",
       "      <th>Em_stability</th>\n",
       "      <th>Openness</th>\n",
       "    </tr>\n",
       "  </thead>\n",
       "  <tbody>\n",
       "    <tr>\n",
       "      <th>0</th>\n",
       "      <td>2</td>\n",
       "      <td>3</td>\n",
       "      <td>2</td>\n",
       "      <td>2</td>\n",
       "      <td>16</td>\n",
       "      <td>1</td>\n",
       "      <td>12</td>\n",
       "      <td>10</td>\n",
       "      <td>2</td>\n",
       "      <td>1</td>\n",
       "      <td>...</td>\n",
       "      <td>2</td>\n",
       "      <td>IN</td>\n",
       "      <td>2</td>\n",
       "      <td>3</td>\n",
       "      <td>3</td>\n",
       "      <td>2</td>\n",
       "      <td>10</td>\n",
       "      <td>10</td>\n",
       "      <td>2</td>\n",
       "      <td>14</td>\n",
       "    </tr>\n",
       "    <tr>\n",
       "      <th>1</th>\n",
       "      <td>2</td>\n",
       "      <td>3</td>\n",
       "      <td>2</td>\n",
       "      <td>1</td>\n",
       "      <td>16</td>\n",
       "      <td>2</td>\n",
       "      <td>7</td>\n",
       "      <td>70</td>\n",
       "      <td>2</td>\n",
       "      <td>1</td>\n",
       "      <td>...</td>\n",
       "      <td>2</td>\n",
       "      <td>US</td>\n",
       "      <td>2</td>\n",
       "      <td>2</td>\n",
       "      <td>2</td>\n",
       "      <td>10</td>\n",
       "      <td>10</td>\n",
       "      <td>5</td>\n",
       "      <td>2</td>\n",
       "      <td>8</td>\n",
       "    </tr>\n",
       "    <tr>\n",
       "      <th>2</th>\n",
       "      <td>2</td>\n",
       "      <td>3</td>\n",
       "      <td>2</td>\n",
       "      <td>2</td>\n",
       "      <td>17</td>\n",
       "      <td>1</td>\n",
       "      <td>4</td>\n",
       "      <td>60</td>\n",
       "      <td>1</td>\n",
       "      <td>1</td>\n",
       "      <td>...</td>\n",
       "      <td>1</td>\n",
       "      <td>PL</td>\n",
       "      <td>3</td>\n",
       "      <td>1</td>\n",
       "      <td>1</td>\n",
       "      <td>4</td>\n",
       "      <td>8</td>\n",
       "      <td>5</td>\n",
       "      <td>9</td>\n",
       "      <td>11</td>\n",
       "    </tr>\n",
       "    <tr>\n",
       "      <th>3</th>\n",
       "      <td>1</td>\n",
       "      <td>3</td>\n",
       "      <td>2</td>\n",
       "      <td>1</td>\n",
       "      <td>13</td>\n",
       "      <td>2</td>\n",
       "      <td>4</td>\n",
       "      <td>70</td>\n",
       "      <td>2</td>\n",
       "      <td>1</td>\n",
       "      <td>...</td>\n",
       "      <td>1</td>\n",
       "      <td>US</td>\n",
       "      <td>1</td>\n",
       "      <td>2</td>\n",
       "      <td>1</td>\n",
       "      <td>5</td>\n",
       "      <td>13</td>\n",
       "      <td>14</td>\n",
       "      <td>10</td>\n",
       "      <td>13</td>\n",
       "    </tr>\n",
       "    <tr>\n",
       "      <th>4</th>\n",
       "      <td>3</td>\n",
       "      <td>2</td>\n",
       "      <td>2</td>\n",
       "      <td>2</td>\n",
       "      <td>19</td>\n",
       "      <td>3</td>\n",
       "      <td>10</td>\n",
       "      <td>10</td>\n",
       "      <td>2</td>\n",
       "      <td>1</td>\n",
       "      <td>...</td>\n",
       "      <td>3</td>\n",
       "      <td>MY</td>\n",
       "      <td>2</td>\n",
       "      <td>3</td>\n",
       "      <td>2</td>\n",
       "      <td>5</td>\n",
       "      <td>8</td>\n",
       "      <td>5</td>\n",
       "      <td>5</td>\n",
       "      <td>10</td>\n",
       "    </tr>\n",
       "  </tbody>\n",
       "</table>\n",
       "<p>5 rows × 22 columns</p>\n",
       "</div>"
      ],
      "text/plain": [
       "   education  urban  gender  engnat  age  hand  religion  race  voted  \\\n",
       "0          2      3       2       2   16     1        12    10      2   \n",
       "1          2      3       2       1   16     2         7    70      2   \n",
       "2          2      3       2       2   17     1         4    60      1   \n",
       "3          1      3       2       1   13     2         4    70      2   \n",
       "4          3      2       2       2   19     3        10    10      2   \n",
       "\n",
       "   married  ...  level_v country  depr_level anx_level  str_level  \\\n",
       "0        1  ...        2      IN           2         3          3   \n",
       "1        1  ...        2      US           2         2          2   \n",
       "2        1  ...        1      PL           3         1          1   \n",
       "3        1  ...        1      US           1         2          1   \n",
       "4        1  ...        3      MY           2         3          2   \n",
       "\n",
       "   Extraversion  Agreeableness  Conscientiousness  Em_stability  Openness  \n",
       "0             2             10                 10             2        14  \n",
       "1            10             10                  5             2         8  \n",
       "2             4              8                  5             9        11  \n",
       "3             5             13                 14            10        13  \n",
       "4             5              8                  5             5        10  \n",
       "\n",
       "[5 rows x 22 columns]"
      ]
     },
     "execution_count": 225,
     "metadata": {},
     "output_type": "execute_result"
    }
   ],
   "source": [
    "personal_info.head()"
   ]
  },
  {
   "cell_type": "code",
   "execution_count": 231,
   "id": "346f5470",
   "metadata": {
    "scrolled": false
   },
   "outputs": [
    {
     "data": {
      "image/png": "[encoded data removed]",
      "text/plain": [
       "<Figure size 432x288 with 1 Axes>"
      ]
     },
     "metadata": {
      "needs_background": "light"
     },
     "output_type": "display_data"
    },
    {
     "data": {
      "image/png": "[encoded data removed]",
      "text/plain": [
       "<Figure size 432x288 with 1 Axes>"
      ]
     },
     "metadata": {
      "needs_background": "light"
     },
     "output_type": "display_data"
    },
    {
     "data": {
      "image/png": "[encoded data removed]",
      "text/plain": [
       "<Figure size 432x288 with 1 Axes>"
      ]
     },
     "metadata": {
      "needs_background": "light"
     },
     "output_type": "display_data"
    },
    {
     "data": {
      "image/png": "[encoded data removed]",
      "text/plain": [
       "<Figure size 432x288 with 1 Axes>"
      ]
     },
     "metadata": {
      "needs_background": "light"
     },
     "output_type": "display_data"
    },
    {
     "data": {
      "image/png": "[encoded data removed]",
      "text/plain": [
       "<Figure size 432x288 with 1 Axes>"
      ]
     },
     "metadata": {
      "needs_background": "light"
     },
     "output_type": "display_data"
    }
   ],
   "source": [
    "quality_names=['Extraversion', 'Agreeableness','Conscientiousness','Em_stability','Openness']\n",
    "for name in quality_names:\n",
    "    fig=plt.figure()\n",
    "    sns.countplot(x=personal_info[name])"
   ]
  },
  {
   "cell_type": "code",
   "execution_count": 226,
   "id": "ac557a99",
   "metadata": {
    "scrolled": false
   },
   "outputs": [
    {
     "data": {
      "image/png": "[encoded data removed]",
      "text/plain": [
       "<Figure size 432x288 with 1 Axes>"
      ]
     },
     "metadata": {
      "needs_background": "light"
     },
     "output_type": "display_data"
    },
    {
     "data": {
      "image/png": "[encoded data removed]",
      "text/plain": [
       "<Figure size 432x288 with 1 Axes>"
      ]
     },
     "metadata": {
      "needs_background": "light"
     },
     "output_type": "display_data"
    },
    {
     "data": {
      "image/png": "[encoded data removed]",
      "text/plain": [
       "<Figure size 432x288 with 1 Axes>"
      ]
     },
     "metadata": {
      "needs_background": "light"
     },
     "output_type": "display_data"
    },
    {
     "data": {
      "image/png": "[encoded data removed]",
      "text/plain": [
       "<Figure size 432x288 with 1 Axes>"
      ]
     },
     "metadata": {
      "needs_background": "light"
     },
     "output_type": "display_data"
    },
    {
     "data": {
      "image/png": "[encoded data removed]",
      "text/plain": [
       "<Figure size 432x288 with 1 Axes>"
      ]
     },
     "metadata": {
      "needs_background": "light"
     },
     "output_type": "display_data"
    }
   ],
   "source": [
    "for i in range(5):\n",
    "    fig=plt.figure()\n",
    "    sns.countplot(x=personal_info[quality_names[i]], hue=personal_info['depr_level'])"
   ]
  },
  {
   "cell_type": "markdown",
   "id": "ac21f609",
   "metadata": {},
   "source": [
    "В целом видно, что люди, оценивающие себя как замкнутые, эмоционально не стабильные, более склонны иметь выраженную депрессию"
   ]
  },
  {
   "cell_type": "code",
   "execution_count": 107,
   "id": "a654ff2a",
   "metadata": {},
   "outputs": [
    {
     "data": {
      "text/plain": [
       "<Axes: xlabel='education', ylabel='count'>"
      ]
     },
     "execution_count": 107,
     "metadata": {},
     "output_type": "execute_result"
    },
    {
     "data": {
      "image/png": "[encoded data removed]",
      "text/plain": [
       "<Figure size 640x480 with 1 Axes>"
      ]
     },
     "metadata": {},
     "output_type": "display_data"
    }
   ],
   "source": [
    "sns.countplot(x=personal_info['education'], hue=personal_info['depr_level'])"
   ]
  },
  {
   "cell_type": "markdown",
   "id": "bfb0a861",
   "metadata": {},
   "source": [
    "Среди людей с школьным образованием и ниже чаще встречаются проблемы с депрессией, чем среди людей с высшим образованием.\n",
    "\n",
    "Сколько лет тем, у кого низкий уровень образования?"
   ]
  },
  {
   "cell_type": "code",
   "execution_count": 175,
   "id": "728c7767",
   "metadata": {},
   "outputs": [
    {
     "data": {
      "text/plain": [
       "count    4541.000000\n",
       "mean       17.403435\n",
       "std         6.913227\n",
       "min        13.000000\n",
       "25%        15.000000\n",
       "50%        16.000000\n",
       "75%        17.000000\n",
       "max       115.000000\n",
       "Name: age, dtype: float64"
      ]
     },
     "execution_count": 175,
     "metadata": {},
     "output_type": "execute_result"
    }
   ],
   "source": [
    "personal_info[personal_info['education']==1]['age'].describe()"
   ]
  },
  {
   "cell_type": "markdown",
   "id": "709de375",
   "metadata": {},
   "source": [
    "В основном люди, не окончившие старшую школу - школьники, часть из которых её не поступала туда(наверное)"
   ]
  },
  {
   "cell_type": "code",
   "execution_count": 176,
   "id": "0f1039e5",
   "metadata": {},
   "outputs": [
    {
     "data": {
      "text/plain": [
       "count    14865.000000\n",
       "mean        21.316112\n",
       "std          7.766124\n",
       "min         13.000000\n",
       "25%         18.000000\n",
       "50%         19.000000\n",
       "75%         21.000000\n",
       "max        117.000000\n",
       "Name: age, dtype: float64"
      ]
     },
     "execution_count": 176,
     "metadata": {},
     "output_type": "execute_result"
    }
   ],
   "source": [
    "personal_info[personal_info['education']==2]['age'].describe()"
   ]
  },
  {
   "cell_type": "markdown",
   "id": "58e6b8a2",
   "metadata": {},
   "source": [
    "В основном люди, окончившие только старшую школу, по возрасту подходят под студентов"
   ]
  },
  {
   "cell_type": "code",
   "execution_count": 108,
   "id": "425ab7b5",
   "metadata": {},
   "outputs": [
    {
     "data": {
      "text/plain": [
       "count    851.000000\n",
       "mean      26.905993\n",
       "std       11.712059\n",
       "min       18.000000\n",
       "25%       19.000000\n",
       "50%       23.000000\n",
       "75%       29.500000\n",
       "max      115.000000\n",
       "Name: age, dtype: float64"
      ]
     },
     "execution_count": 108,
     "metadata": {},
     "output_type": "execute_result"
    }
   ],
   "source": [
    "personal_info[(personal_info['education']==1)&(personal_info['age']>17)]['age'].describe()"
   ]
  },
  {
   "cell_type": "code",
   "execution_count": 109,
   "id": "73e13006",
   "metadata": {},
   "outputs": [
    {
     "data": {
      "text/plain": [
       "count    3574.000000\n",
       "mean       30.881365\n",
       "std        10.980120\n",
       "min        22.000000\n",
       "25%        23.000000\n",
       "50%        26.000000\n",
       "75%        35.000000\n",
       "max       117.000000\n",
       "Name: age, dtype: float64"
      ]
     },
     "execution_count": 109,
     "metadata": {},
     "output_type": "execute_result"
    }
   ],
   "source": [
    "personal_info[(personal_info['education']==2)&(personal_info['age']>21)]['age'].describe()"
   ]
  },
  {
   "cell_type": "code",
   "execution_count": 227,
   "id": "f0d029d2",
   "metadata": {},
   "outputs": [
    {
     "data": {
      "text/plain": [
       "depr_level    1.0\n",
       "anx_level     1.0\n",
       "str_level     2.0\n",
       "dtype: float64"
      ]
     },
     "execution_count": 227,
     "metadata": {},
     "output_type": "execute_result"
    }
   ],
   "source": [
    "personal_info[personal_info['country']=='RU'][['depr_level', 'anx_level', 'str_level']].median()"
   ]
  },
  {
   "cell_type": "code",
   "execution_count": 228,
   "id": "8ca2271b",
   "metadata": {},
   "outputs": [
    {
     "data": {
      "text/plain": [
       "Extraversion          6.0\n",
       "Agreeableness         8.0\n",
       "Conscientiousness     8.0\n",
       "Em_stability          5.0\n",
       "Openness             11.0\n",
       "dtype: float64"
      ]
     },
     "execution_count": 228,
     "metadata": {},
     "output_type": "execute_result"
    }
   ],
   "source": [
    "personal_info[personal_info['country']=='RU'][quality_names].median()"
   ]
  },
  {
   "cell_type": "code",
   "execution_count": 133,
   "id": "147c23a9",
   "metadata": {},
   "outputs": [
    {
     "data": {
      "text/plain": [
       "<Axes: xlabel='hand', ylabel='count'>"
      ]
     },
     "execution_count": 133,
     "metadata": {},
     "output_type": "execute_result"
    },
    {
     "data": {
      "image/png": "[encoded data removed]",
      "text/plain": [
       "<Figure size 640x480 with 1 Axes>"
      ]
     },
     "metadata": {},
     "output_type": "display_data"
    }
   ],
   "source": [
    "sns.countplot(x=personal_info['hand'], hue=personal_info['str_level'])"
   ]
  },
  {
   "cell_type": "code",
   "execution_count": 138,
   "id": "26791644",
   "metadata": {
    "scrolled": false
   },
   "outputs": [
    {
     "data": {
      "image/png": "[encoded data removed]",
      "text/plain": [
       "<Figure size 640x480 with 1 Axes>"
      ]
     },
     "metadata": {},
     "output_type": "display_data"
    },
    {
     "data": {
      "image/png": "[encoded data removed]",
      "text/plain": [
       "<Figure size 640x480 with 1 Axes>"
      ]
     },
     "metadata": {},
     "output_type": "display_data"
    },
    {
     "data": {
      "image/png": "[encoded data removed]",
      "text/plain": [
       "<Figure size 640x480 with 1 Axes>"
      ]
     },
     "metadata": {},
     "output_type": "display_data"
    },
    {
     "data": {
      "image/png": "[encoded data removed]",
      "text/plain": [
       "<Figure size 640x480 with 1 Axes>"
      ]
     },
     "metadata": {},
     "output_type": "display_data"
    }
   ],
   "source": [
    "names=['urban','religion', 'education', 'married']\n",
    "for x in names:\n",
    "    fig=plt.figure()\n",
    "    sns.countplot(x=personal_info[x], hue=personal_info['depr_level'])"
   ]
  },
  {
   "cell_type": "markdown",
   "id": "6776fdb1",
   "metadata": {},
   "source": [
    "Так как большая часть учатников опроса проживают в Маллазии, не удивительно, что преобрадающая раса - азиаты, а религия - мусульмане. \n"
   ]
  },
  {
   "cell_type": "code",
   "execution_count": 140,
   "id": "06db2234",
   "metadata": {},
   "outputs": [
    {
     "data": {
      "text/plain": [
       "0    0.263777\n",
       "2    0.255281\n",
       "1    0.252282\n",
       "3    0.228660\n",
       "Name: depr_level, dtype: float64"
      ]
     },
     "execution_count": 140,
     "metadata": {},
     "output_type": "execute_result"
    }
   ],
   "source": [
    "personal_info[personal_info['gender']==2]['depr_level'].value_counts(normalize=True)"
   ]
  },
  {
   "cell_type": "code",
   "execution_count": 141,
   "id": "a2079ab5",
   "metadata": {},
   "outputs": [
    {
     "data": {
      "text/plain": [
       "0    0.295535\n",
       "2    0.243888\n",
       "1    0.243315\n",
       "3    0.217262\n",
       "Name: depr_level, dtype: float64"
      ]
     },
     "execution_count": 141,
     "metadata": {},
     "output_type": "execute_result"
    }
   ],
   "source": [
    "personal_info[personal_info['gender']==1]['depr_level'].value_counts(normalize=True)"
   ]
  },
  {
   "cell_type": "markdown",
   "id": "6554bb85",
   "metadata": {},
   "source": [
    "Среди мужчин доля людей с выраженной депрессией (15.5%) меньше, чем в случае с женщинами (22%)\n",
    "\n",
    "Также среди мужчин больше людей в норме (40%), чем среди женщин (31%)\n"
   ]
  },
  {
   "cell_type": "code",
   "execution_count": 229,
   "id": "dec60277",
   "metadata": {},
   "outputs": [
    {
     "data": {
      "text/html": [
       "<div>\n",
       "<style scoped>\n",
       "    .dataframe tbody tr th:only-of-type {\n",
       "        vertical-align: middle;\n",
       "    }\n",
       "\n",
       "    .dataframe tbody tr th {\n",
       "        vertical-align: top;\n",
       "    }\n",
       "\n",
       "    .dataframe thead th {\n",
       "        text-align: right;\n",
       "    }\n",
       "</style>\n",
       "<table border=\"1\" class=\"dataframe\">\n",
       "  <thead>\n",
       "    <tr style=\"text-align: right;\">\n",
       "      <th></th>\n",
       "      <th></th>\n",
       "      <th>depr_level</th>\n",
       "      <th>str_level</th>\n",
       "      <th>anx_level</th>\n",
       "    </tr>\n",
       "    <tr>\n",
       "      <th>education</th>\n",
       "      <th>urban</th>\n",
       "      <th></th>\n",
       "      <th></th>\n",
       "      <th></th>\n",
       "    </tr>\n",
       "  </thead>\n",
       "  <tbody>\n",
       "    <tr>\n",
       "      <th rowspan=\"3\" valign=\"top\">1</th>\n",
       "      <th>1</th>\n",
       "      <td>2</td>\n",
       "      <td>2</td>\n",
       "      <td>2</td>\n",
       "    </tr>\n",
       "    <tr>\n",
       "      <th>2</th>\n",
       "      <td>2</td>\n",
       "      <td>2</td>\n",
       "      <td>2</td>\n",
       "    </tr>\n",
       "    <tr>\n",
       "      <th>3</th>\n",
       "      <td>2</td>\n",
       "      <td>2</td>\n",
       "      <td>2</td>\n",
       "    </tr>\n",
       "    <tr>\n",
       "      <th rowspan=\"3\" valign=\"top\">2</th>\n",
       "      <th>1</th>\n",
       "      <td>2</td>\n",
       "      <td>2</td>\n",
       "      <td>2</td>\n",
       "    </tr>\n",
       "    <tr>\n",
       "      <th>2</th>\n",
       "      <td>2</td>\n",
       "      <td>2</td>\n",
       "      <td>1</td>\n",
       "    </tr>\n",
       "    <tr>\n",
       "      <th>3</th>\n",
       "      <td>2</td>\n",
       "      <td>2</td>\n",
       "      <td>2</td>\n",
       "    </tr>\n",
       "    <tr>\n",
       "      <th rowspan=\"3\" valign=\"top\">3</th>\n",
       "      <th>1</th>\n",
       "      <td>1</td>\n",
       "      <td>1</td>\n",
       "      <td>1</td>\n",
       "    </tr>\n",
       "    <tr>\n",
       "      <th>2</th>\n",
       "      <td>1</td>\n",
       "      <td>1</td>\n",
       "      <td>1</td>\n",
       "    </tr>\n",
       "    <tr>\n",
       "      <th>3</th>\n",
       "      <td>1</td>\n",
       "      <td>1</td>\n",
       "      <td>1</td>\n",
       "    </tr>\n",
       "    <tr>\n",
       "      <th rowspan=\"3\" valign=\"top\">4</th>\n",
       "      <th>1</th>\n",
       "      <td>1</td>\n",
       "      <td>1</td>\n",
       "      <td>1</td>\n",
       "    </tr>\n",
       "    <tr>\n",
       "      <th>2</th>\n",
       "      <td>1</td>\n",
       "      <td>1</td>\n",
       "      <td>1</td>\n",
       "    </tr>\n",
       "    <tr>\n",
       "      <th>3</th>\n",
       "      <td>1</td>\n",
       "      <td>1</td>\n",
       "      <td>1</td>\n",
       "    </tr>\n",
       "  </tbody>\n",
       "</table>\n",
       "</div>"
      ],
      "text/plain": [
       "                 depr_level  str_level  anx_level\n",
       "education urban                                  \n",
       "1         1               2          2          2\n",
       "          2               2          2          2\n",
       "          3               2          2          2\n",
       "2         1               2          2          2\n",
       "          2               2          2          1\n",
       "          3               2          2          2\n",
       "3         1               1          1          1\n",
       "          2               1          1          1\n",
       "          3               1          1          1\n",
       "4         1               1          1          1\n",
       "          2               1          1          1\n",
       "          3               1          1          1"
      ]
     },
     "execution_count": 229,
     "metadata": {},
     "output_type": "execute_result"
    }
   ],
   "source": [
    "personal_info.groupby(['education', 'urban'])[['depr_level', 'str_level','anx_level']].median()"
   ]
  },
  {
   "cell_type": "code",
   "execution_count": 230,
   "id": "092d5e36",
   "metadata": {},
   "outputs": [
    {
     "data": {
      "text/html": [
       "<div>\n",
       "<style scoped>\n",
       "    .dataframe tbody tr th:only-of-type {\n",
       "        vertical-align: middle;\n",
       "    }\n",
       "\n",
       "    .dataframe tbody tr th {\n",
       "        vertical-align: top;\n",
       "    }\n",
       "\n",
       "    .dataframe thead th {\n",
       "        text-align: right;\n",
       "    }\n",
       "</style>\n",
       "<table border=\"1\" class=\"dataframe\">\n",
       "  <thead>\n",
       "    <tr style=\"text-align: right;\">\n",
       "      <th></th>\n",
       "      <th></th>\n",
       "      <th>depr_level</th>\n",
       "      <th>str_level</th>\n",
       "      <th>anx_level</th>\n",
       "    </tr>\n",
       "    <tr>\n",
       "      <th>hand</th>\n",
       "      <th>engnat</th>\n",
       "      <th></th>\n",
       "      <th></th>\n",
       "      <th></th>\n",
       "    </tr>\n",
       "  </thead>\n",
       "  <tbody>\n",
       "    <tr>\n",
       "      <th rowspan=\"2\" valign=\"top\">1</th>\n",
       "      <th>1</th>\n",
       "      <td>2</td>\n",
       "      <td>2</td>\n",
       "      <td>1</td>\n",
       "    </tr>\n",
       "    <tr>\n",
       "      <th>2</th>\n",
       "      <td>1</td>\n",
       "      <td>1</td>\n",
       "      <td>1</td>\n",
       "    </tr>\n",
       "    <tr>\n",
       "      <th rowspan=\"2\" valign=\"top\">2</th>\n",
       "      <th>1</th>\n",
       "      <td>1</td>\n",
       "      <td>1</td>\n",
       "      <td>1</td>\n",
       "    </tr>\n",
       "    <tr>\n",
       "      <th>2</th>\n",
       "      <td>1</td>\n",
       "      <td>1</td>\n",
       "      <td>1</td>\n",
       "    </tr>\n",
       "    <tr>\n",
       "      <th rowspan=\"2\" valign=\"top\">3</th>\n",
       "      <th>1</th>\n",
       "      <td>2</td>\n",
       "      <td>2</td>\n",
       "      <td>2</td>\n",
       "    </tr>\n",
       "    <tr>\n",
       "      <th>2</th>\n",
       "      <td>2</td>\n",
       "      <td>2</td>\n",
       "      <td>2</td>\n",
       "    </tr>\n",
       "  </tbody>\n",
       "</table>\n",
       "</div>"
      ],
      "text/plain": [
       "             depr_level  str_level  anx_level\n",
       "hand engnat                                  \n",
       "1    1                2          2          1\n",
       "     2                1          1          1\n",
       "2    1                1          1          1\n",
       "     2                1          1          1\n",
       "3    1                2          2          2\n",
       "     2                2          2          2"
      ]
     },
     "execution_count": 230,
     "metadata": {},
     "output_type": "execute_result"
    }
   ],
   "source": [
    "personal_info.groupby(['hand', 'engnat'])[['depr_level', 'str_level','anx_level']].median()"
   ]
  },
  {
   "cell_type": "markdown",
   "id": "62bc4c1b",
   "metadata": {},
   "source": [
    "Построить графики для катег+непр данных, чтобы посмотреть на размер семьи и возраст"
   ]
  },
  {
   "cell_type": "code",
   "execution_count": 241,
   "id": "compact-setup",
   "metadata": {},
   "outputs": [
    {
     "data": {
      "text/plain": [
       "<AxesSubplot:xlabel='Extraversion', ylabel='age'>"
      ]
     },
     "execution_count": 241,
     "metadata": {},
     "output_type": "execute_result"
    },
    {
     "data": {
      "image/png": "[encoded data removed]",
      "text/plain": [
       "<Figure size 720x360 with 1 Axes>"
      ]
     },
     "metadata": {
      "needs_background": "light"
     },
     "output_type": "display_data"
    }
   ],
   "source": [
    "fig=plt.figure(figsize=(10,5))\n",
    "sns.boxplot(x=personal_info['Extraversion'], y=personal_info['age'])"
   ]
  },
  {
   "cell_type": "code",
   "execution_count": 245,
   "id": "8786e3ea",
   "metadata": {},
   "outputs": [
    {
     "data": {
      "text/plain": [
       "<AxesSubplot:xlabel='familysize', ylabel='count'>"
      ]
     },
     "execution_count": 245,
     "metadata": {},
     "output_type": "execute_result"
    },
    {
     "data": {
      "image/png": "[encoded data removed]",
      "text/plain": [
       "<Figure size 1080x504 with 1 Axes>"
      ]
     },
     "metadata": {
      "needs_background": "light"
     },
     "output_type": "display_data"
    }
   ],
   "source": [
    "fig=plt.figure(figsize=(15,7))\n",
    "sns.countplot(x=personal_info['familysize'], hue=personal_info['str_level'])"
   ]
  },
  {
   "cell_type": "markdown",
   "id": "english-tract",
   "metadata": {},
   "source": [
    "Поправить размер семьи=0"
   ]
  },
  {
   "cell_type": "code",
   "execution_count": 247,
   "id": "subject-cooperative",
   "metadata": {},
   "outputs": [
    {
     "data": {
      "text/plain": [
       "<AxesSubplot:xlabel='familysize', ylabel='count'>"
      ]
     },
     "execution_count": 247,
     "metadata": {},
     "output_type": "execute_result"
    },
    {
     "data": {
      "image/png": "[encoded data removed]",
      "text/plain": [
       "<Figure size 1080x504 with 1 Axes>"
      ]
     },
     "metadata": {
      "needs_background": "light"
     },
     "output_type": "display_data"
    }
   ],
   "source": [
    "fig=plt.figure(figsize=(15,7))\n",
    "sns.countplot(x=personal_info['familysize'], hue=personal_info['depr_level'])"
   ]
  },
  {
   "cell_type": "code",
   "execution_count": 251,
   "id": "auburn-significance",
   "metadata": {},
   "outputs": [
    {
     "data": {
      "text/plain": [
       "<AxesSubplot:xlabel='education', ylabel='count'>"
      ]
     },
     "execution_count": 251,
     "metadata": {},
     "output_type": "execute_result"
    },
    {
     "data": {
      "image/png": "[encoded data removed]",
      "text/plain": [
       "<Figure size 1080x504 with 1 Axes>"
      ]
     },
     "metadata": {
      "needs_background": "light"
     },
     "output_type": "display_data"
    }
   ],
   "source": [
    "fig=plt.figure(figsize=(15,7))\n",
    "sns.countplot(x=personal_info['education'], hue=personal_info['str_level'])"
   ]
  },
  {
   "cell_type": "markdown",
   "id": "centered-lucas",
   "metadata": {},
   "source": [
    "### Рассмотрим, как себя ведут группы похожих испытуемых"
   ]
  },
  {
   "cell_type": "markdown",
   "id": "anonymous-payment",
   "metadata": {},
   "source": [
    "Важен возраст, образование, родина (город/деревня), пол"
   ]
  },
  {
   "cell_type": "code",
   "execution_count": 273,
   "id": "possible-distance",
   "metadata": {},
   "outputs": [],
   "source": [
    "group1=((personal_info.age<20)&(personal_info.education==1)&(personal_info.urban==3)&(personal_info.gender==1))\n",
    "group2=((personal_info.age<20)&(personal_info.education==1)&(personal_info.urban==3)&(personal_info.gender==2))"
   ]
  },
  {
   "cell_type": "code",
   "execution_count": 275,
   "id": "mechanical-roman",
   "metadata": {},
   "outputs": [],
   "source": [
    "group3=((personal_info.age<20)&(personal_info.education==1)&(personal_info.urban==1)&(personal_info.gender==1))\n",
    "group4=((personal_info.age<20)&(personal_info.education==1)&(personal_info.urban==1)&(personal_info.gender==2))"
   ]
  },
  {
   "cell_type": "code",
   "execution_count": null,
   "id": "parliamentary-company",
   "metadata": {},
   "outputs": [],
   "source": []
  },
  {
   "cell_type": "code",
   "execution_count": 287,
   "id": "prime-vault",
   "metadata": {},
   "outputs": [
    {
     "data": {
      "text/plain": [
       "Text(0.5, 1.0, 'Female, country')"
      ]
     },
     "execution_count": 287,
     "metadata": {},
     "output_type": "execute_result"
    },
    {
     "data": {
      "image/png": "[encoded data removed]",
      "text/plain": [
       "<Figure size 1080x720 with 4 Axes>"
      ]
     },
     "metadata": {
      "needs_background": "light"
     },
     "output_type": "display_data"
    }
   ],
   "source": [
    "fig,ax=plt.subplots(2,2,figsize=(15,10), sharey=True)\n",
    "test='str_level'\n",
    "sns.countplot(data=personal_info.loc[group1, :], x=test, ax=ax[0,0])\n",
    "ax[0,0].set_title('Male, city')\n",
    "sns.countplot(data=personal_info.loc[group2, :], x=test, ax=ax[1,0])\n",
    "ax[1,0].set_title('Female, city')\n",
    "sns.countplot(data=personal_info.loc[group3, :], x=test, ax=ax[0,1])\n",
    "ax[0,1].set_title('Male, country')\n",
    "sns.countplot(data=personal_info.loc[group4, :], x=test, ax=ax[1,1])\n",
    "ax[1,1].set_title('Female, country')"
   ]
  },
  {
   "cell_type": "code",
   "execution_count": 288,
   "id": "matched-pocket",
   "metadata": {},
   "outputs": [],
   "source": [
    "group1=((personal_info.age<20)&(personal_info.education==2)&(personal_info.urban==3)&(personal_info.gender==1))\n",
    "group2=((personal_info.age<20)&(personal_info.education==2)&(personal_info.urban==3)&(personal_info.gender==2))\n",
    "group3=((personal_info.age<20)&(personal_info.education==2)&(personal_info.urban==1)&(personal_info.gender==1))\n",
    "group4=((personal_info.age<20)&(personal_info.education==2)&(personal_info.urban==1)&(personal_info.gender==2))"
   ]
  },
  {
   "cell_type": "code",
   "execution_count": 289,
   "id": "harmful-meaning",
   "metadata": {},
   "outputs": [
    {
     "data": {
      "text/plain": [
       "Text(0.5, 1.0, 'Female, country')"
      ]
     },
     "execution_count": 289,
     "metadata": {},
     "output_type": "execute_result"
    },
    {
     "data": {
      "image/png": "[encoded data removed]",
      "text/plain": [
       "<Figure size 1080x720 with 4 Axes>"
      ]
     },
     "metadata": {
      "needs_background": "light"
     },
     "output_type": "display_data"
    }
   ],
   "source": [
    "fig,ax=plt.subplots(2,2,figsize=(15,10), sharey=True)\n",
    "test='str_level'\n",
    "sns.countplot(data=personal_info.loc[group1, :], x=test, ax=ax[0,0])\n",
    "ax[0,0].set_title('Male, city')\n",
    "sns.countplot(data=personal_info.loc[group2, :], x=test, ax=ax[1,0])\n",
    "ax[1,0].set_title('Female, city')\n",
    "sns.countplot(data=personal_info.loc[group3, :], x=test, ax=ax[0,1])\n",
    "ax[0,1].set_title('Male, country')\n",
    "sns.countplot(data=personal_info.loc[group4, :], x=test, ax=ax[1,1])\n",
    "ax[1,1].set_title('Female, country')"
   ]
  },
  {
   "cell_type": "code",
   "execution_count": 290,
   "id": "visible-supplement",
   "metadata": {},
   "outputs": [],
   "source": [
    "group1=((personal_info.age>=20)&(personal_info.age<30)&(personal_info.education==2)&\\\n",
    "        (personal_info.urban==3)&(personal_info.gender==1))\n",
    "group2=((personal_info.age>=20)&(personal_info.age<30)&(personal_info.education==2)&\\\n",
    "        (personal_info.urban==3)&(personal_info.gender==2))\n",
    "group3=((personal_info.age>=20)&(personal_info.age<30)&(personal_info.education==2)&\\\n",
    "        (personal_info.urban==1)&(personal_info.gender==1))\n",
    "group4=((personal_info.age>=20)&(personal_info.age<30)&(personal_info.education==2)& \\\n",
    "        (personal_info.urban==1)&(personal_info.gender==2))"
   ]
  },
  {
   "cell_type": "code",
   "execution_count": 293,
   "id": "traditional-roman",
   "metadata": {},
   "outputs": [
    {
     "data": {
      "text/plain": [
       "Text(0.5, 1.0, 'Female, country')"
      ]
     },
     "execution_count": 293,
     "metadata": {},
     "output_type": "execute_result"
    },
    {
     "data": {
      "image/png": "[encoded data removed]",
      "text/plain": [
       "<Figure size 1080x720 with 4 Axes>"
      ]
     },
     "metadata": {
      "needs_background": "light"
     },
     "output_type": "display_data"
    }
   ],
   "source": [
    "fig,ax=plt.subplots(2,2,figsize=(15,10), sharey=True)\n",
    "test='anx_level'\n",
    "sns.countplot(data=personal_info.loc[group1, :], x=test, ax=ax[0,0])\n",
    "ax[0,0].set_title('Male, city')\n",
    "sns.countplot(data=personal_info.loc[group2, :], x=test, ax=ax[1,0])\n",
    "ax[1,0].set_title('Female, city')\n",
    "sns.countplot(data=personal_info.loc[group3, :], x=test, ax=ax[0,1])\n",
    "ax[0,1].set_title('Male, country')\n",
    "sns.countplot(data=personal_info.loc[group4, :], x=test, ax=ax[1,1])\n",
    "ax[1,1].set_title('Female, country')"
   ]
  },
  {
   "cell_type": "code",
   "execution_count": null,
   "id": "after-backup",
   "metadata": {},
   "outputs": [],
   "source": []
  }
 ],
 "metadata": {
  "kernelspec": {
   "display_name": "Python 3",
   "language": "python",
   "name": "python3"
  },
  "language_info": {
   "codemirror_mode": {
    "name": "ipython",
    "version": 3
   },
   "file_extension": ".py",
   "mimetype": "text/x-python",
   "name": "python",
   "nbconvert_exporter": "python",
   "pygments_lexer": "ipython3",
   "version": "3.8.8"
  }
 },
 "nbformat": 4,
 "nbformat_minor": 5
}
